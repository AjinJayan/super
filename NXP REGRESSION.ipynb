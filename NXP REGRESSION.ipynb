{
  "nbformat": 4,
  "nbformat_minor": 0,
  "metadata": {
    "colab": {
      "name": "NXP. NNipynb",
      "provenance": [],
      "collapsed_sections": [],
      "include_colab_link": true
    },
    "kernelspec": {
      "display_name": "Python 3",
      "name": "python3"
    },
    "language_info": {
      "name": "python"
    }
  },
  "cells": [
    {
      "cell_type": "markdown",
      "metadata": {
        "id": "view-in-github",
        "colab_type": "text"
      },
      "source": [
        "<a href=\"https://colab.research.google.com/github/AjinJayan/super/blob/master/NXP%20REGRESSION.ipynb\" target=\"_parent\"><img src=\"https://colab.research.google.com/assets/colab-badge.svg\" alt=\"Open In Colab\"/></a>"
      ]
    },
    {
      "cell_type": "code",
      "metadata": {
        "id": "D2XzSuZtWsP3"
      },
      "source": [
        "import pandas as pd\n",
        "import numpy as np"
      ],
      "execution_count": null,
      "outputs": []
    },
    {
      "cell_type": "code",
      "metadata": {
        "colab": {
          "base_uri": "https://localhost:8080/",
          "height": 424
        },
        "id": "B6N6pJX3okLs",
        "outputId": "2c539b93-1285-4f09-c61a-7cef0c27416a"
      },
      "source": [
        "\n",
        "#race = pd.read_csv(\"/content/race.csv\", names = ['speed','steer','m0_x0','m0_y0','m0_x1','m0_y1','m1_x0','m1_y0','m1_x1','m1_y1'])\n",
        "race = pd.read_csv(\"/content/data.csv\")\n",
        "#race = race.reset_index()\n",
        "#race = race.drop(['index'],axis=1)\n",
        "race"
      ],
      "execution_count": null,
      "outputs": [
        {
          "output_type": "execute_result",
          "data": {
            "text/html": [
              "<div>\n",
              "<style scoped>\n",
              "    .dataframe tbody tr th:only-of-type {\n",
              "        vertical-align: middle;\n",
              "    }\n",
              "\n",
              "    .dataframe tbody tr th {\n",
              "        vertical-align: top;\n",
              "    }\n",
              "\n",
              "    .dataframe thead th {\n",
              "        text-align: right;\n",
              "    }\n",
              "</style>\n",
              "<table border=\"1\" class=\"dataframe\">\n",
              "  <thead>\n",
              "    <tr style=\"text-align: right;\">\n",
              "      <th></th>\n",
              "      <th>speed</th>\n",
              "      <th>steer</th>\n",
              "      <th>m0_x0</th>\n",
              "      <th>m0_y0</th>\n",
              "      <th>m0_x1</th>\n",
              "      <th>m0_y1</th>\n",
              "      <th>m1_x0</th>\n",
              "      <th>m1_y0</th>\n",
              "      <th>m1_x1</th>\n",
              "      <th>m1_y1</th>\n",
              "    </tr>\n",
              "  </thead>\n",
              "  <tbody>\n",
              "    <tr>\n",
              "      <th>0</th>\n",
              "      <td>0.743291</td>\n",
              "      <td>0.035443</td>\n",
              "      <td>4</td>\n",
              "      <td>52</td>\n",
              "      <td>23</td>\n",
              "      <td>0</td>\n",
              "      <td>70</td>\n",
              "      <td>52</td>\n",
              "      <td>49</td>\n",
              "      <td>0</td>\n",
              "    </tr>\n",
              "    <tr>\n",
              "      <th>1</th>\n",
              "      <td>0.743291</td>\n",
              "      <td>0.035443</td>\n",
              "      <td>4</td>\n",
              "      <td>52</td>\n",
              "      <td>23</td>\n",
              "      <td>0</td>\n",
              "      <td>70</td>\n",
              "      <td>52</td>\n",
              "      <td>49</td>\n",
              "      <td>0</td>\n",
              "    </tr>\n",
              "    <tr>\n",
              "      <th>2</th>\n",
              "      <td>0.743291</td>\n",
              "      <td>0.035443</td>\n",
              "      <td>4</td>\n",
              "      <td>52</td>\n",
              "      <td>23</td>\n",
              "      <td>0</td>\n",
              "      <td>70</td>\n",
              "      <td>52</td>\n",
              "      <td>49</td>\n",
              "      <td>0</td>\n",
              "    </tr>\n",
              "    <tr>\n",
              "      <th>3</th>\n",
              "      <td>0.743291</td>\n",
              "      <td>0.035443</td>\n",
              "      <td>4</td>\n",
              "      <td>52</td>\n",
              "      <td>23</td>\n",
              "      <td>0</td>\n",
              "      <td>70</td>\n",
              "      <td>52</td>\n",
              "      <td>49</td>\n",
              "      <td>0</td>\n",
              "    </tr>\n",
              "    <tr>\n",
              "      <th>4</th>\n",
              "      <td>0.743291</td>\n",
              "      <td>0.035443</td>\n",
              "      <td>4</td>\n",
              "      <td>52</td>\n",
              "      <td>23</td>\n",
              "      <td>0</td>\n",
              "      <td>70</td>\n",
              "      <td>52</td>\n",
              "      <td>49</td>\n",
              "      <td>0</td>\n",
              "    </tr>\n",
              "    <tr>\n",
              "      <th>...</th>\n",
              "      <td>...</td>\n",
              "      <td>...</td>\n",
              "      <td>...</td>\n",
              "      <td>...</td>\n",
              "      <td>...</td>\n",
              "      <td>...</td>\n",
              "      <td>...</td>\n",
              "      <td>...</td>\n",
              "      <td>...</td>\n",
              "      <td>...</td>\n",
              "    </tr>\n",
              "    <tr>\n",
              "      <th>3637</th>\n",
              "      <td>0.791899</td>\n",
              "      <td>0.005063</td>\n",
              "      <td>14</td>\n",
              "      <td>52</td>\n",
              "      <td>26</td>\n",
              "      <td>0</td>\n",
              "      <td>72</td>\n",
              "      <td>36</td>\n",
              "      <td>52</td>\n",
              "      <td>0</td>\n",
              "    </tr>\n",
              "    <tr>\n",
              "      <th>3638</th>\n",
              "      <td>0.791899</td>\n",
              "      <td>0.005063</td>\n",
              "      <td>14</td>\n",
              "      <td>52</td>\n",
              "      <td>26</td>\n",
              "      <td>0</td>\n",
              "      <td>72</td>\n",
              "      <td>36</td>\n",
              "      <td>52</td>\n",
              "      <td>0</td>\n",
              "    </tr>\n",
              "    <tr>\n",
              "      <th>3639</th>\n",
              "      <td>0.791899</td>\n",
              "      <td>0.005063</td>\n",
              "      <td>14</td>\n",
              "      <td>52</td>\n",
              "      <td>26</td>\n",
              "      <td>0</td>\n",
              "      <td>72</td>\n",
              "      <td>36</td>\n",
              "      <td>52</td>\n",
              "      <td>0</td>\n",
              "    </tr>\n",
              "    <tr>\n",
              "      <th>3640</th>\n",
              "      <td>0.791899</td>\n",
              "      <td>0.005063</td>\n",
              "      <td>14</td>\n",
              "      <td>52</td>\n",
              "      <td>26</td>\n",
              "      <td>0</td>\n",
              "      <td>72</td>\n",
              "      <td>36</td>\n",
              "      <td>52</td>\n",
              "      <td>0</td>\n",
              "    </tr>\n",
              "    <tr>\n",
              "      <th>3641</th>\n",
              "      <td>0.791899</td>\n",
              "      <td>0.005063</td>\n",
              "      <td>14</td>\n",
              "      <td>52</td>\n",
              "      <td>26</td>\n",
              "      <td>0</td>\n",
              "      <td>72</td>\n",
              "      <td>36</td>\n",
              "      <td>52</td>\n",
              "      <td>0</td>\n",
              "    </tr>\n",
              "  </tbody>\n",
              "</table>\n",
              "<p>3642 rows × 10 columns</p>\n",
              "</div>"
            ],
            "text/plain": [
              "         speed     steer  m0_x0  m0_y0  ...  m1_x0  m1_y0  m1_x1  m1_y1\n",
              "0     0.743291  0.035443      4     52  ...     70     52     49      0\n",
              "1     0.743291  0.035443      4     52  ...     70     52     49      0\n",
              "2     0.743291  0.035443      4     52  ...     70     52     49      0\n",
              "3     0.743291  0.035443      4     52  ...     70     52     49      0\n",
              "4     0.743291  0.035443      4     52  ...     70     52     49      0\n",
              "...        ...       ...    ...    ...  ...    ...    ...    ...    ...\n",
              "3637  0.791899  0.005063     14     52  ...     72     36     52      0\n",
              "3638  0.791899  0.005063     14     52  ...     72     36     52      0\n",
              "3639  0.791899  0.005063     14     52  ...     72     36     52      0\n",
              "3640  0.791899  0.005063     14     52  ...     72     36     52      0\n",
              "3641  0.791899  0.005063     14     52  ...     72     36     52      0\n",
              "\n",
              "[3642 rows x 10 columns]"
            ]
          },
          "metadata": {
            "tags": []
          },
          "execution_count": 16
        }
      ]
    },
    {
      "cell_type": "code",
      "metadata": {
        "colab": {
          "base_uri": "https://localhost:8080/",
          "height": 300
        },
        "id": "KyY9yMQ7D27z",
        "outputId": "13f95620-c66f-4160-a0d1-aca47a496778"
      },
      "source": [
        "race.describe()"
      ],
      "execution_count": null,
      "outputs": [
        {
          "output_type": "execute_result",
          "data": {
            "text/html": [
              "<div>\n",
              "<style scoped>\n",
              "    .dataframe tbody tr th:only-of-type {\n",
              "        vertical-align: middle;\n",
              "    }\n",
              "\n",
              "    .dataframe tbody tr th {\n",
              "        vertical-align: top;\n",
              "    }\n",
              "\n",
              "    .dataframe thead th {\n",
              "        text-align: right;\n",
              "    }\n",
              "</style>\n",
              "<table border=\"1\" class=\"dataframe\">\n",
              "  <thead>\n",
              "    <tr style=\"text-align: right;\">\n",
              "      <th></th>\n",
              "      <th>speed</th>\n",
              "      <th>steer</th>\n",
              "      <th>m0_x0</th>\n",
              "      <th>m0_y0</th>\n",
              "      <th>m0_x1</th>\n",
              "      <th>m0_y1</th>\n",
              "      <th>m1_x0</th>\n",
              "      <th>m1_y0</th>\n",
              "      <th>m1_x1</th>\n",
              "      <th>m1_y1</th>\n",
              "    </tr>\n",
              "  </thead>\n",
              "  <tbody>\n",
              "    <tr>\n",
              "      <th>count</th>\n",
              "      <td>3642.000000</td>\n",
              "      <td>3642.000000</td>\n",
              "      <td>3642.000000</td>\n",
              "      <td>3642.000000</td>\n",
              "      <td>3642.000000</td>\n",
              "      <td>3642.000000</td>\n",
              "      <td>3642.000000</td>\n",
              "      <td>3642.000000</td>\n",
              "      <td>3642.000000</td>\n",
              "      <td>3642.000000</td>\n",
              "    </tr>\n",
              "    <tr>\n",
              "      <th>mean</th>\n",
              "      <td>0.726086</td>\n",
              "      <td>-0.003451</td>\n",
              "      <td>15.431356</td>\n",
              "      <td>49.572762</td>\n",
              "      <td>25.331686</td>\n",
              "      <td>2.155958</td>\n",
              "      <td>68.185612</td>\n",
              "      <td>34.143328</td>\n",
              "      <td>49.374794</td>\n",
              "      <td>0.642504</td>\n",
              "    </tr>\n",
              "    <tr>\n",
              "      <th>std</th>\n",
              "      <td>0.117512</td>\n",
              "      <td>0.086700</td>\n",
              "      <td>8.877038</td>\n",
              "      <td>10.970776</td>\n",
              "      <td>9.114839</td>\n",
              "      <td>9.760007</td>\n",
              "      <td>15.385020</td>\n",
              "      <td>10.694905</td>\n",
              "      <td>12.255221</td>\n",
              "      <td>5.745125</td>\n",
              "    </tr>\n",
              "    <tr>\n",
              "      <th>min</th>\n",
              "      <td>0.184586</td>\n",
              "      <td>-0.384634</td>\n",
              "      <td>0.000000</td>\n",
              "      <td>0.000000</td>\n",
              "      <td>0.000000</td>\n",
              "      <td>0.000000</td>\n",
              "      <td>0.000000</td>\n",
              "      <td>0.000000</td>\n",
              "      <td>0.000000</td>\n",
              "      <td>0.000000</td>\n",
              "    </tr>\n",
              "    <tr>\n",
              "      <th>25%</th>\n",
              "      <td>0.718987</td>\n",
              "      <td>-0.010127</td>\n",
              "      <td>12.000000</td>\n",
              "      <td>52.000000</td>\n",
              "      <td>24.000000</td>\n",
              "      <td>0.000000</td>\n",
              "      <td>72.000000</td>\n",
              "      <td>32.000000</td>\n",
              "      <td>49.000000</td>\n",
              "      <td>0.000000</td>\n",
              "    </tr>\n",
              "    <tr>\n",
              "      <th>50%</th>\n",
              "      <td>0.775696</td>\n",
              "      <td>-0.000000</td>\n",
              "      <td>13.000000</td>\n",
              "      <td>52.000000</td>\n",
              "      <td>27.000000</td>\n",
              "      <td>0.000000</td>\n",
              "      <td>72.000000</td>\n",
              "      <td>36.000000</td>\n",
              "      <td>52.000000</td>\n",
              "      <td>0.000000</td>\n",
              "    </tr>\n",
              "    <tr>\n",
              "      <th>75%</th>\n",
              "      <td>0.791899</td>\n",
              "      <td>0.025316</td>\n",
              "      <td>16.000000</td>\n",
              "      <td>52.000000</td>\n",
              "      <td>28.000000</td>\n",
              "      <td>0.000000</td>\n",
              "      <td>72.000000</td>\n",
              "      <td>38.000000</td>\n",
              "      <td>53.000000</td>\n",
              "      <td>0.000000</td>\n",
              "    </tr>\n",
              "    <tr>\n",
              "      <th>max</th>\n",
              "      <td>0.800000</td>\n",
              "      <td>0.212658</td>\n",
              "      <td>57.000000</td>\n",
              "      <td>52.000000</td>\n",
              "      <td>56.000000</td>\n",
              "      <td>51.000000</td>\n",
              "      <td>72.000000</td>\n",
              "      <td>52.000000</td>\n",
              "      <td>72.000000</td>\n",
              "      <td>52.000000</td>\n",
              "    </tr>\n",
              "  </tbody>\n",
              "</table>\n",
              "</div>"
            ],
            "text/plain": [
              "             speed        steer  ...        m1_x1        m1_y1\n",
              "count  3642.000000  3642.000000  ...  3642.000000  3642.000000\n",
              "mean      0.726086    -0.003451  ...    49.374794     0.642504\n",
              "std       0.117512     0.086700  ...    12.255221     5.745125\n",
              "min       0.184586    -0.384634  ...     0.000000     0.000000\n",
              "25%       0.718987    -0.010127  ...    49.000000     0.000000\n",
              "50%       0.775696    -0.000000  ...    52.000000     0.000000\n",
              "75%       0.791899     0.025316  ...    53.000000     0.000000\n",
              "max       0.800000     0.212658  ...    72.000000    52.000000\n",
              "\n",
              "[8 rows x 10 columns]"
            ]
          },
          "metadata": {
            "tags": []
          },
          "execution_count": 17
        }
      ]
    },
    {
      "cell_type": "code",
      "metadata": {
        "id": "D2d13nmJXBt-"
      },
      "source": [
        "from sklearn.model_selection import train_test_split\n",
        "race = race.drop(['speed'],axis=1)\n",
        "X = race.drop(['steer'],axis=1)\n",
        "y = race[['steer']]\n",
        "X_train, X_test, y_train, y_test = train_test_split(X, y , test_size=0.10, random_state=42)"
      ],
      "execution_count": null,
      "outputs": []
    },
    {
      "cell_type": "code",
      "metadata": {
        "id": "AkoJdcLookJG"
      },
      "source": [
        "from xgboost import XGBRegressor\n",
        "from sklearn.multioutput import MultiOutputRegressor"
      ],
      "execution_count": null,
      "outputs": []
    },
    {
      "cell_type": "code",
      "metadata": {
        "colab": {
          "base_uri": "https://localhost:8080/"
        },
        "id": "ci8BWfJJsicY",
        "outputId": "da127b4b-cb00-417c-8920-aa3745b5828b"
      },
      "source": [
        "#training\n",
        "model = XGBRegressor(n_estimators=1000, max_depth=7, learning_rate=0.01)\n",
        "model = MultiOutputRegressor(model)\n",
        "model.fit(X_train, y_train)\n",
        "#preds = model.predict(X_test)"
      ],
      "execution_count": null,
      "outputs": [
        {
          "output_type": "stream",
          "text": [
            "[06:23:36] WARNING: /workspace/src/objective/regression_obj.cu:152: reg:linear is now deprecated in favor of reg:squarederror.\n"
          ],
          "name": "stdout"
        },
        {
          "output_type": "execute_result",
          "data": {
            "text/plain": [
              "MultiOutputRegressor(estimator=XGBRegressor(base_score=0.5, booster='gbtree',\n",
              "                                            colsample_bylevel=1,\n",
              "                                            colsample_bynode=1,\n",
              "                                            colsample_bytree=1, gamma=0,\n",
              "                                            importance_type='gain',\n",
              "                                            learning_rate=0.01,\n",
              "                                            max_delta_step=0, max_depth=7,\n",
              "                                            min_child_weight=1, missing=None,\n",
              "                                            n_estimators=1000, n_jobs=1,\n",
              "                                            nthread=None,\n",
              "                                            objective='reg:linear',\n",
              "                                            random_state=0, reg_alpha=0,\n",
              "                                            reg_lambda=1, scale_pos_weight=1,\n",
              "                                            seed=None, silent=None, subsample=1,\n",
              "                                            verbosity=1),\n",
              "                     n_jobs=None)"
            ]
          },
          "metadata": {
            "tags": []
          },
          "execution_count": 20
        }
      ]
    },
    {
      "cell_type": "code",
      "metadata": {
        "id": "ppAVVEUmxoKB"
      },
      "source": [
        "#saving\n",
        "import pickle\n",
        "pickle.dump(model, open('xgb18.pkl', \"wb\"))"
      ],
      "execution_count": null,
      "outputs": []
    },
    {
      "cell_type": "code",
      "metadata": {
        "colab": {
          "base_uri": "https://localhost:8080/"
        },
        "id": "h6dqzVIjpX4u",
        "outputId": "0d0c0fe7-c578-4887-fb60-ab4c181c4409"
      },
      "source": [
        "#importing model\n",
        "xgb_model_loaded = pickle.load(open('xgb18.pkl', \"rb\"))\n",
        "xgb_model_loaded"
      ],
      "execution_count": null,
      "outputs": [
        {
          "output_type": "stream",
          "text": [
            "[06:23:48] WARNING: /workspace/src/objective/regression_obj.cu:152: reg:linear is now deprecated in favor of reg:squarederror.\n"
          ],
          "name": "stdout"
        },
        {
          "output_type": "execute_result",
          "data": {
            "text/plain": [
              "MultiOutputRegressor(estimator=XGBRegressor(base_score=0.5, booster='gbtree',\n",
              "                                            colsample_bylevel=1,\n",
              "                                            colsample_bynode=1,\n",
              "                                            colsample_bytree=1, gamma=0,\n",
              "                                            importance_type='gain',\n",
              "                                            learning_rate=0.01,\n",
              "                                            max_delta_step=0, max_depth=7,\n",
              "                                            min_child_weight=1, missing=nan,\n",
              "                                            n_estimators=1000, n_jobs=1,\n",
              "                                            nthread=None,\n",
              "                                            objective='reg:linear',\n",
              "                                            random_state=0, reg_alpha=0,\n",
              "                                            reg_lambda=1, scale_pos_weight=1,\n",
              "                                            seed=None, silent=None, subsample=1,\n",
              "                                            verbosity=1),\n",
              "                     n_jobs=None)"
            ]
          },
          "metadata": {
            "tags": []
          },
          "execution_count": 22
        }
      ]
    },
    {
      "cell_type": "code",
      "metadata": {
        "id": "s7ZB7I5Ws9FP"
      },
      "source": [
        "#preds = model.predict(X_test)\n",
        "preds = xgb_model_loaded.predict(X_test)"
      ],
      "execution_count": null,
      "outputs": []
    },
    {
      "cell_type": "code",
      "metadata": {
        "colab": {
          "base_uri": "https://localhost:8080/"
        },
        "id": "KfgnP5MvuUUP",
        "outputId": "a81526e9-7827-4e2e-d9d9-41ff6b922a8e"
      },
      "source": [
        "preds[:20].round(3), y_test[:20].round(3)"
      ],
      "execution_count": null,
      "outputs": [
        {
          "output_type": "execute_result",
          "data": {
            "text/plain": [
              "(array([[ 0.062],\n",
              "        [ 0.005],\n",
              "        [ 0.   ],\n",
              "        [ 0.   ],\n",
              "        [ 0.03 ],\n",
              "        [-0.292],\n",
              "        [ 0.055],\n",
              "        [ 0.005],\n",
              "        [ 0.   ],\n",
              "        [ 0.   ],\n",
              "        [-0.005],\n",
              "        [ 0.   ],\n",
              "        [ 0.03 ],\n",
              "        [ 0.02 ],\n",
              "        [-0.086],\n",
              "        [ 0.036],\n",
              "        [-0.096],\n",
              "        [ 0.025],\n",
              "        [ 0.01 ],\n",
              "        [ 0.01 ]], dtype=float32),       steer\n",
              " 415   0.061\n",
              " 3252  0.005\n",
              " 3193 -0.000\n",
              " 298  -0.000\n",
              " 1874  0.030\n",
              " 2691 -0.292\n",
              " 32    0.056\n",
              " 2862  0.005\n",
              " 2629 -0.000\n",
              " 3038 -0.000\n",
              " 657  -0.005\n",
              " 2972 -0.000\n",
              " 2538  0.030\n",
              " 2335  0.020\n",
              " 1831 -0.086\n",
              " 1044  0.035\n",
              " 2043 -0.096\n",
              " 1074  0.025\n",
              " 897   0.010\n",
              " 3230  0.010)"
            ]
          },
          "metadata": {
            "tags": []
          },
          "execution_count": 32
        }
      ]
    },
    {
      "cell_type": "code",
      "metadata": {
        "id": "AHpb7GVYokEJ"
      },
      "source": [
        ""
      ],
      "execution_count": null,
      "outputs": []
    },
    {
      "cell_type": "code",
      "metadata": {
        "id": "k2Qaz-m9okBe"
      },
      "source": [
        ""
      ],
      "execution_count": null,
      "outputs": []
    },
    {
      "cell_type": "code",
      "metadata": {
        "id": "P4OUTsSyoj9z"
      },
      "source": [
        ""
      ],
      "execution_count": null,
      "outputs": []
    },
    {
      "cell_type": "code",
      "metadata": {
        "id": "tAqkb1iToj6g"
      },
      "source": [
        ""
      ],
      "execution_count": null,
      "outputs": []
    },
    {
      "cell_type": "code",
      "metadata": {
        "id": "PIAqqc4roj35"
      },
      "source": [
        ""
      ],
      "execution_count": null,
      "outputs": []
    },
    {
      "cell_type": "code",
      "metadata": {
        "id": "7mupCMfbojxI"
      },
      "source": [
        "#unused codes"
      ],
      "execution_count": null,
      "outputs": []
    },
    {
      "cell_type": "code",
      "metadata": {
        "colab": {
          "base_uri": "https://localhost:8080/",
          "height": 424
        },
        "id": "BVmfMN0pWyPu",
        "outputId": "4793593b-38a2-45ed-e457-0251fe9104a1"
      },
      "source": [
        "#race = pd.read_csv(\"/content/race generated.csv\")\n",
        "#race = pd.read_csv(\"/content/race combined org.csv\")\n",
        "\n",
        "#Data\n",
        "race = pd.read_csv(\"/content/data race.csv\", names = ['speed','steer','m0_x0','m0_y0','m0_x1','m0_y1','m1_x0','m1_y0','m1_x1','m1_y1'])\n",
        "race = race.append(pd.read_csv(\"/content/data race 2.csv\", names = ['speed','steer','m0_x0','m0_y0','m0_x1','m0_y1','m1_x0','m1_y0','m1_x1','m1_y1']))\n",
        "race = race.append(pd.read_csv(\"/content/data race 3.csv\", names = ['speed','steer','m0_x0','m0_y0','m0_x1','m0_y1','m1_x0','m1_y0','m1_x1','m1_y1']))\n",
        "#race = race.append(pd.read_csv(\"/content/pred.csv\", names = ['speed','steer','m0_x0','m0_y0','m0_x1','m0_y1','m1_x0','m1_y0','m1_x1','m1_y1']))\n",
        "#race = race.append(pd.read_csv(\"/content/generated_08.csv\", names = ['speed','steer','m0_x0','m0_y0','m0_x1','m0_y1','m1_x0','m1_y0','m1_x1','m1_y1']))\n",
        "#race = race.append(pd.read_csv(\"/content/generated_85.csv\", names = ['speed','steer','m0_x0','m0_y0','m0_x1','m0_y1','m1_x0','m1_y0','m1_x1','m1_y1']))\n",
        "#ace = race.append(pd.read_csv(\"/content/data.csv\", names = ['speed','steer','m0_x0','m0_y0','m0_x1','m0_y1','m1_x0','m1_y0','m1_x1','m1_y1']))\n",
        "race = race.reset_index()\n",
        "race = race.drop(['index'],axis=1)\n",
        "race"
      ],
      "execution_count": null,
      "outputs": [
        {
          "output_type": "execute_result",
          "data": {
            "text/html": [
              "<div>\n",
              "<style scoped>\n",
              "    .dataframe tbody tr th:only-of-type {\n",
              "        vertical-align: middle;\n",
              "    }\n",
              "\n",
              "    .dataframe tbody tr th {\n",
              "        vertical-align: top;\n",
              "    }\n",
              "\n",
              "    .dataframe thead th {\n",
              "        text-align: right;\n",
              "    }\n",
              "</style>\n",
              "<table border=\"1\" class=\"dataframe\">\n",
              "  <thead>\n",
              "    <tr style=\"text-align: right;\">\n",
              "      <th></th>\n",
              "      <th>speed</th>\n",
              "      <th>steer</th>\n",
              "      <th>m0_x0</th>\n",
              "      <th>m0_y0</th>\n",
              "      <th>m0_x1</th>\n",
              "      <th>m0_y1</th>\n",
              "      <th>m1_x0</th>\n",
              "      <th>m1_y0</th>\n",
              "      <th>m1_x1</th>\n",
              "      <th>m1_y1</th>\n",
              "    </tr>\n",
              "  </thead>\n",
              "  <tbody>\n",
              "    <tr>\n",
              "      <th>0</th>\n",
              "      <td>0.0</td>\n",
              "      <td>0.0</td>\n",
              "      <td>7</td>\n",
              "      <td>86</td>\n",
              "      <td>38</td>\n",
              "      <td>0</td>\n",
              "      <td>116</td>\n",
              "      <td>86</td>\n",
              "      <td>82</td>\n",
              "      <td>0</td>\n",
              "    </tr>\n",
              "    <tr>\n",
              "      <th>1</th>\n",
              "      <td>0.0</td>\n",
              "      <td>0.0</td>\n",
              "      <td>7</td>\n",
              "      <td>86</td>\n",
              "      <td>38</td>\n",
              "      <td>0</td>\n",
              "      <td>116</td>\n",
              "      <td>86</td>\n",
              "      <td>82</td>\n",
              "      <td>0</td>\n",
              "    </tr>\n",
              "    <tr>\n",
              "      <th>2</th>\n",
              "      <td>0.0</td>\n",
              "      <td>0.0</td>\n",
              "      <td>7</td>\n",
              "      <td>86</td>\n",
              "      <td>38</td>\n",
              "      <td>0</td>\n",
              "      <td>116</td>\n",
              "      <td>86</td>\n",
              "      <td>82</td>\n",
              "      <td>0</td>\n",
              "    </tr>\n",
              "    <tr>\n",
              "      <th>3</th>\n",
              "      <td>0.0</td>\n",
              "      <td>0.0</td>\n",
              "      <td>7</td>\n",
              "      <td>86</td>\n",
              "      <td>38</td>\n",
              "      <td>0</td>\n",
              "      <td>116</td>\n",
              "      <td>86</td>\n",
              "      <td>82</td>\n",
              "      <td>0</td>\n",
              "    </tr>\n",
              "    <tr>\n",
              "      <th>4</th>\n",
              "      <td>0.0</td>\n",
              "      <td>0.0</td>\n",
              "      <td>7</td>\n",
              "      <td>86</td>\n",
              "      <td>38</td>\n",
              "      <td>0</td>\n",
              "      <td>117</td>\n",
              "      <td>86</td>\n",
              "      <td>82</td>\n",
              "      <td>0</td>\n",
              "    </tr>\n",
              "    <tr>\n",
              "      <th>...</th>\n",
              "      <td>...</td>\n",
              "      <td>...</td>\n",
              "      <td>...</td>\n",
              "      <td>...</td>\n",
              "      <td>...</td>\n",
              "      <td>...</td>\n",
              "      <td>...</td>\n",
              "      <td>...</td>\n",
              "      <td>...</td>\n",
              "      <td>...</td>\n",
              "    </tr>\n",
              "    <tr>\n",
              "      <th>182903</th>\n",
              "      <td>0.3</td>\n",
              "      <td>0.0</td>\n",
              "      <td>36</td>\n",
              "      <td>0</td>\n",
              "      <td>0</td>\n",
              "      <td>87</td>\n",
              "      <td>128</td>\n",
              "      <td>108</td>\n",
              "      <td>90</td>\n",
              "      <td>0</td>\n",
              "    </tr>\n",
              "    <tr>\n",
              "      <th>182904</th>\n",
              "      <td>0.3</td>\n",
              "      <td>0.0</td>\n",
              "      <td>36</td>\n",
              "      <td>0</td>\n",
              "      <td>0</td>\n",
              "      <td>87</td>\n",
              "      <td>128</td>\n",
              "      <td>108</td>\n",
              "      <td>90</td>\n",
              "      <td>0</td>\n",
              "    </tr>\n",
              "    <tr>\n",
              "      <th>182905</th>\n",
              "      <td>0.3</td>\n",
              "      <td>0.0</td>\n",
              "      <td>36</td>\n",
              "      <td>0</td>\n",
              "      <td>0</td>\n",
              "      <td>87</td>\n",
              "      <td>128</td>\n",
              "      <td>108</td>\n",
              "      <td>90</td>\n",
              "      <td>0</td>\n",
              "    </tr>\n",
              "    <tr>\n",
              "      <th>182906</th>\n",
              "      <td>0.3</td>\n",
              "      <td>0.0</td>\n",
              "      <td>36</td>\n",
              "      <td>0</td>\n",
              "      <td>0</td>\n",
              "      <td>87</td>\n",
              "      <td>128</td>\n",
              "      <td>108</td>\n",
              "      <td>90</td>\n",
              "      <td>0</td>\n",
              "    </tr>\n",
              "    <tr>\n",
              "      <th>182907</th>\n",
              "      <td>0.3</td>\n",
              "      <td>0.0</td>\n",
              "      <td>36</td>\n",
              "      <td>0</td>\n",
              "      <td>0</td>\n",
              "      <td>87</td>\n",
              "      <td>128</td>\n",
              "      <td>108</td>\n",
              "      <td>90</td>\n",
              "      <td>0</td>\n",
              "    </tr>\n",
              "  </tbody>\n",
              "</table>\n",
              "<p>182908 rows × 10 columns</p>\n",
              "</div>"
            ],
            "text/plain": [
              "        speed  steer  m0_x0  m0_y0  m0_x1  m0_y1  m1_x0  m1_y0  m1_x1  m1_y1\n",
              "0         0.0    0.0      7     86     38      0    116     86     82      0\n",
              "1         0.0    0.0      7     86     38      0    116     86     82      0\n",
              "2         0.0    0.0      7     86     38      0    116     86     82      0\n",
              "3         0.0    0.0      7     86     38      0    116     86     82      0\n",
              "4         0.0    0.0      7     86     38      0    117     86     82      0\n",
              "...       ...    ...    ...    ...    ...    ...    ...    ...    ...    ...\n",
              "182903    0.3    0.0     36      0      0     87    128    108     90      0\n",
              "182904    0.3    0.0     36      0      0     87    128    108     90      0\n",
              "182905    0.3    0.0     36      0      0     87    128    108     90      0\n",
              "182906    0.3    0.0     36      0      0     87    128    108     90      0\n",
              "182907    0.3    0.0     36      0      0     87    128    108     90      0\n",
              "\n",
              "[182908 rows x 10 columns]"
            ]
          },
          "metadata": {
            "tags": []
          },
          "execution_count": 7
        }
      ]
    },
    {
      "cell_type": "code",
      "metadata": {
        "id": "Yp3g8YUtrFog"
      },
      "source": [
        "race.to_csv('2_3 data.csv')"
      ],
      "execution_count": null,
      "outputs": []
    },
    {
      "cell_type": "code",
      "metadata": {
        "colab": {
          "base_uri": "https://localhost:8080/",
          "height": 424
        },
        "id": "fUptt16RN4XV",
        "outputId": "f3fbcbd4-02bc-444d-af75-3b8c0b8d72b7"
      },
      "source": [
        "race2 = pd.read_csv(\"/content/data race.csv\", names = ['speed','steer','m0_x0','m0_y0','m0_x1','m0_y1','m1_x0','m1_y0','m1_x1','m1_y1'])\n",
        "race2 = race.append(pd.read_csv(\"/content/data race 2.csv\", names = ['speed','steer','m0_x0','m0_y0','m0_x1','m0_y1','m1_x0','m1_y0','m1_x1','m1_y1']))\n",
        "race2 = race.append(pd.read_csv(\"/content/data race 3.csv\", names = ['speed','steer','m0_x0','m0_y0','m0_x1','m0_y1','m1_x0','m1_y0','m1_x1','m1_y1']))\n",
        "race2 = race2.reset_index()\n",
        "race2 = race2.drop(['index'],axis=1)\n",
        "race2"
      ],
      "execution_count": null,
      "outputs": [
        {
          "output_type": "execute_result",
          "data": {
            "text/html": [
              "<div>\n",
              "<style scoped>\n",
              "    .dataframe tbody tr th:only-of-type {\n",
              "        vertical-align: middle;\n",
              "    }\n",
              "\n",
              "    .dataframe tbody tr th {\n",
              "        vertical-align: top;\n",
              "    }\n",
              "\n",
              "    .dataframe thead th {\n",
              "        text-align: right;\n",
              "    }\n",
              "</style>\n",
              "<table border=\"1\" class=\"dataframe\">\n",
              "  <thead>\n",
              "    <tr style=\"text-align: right;\">\n",
              "      <th></th>\n",
              "      <th>speed</th>\n",
              "      <th>steer</th>\n",
              "      <th>m0_x0</th>\n",
              "      <th>m0_y0</th>\n",
              "      <th>m0_x1</th>\n",
              "      <th>m0_y1</th>\n",
              "      <th>m1_x0</th>\n",
              "      <th>m1_y0</th>\n",
              "      <th>m1_x1</th>\n",
              "      <th>m1_y1</th>\n",
              "    </tr>\n",
              "  </thead>\n",
              "  <tbody>\n",
              "    <tr>\n",
              "      <th>0</th>\n",
              "      <td>0.0</td>\n",
              "      <td>0.0</td>\n",
              "      <td>7</td>\n",
              "      <td>86</td>\n",
              "      <td>38</td>\n",
              "      <td>0</td>\n",
              "      <td>116</td>\n",
              "      <td>86</td>\n",
              "      <td>82</td>\n",
              "      <td>0</td>\n",
              "    </tr>\n",
              "    <tr>\n",
              "      <th>1</th>\n",
              "      <td>0.0</td>\n",
              "      <td>0.0</td>\n",
              "      <td>7</td>\n",
              "      <td>86</td>\n",
              "      <td>38</td>\n",
              "      <td>0</td>\n",
              "      <td>116</td>\n",
              "      <td>86</td>\n",
              "      <td>82</td>\n",
              "      <td>0</td>\n",
              "    </tr>\n",
              "    <tr>\n",
              "      <th>2</th>\n",
              "      <td>0.0</td>\n",
              "      <td>0.0</td>\n",
              "      <td>7</td>\n",
              "      <td>86</td>\n",
              "      <td>38</td>\n",
              "      <td>0</td>\n",
              "      <td>116</td>\n",
              "      <td>86</td>\n",
              "      <td>82</td>\n",
              "      <td>0</td>\n",
              "    </tr>\n",
              "    <tr>\n",
              "      <th>3</th>\n",
              "      <td>0.0</td>\n",
              "      <td>0.0</td>\n",
              "      <td>7</td>\n",
              "      <td>86</td>\n",
              "      <td>38</td>\n",
              "      <td>0</td>\n",
              "      <td>116</td>\n",
              "      <td>86</td>\n",
              "      <td>82</td>\n",
              "      <td>0</td>\n",
              "    </tr>\n",
              "    <tr>\n",
              "      <th>4</th>\n",
              "      <td>0.0</td>\n",
              "      <td>0.0</td>\n",
              "      <td>7</td>\n",
              "      <td>86</td>\n",
              "      <td>38</td>\n",
              "      <td>0</td>\n",
              "      <td>117</td>\n",
              "      <td>86</td>\n",
              "      <td>82</td>\n",
              "      <td>0</td>\n",
              "    </tr>\n",
              "    <tr>\n",
              "      <th>...</th>\n",
              "      <td>...</td>\n",
              "      <td>...</td>\n",
              "      <td>...</td>\n",
              "      <td>...</td>\n",
              "      <td>...</td>\n",
              "      <td>...</td>\n",
              "      <td>...</td>\n",
              "      <td>...</td>\n",
              "      <td>...</td>\n",
              "      <td>...</td>\n",
              "    </tr>\n",
              "    <tr>\n",
              "      <th>182903</th>\n",
              "      <td>0.3</td>\n",
              "      <td>0.0</td>\n",
              "      <td>36</td>\n",
              "      <td>0</td>\n",
              "      <td>0</td>\n",
              "      <td>87</td>\n",
              "      <td>128</td>\n",
              "      <td>108</td>\n",
              "      <td>90</td>\n",
              "      <td>0</td>\n",
              "    </tr>\n",
              "    <tr>\n",
              "      <th>182904</th>\n",
              "      <td>0.3</td>\n",
              "      <td>0.0</td>\n",
              "      <td>36</td>\n",
              "      <td>0</td>\n",
              "      <td>0</td>\n",
              "      <td>87</td>\n",
              "      <td>128</td>\n",
              "      <td>108</td>\n",
              "      <td>90</td>\n",
              "      <td>0</td>\n",
              "    </tr>\n",
              "    <tr>\n",
              "      <th>182905</th>\n",
              "      <td>0.3</td>\n",
              "      <td>0.0</td>\n",
              "      <td>36</td>\n",
              "      <td>0</td>\n",
              "      <td>0</td>\n",
              "      <td>87</td>\n",
              "      <td>128</td>\n",
              "      <td>108</td>\n",
              "      <td>90</td>\n",
              "      <td>0</td>\n",
              "    </tr>\n",
              "    <tr>\n",
              "      <th>182906</th>\n",
              "      <td>0.3</td>\n",
              "      <td>0.0</td>\n",
              "      <td>36</td>\n",
              "      <td>0</td>\n",
              "      <td>0</td>\n",
              "      <td>87</td>\n",
              "      <td>128</td>\n",
              "      <td>108</td>\n",
              "      <td>90</td>\n",
              "      <td>0</td>\n",
              "    </tr>\n",
              "    <tr>\n",
              "      <th>182907</th>\n",
              "      <td>0.3</td>\n",
              "      <td>0.0</td>\n",
              "      <td>36</td>\n",
              "      <td>0</td>\n",
              "      <td>0</td>\n",
              "      <td>87</td>\n",
              "      <td>128</td>\n",
              "      <td>108</td>\n",
              "      <td>90</td>\n",
              "      <td>0</td>\n",
              "    </tr>\n",
              "  </tbody>\n",
              "</table>\n",
              "<p>182908 rows × 10 columns</p>\n",
              "</div>"
            ],
            "text/plain": [
              "        speed  steer  m0_x0  m0_y0  m0_x1  m0_y1  m1_x0  m1_y0  m1_x1  m1_y1\n",
              "0         0.0    0.0      7     86     38      0    116     86     82      0\n",
              "1         0.0    0.0      7     86     38      0    116     86     82      0\n",
              "2         0.0    0.0      7     86     38      0    116     86     82      0\n",
              "3         0.0    0.0      7     86     38      0    116     86     82      0\n",
              "4         0.0    0.0      7     86     38      0    117     86     82      0\n",
              "...       ...    ...    ...    ...    ...    ...    ...    ...    ...    ...\n",
              "182903    0.3    0.0     36      0      0     87    128    108     90      0\n",
              "182904    0.3    0.0     36      0      0     87    128    108     90      0\n",
              "182905    0.3    0.0     36      0      0     87    128    108     90      0\n",
              "182906    0.3    0.0     36      0      0     87    128    108     90      0\n",
              "182907    0.3    0.0     36      0      0     87    128    108     90      0\n",
              "\n",
              "[182908 rows x 10 columns]"
            ]
          },
          "metadata": {
            "tags": []
          },
          "execution_count": 31
        }
      ]
    },
    {
      "cell_type": "code",
      "metadata": {
        "colab": {
          "base_uri": "https://localhost:8080/",
          "height": 424
        },
        "id": "SM6hltxyxnpW",
        "outputId": "9c9898c5-a6ec-4fd7-a5a9-141b26499f1e"
      },
      "source": [
        "import math\n",
        "race['m1'] = (race['m0_y0']-race['m0_y1'])/(race['m0_x0']-race['m0_x1'])\n",
        "race['m2'] = (race['m1_y0']-race['m1_y1'])/(race['m1_x0']-race['m1_x1'])\n",
        "race = race.reset_index()\n",
        "race = race.drop(['index'],axis=1)\n",
        "race"
      ],
      "execution_count": null,
      "outputs": [
        {
          "output_type": "execute_result",
          "data": {
            "text/html": [
              "<div>\n",
              "<style scoped>\n",
              "    .dataframe tbody tr th:only-of-type {\n",
              "        vertical-align: middle;\n",
              "    }\n",
              "\n",
              "    .dataframe tbody tr th {\n",
              "        vertical-align: top;\n",
              "    }\n",
              "\n",
              "    .dataframe thead th {\n",
              "        text-align: right;\n",
              "    }\n",
              "</style>\n",
              "<table border=\"1\" class=\"dataframe\">\n",
              "  <thead>\n",
              "    <tr style=\"text-align: right;\">\n",
              "      <th></th>\n",
              "      <th>speed</th>\n",
              "      <th>steer</th>\n",
              "      <th>m0_x0</th>\n",
              "      <th>m0_y0</th>\n",
              "      <th>m0_x1</th>\n",
              "      <th>m0_y1</th>\n",
              "      <th>m1_x0</th>\n",
              "      <th>m1_y0</th>\n",
              "      <th>m1_x1</th>\n",
              "      <th>m1_y1</th>\n",
              "      <th>m1</th>\n",
              "      <th>m2</th>\n",
              "    </tr>\n",
              "  </thead>\n",
              "  <tbody>\n",
              "    <tr>\n",
              "      <th>0</th>\n",
              "      <td>0.0</td>\n",
              "      <td>0.0</td>\n",
              "      <td>4</td>\n",
              "      <td>52</td>\n",
              "      <td>23</td>\n",
              "      <td>0</td>\n",
              "      <td>69</td>\n",
              "      <td>52</td>\n",
              "      <td>49</td>\n",
              "      <td>0</td>\n",
              "      <td>-2.736842</td>\n",
              "      <td>2.600000</td>\n",
              "    </tr>\n",
              "    <tr>\n",
              "      <th>1</th>\n",
              "      <td>0.0</td>\n",
              "      <td>0.0</td>\n",
              "      <td>4</td>\n",
              "      <td>52</td>\n",
              "      <td>23</td>\n",
              "      <td>0</td>\n",
              "      <td>69</td>\n",
              "      <td>52</td>\n",
              "      <td>49</td>\n",
              "      <td>0</td>\n",
              "      <td>-2.736842</td>\n",
              "      <td>2.600000</td>\n",
              "    </tr>\n",
              "    <tr>\n",
              "      <th>2</th>\n",
              "      <td>0.0</td>\n",
              "      <td>0.0</td>\n",
              "      <td>4</td>\n",
              "      <td>52</td>\n",
              "      <td>23</td>\n",
              "      <td>0</td>\n",
              "      <td>69</td>\n",
              "      <td>52</td>\n",
              "      <td>49</td>\n",
              "      <td>0</td>\n",
              "      <td>-2.736842</td>\n",
              "      <td>2.600000</td>\n",
              "    </tr>\n",
              "    <tr>\n",
              "      <th>3</th>\n",
              "      <td>0.0</td>\n",
              "      <td>0.0</td>\n",
              "      <td>4</td>\n",
              "      <td>52</td>\n",
              "      <td>23</td>\n",
              "      <td>0</td>\n",
              "      <td>69</td>\n",
              "      <td>52</td>\n",
              "      <td>49</td>\n",
              "      <td>0</td>\n",
              "      <td>-2.736842</td>\n",
              "      <td>2.600000</td>\n",
              "    </tr>\n",
              "    <tr>\n",
              "      <th>4</th>\n",
              "      <td>0.0</td>\n",
              "      <td>0.0</td>\n",
              "      <td>4</td>\n",
              "      <td>52</td>\n",
              "      <td>23</td>\n",
              "      <td>0</td>\n",
              "      <td>69</td>\n",
              "      <td>52</td>\n",
              "      <td>49</td>\n",
              "      <td>0</td>\n",
              "      <td>-2.736842</td>\n",
              "      <td>2.600000</td>\n",
              "    </tr>\n",
              "    <tr>\n",
              "      <th>...</th>\n",
              "      <td>...</td>\n",
              "      <td>...</td>\n",
              "      <td>...</td>\n",
              "      <td>...</td>\n",
              "      <td>...</td>\n",
              "      <td>...</td>\n",
              "      <td>...</td>\n",
              "      <td>...</td>\n",
              "      <td>...</td>\n",
              "      <td>...</td>\n",
              "      <td>...</td>\n",
              "      <td>...</td>\n",
              "    </tr>\n",
              "    <tr>\n",
              "      <th>107957</th>\n",
              "      <td>0.8</td>\n",
              "      <td>0.0</td>\n",
              "      <td>21</td>\n",
              "      <td>0</td>\n",
              "      <td>0</td>\n",
              "      <td>44</td>\n",
              "      <td>61</td>\n",
              "      <td>52</td>\n",
              "      <td>47</td>\n",
              "      <td>0</td>\n",
              "      <td>-2.095238</td>\n",
              "      <td>3.714286</td>\n",
              "    </tr>\n",
              "    <tr>\n",
              "      <th>107958</th>\n",
              "      <td>0.8</td>\n",
              "      <td>0.0</td>\n",
              "      <td>21</td>\n",
              "      <td>0</td>\n",
              "      <td>0</td>\n",
              "      <td>44</td>\n",
              "      <td>61</td>\n",
              "      <td>52</td>\n",
              "      <td>47</td>\n",
              "      <td>0</td>\n",
              "      <td>-2.095238</td>\n",
              "      <td>3.714286</td>\n",
              "    </tr>\n",
              "    <tr>\n",
              "      <th>107959</th>\n",
              "      <td>0.8</td>\n",
              "      <td>0.0</td>\n",
              "      <td>21</td>\n",
              "      <td>0</td>\n",
              "      <td>0</td>\n",
              "      <td>44</td>\n",
              "      <td>62</td>\n",
              "      <td>52</td>\n",
              "      <td>47</td>\n",
              "      <td>0</td>\n",
              "      <td>-2.095238</td>\n",
              "      <td>3.466667</td>\n",
              "    </tr>\n",
              "    <tr>\n",
              "      <th>107960</th>\n",
              "      <td>0.8</td>\n",
              "      <td>0.0</td>\n",
              "      <td>21</td>\n",
              "      <td>0</td>\n",
              "      <td>0</td>\n",
              "      <td>44</td>\n",
              "      <td>62</td>\n",
              "      <td>52</td>\n",
              "      <td>47</td>\n",
              "      <td>0</td>\n",
              "      <td>-2.095238</td>\n",
              "      <td>3.466667</td>\n",
              "    </tr>\n",
              "    <tr>\n",
              "      <th>107961</th>\n",
              "      <td>0.8</td>\n",
              "      <td>0.0</td>\n",
              "      <td>21</td>\n",
              "      <td>0</td>\n",
              "      <td>0</td>\n",
              "      <td>44</td>\n",
              "      <td>62</td>\n",
              "      <td>52</td>\n",
              "      <td>47</td>\n",
              "      <td>0</td>\n",
              "      <td>-2.095238</td>\n",
              "      <td>3.466667</td>\n",
              "    </tr>\n",
              "  </tbody>\n",
              "</table>\n",
              "<p>107962 rows × 12 columns</p>\n",
              "</div>"
            ],
            "text/plain": [
              "        speed  steer  m0_x0  m0_y0  ...  m1_x1  m1_y1        m1        m2\n",
              "0         0.0    0.0      4     52  ...     49      0 -2.736842  2.600000\n",
              "1         0.0    0.0      4     52  ...     49      0 -2.736842  2.600000\n",
              "2         0.0    0.0      4     52  ...     49      0 -2.736842  2.600000\n",
              "3         0.0    0.0      4     52  ...     49      0 -2.736842  2.600000\n",
              "4         0.0    0.0      4     52  ...     49      0 -2.736842  2.600000\n",
              "...       ...    ...    ...    ...  ...    ...    ...       ...       ...\n",
              "107957    0.8    0.0     21      0  ...     47      0 -2.095238  3.714286\n",
              "107958    0.8    0.0     21      0  ...     47      0 -2.095238  3.714286\n",
              "107959    0.8    0.0     21      0  ...     47      0 -2.095238  3.466667\n",
              "107960    0.8    0.0     21      0  ...     47      0 -2.095238  3.466667\n",
              "107961    0.8    0.0     21      0  ...     47      0 -2.095238  3.466667\n",
              "\n",
              "[107962 rows x 12 columns]"
            ]
          },
          "metadata": {
            "tags": []
          },
          "execution_count": 9
        }
      ]
    },
    {
      "cell_type": "code",
      "metadata": {
        "colab": {
          "base_uri": "https://localhost:8080/",
          "height": 458
        },
        "id": "cFY0sKIe0I5r",
        "outputId": "db99d1e5-c665-42f6-f426-b07201fa27dd"
      },
      "source": [
        "angle = []\n",
        "for i in range(len(race)):\n",
        "  angle.append(math.degrees(math.atan(((race['m1'][i]-race['m2'][i])/(1+race['m1'][i]*race['m2'][i])))))\n",
        "race['angle'] = angle\n",
        "race"
      ],
      "execution_count": null,
      "outputs": [
        {
          "output_type": "stream",
          "text": [
            "/usr/local/lib/python3.7/dist-packages/ipykernel_launcher.py:3: RuntimeWarning: invalid value encountered in double_scalars\n",
            "  This is separate from the ipykernel package so we can avoid doing imports until\n"
          ],
          "name": "stderr"
        },
        {
          "output_type": "execute_result",
          "data": {
            "text/html": [
              "<div>\n",
              "<style scoped>\n",
              "    .dataframe tbody tr th:only-of-type {\n",
              "        vertical-align: middle;\n",
              "    }\n",
              "\n",
              "    .dataframe tbody tr th {\n",
              "        vertical-align: top;\n",
              "    }\n",
              "\n",
              "    .dataframe thead th {\n",
              "        text-align: right;\n",
              "    }\n",
              "</style>\n",
              "<table border=\"1\" class=\"dataframe\">\n",
              "  <thead>\n",
              "    <tr style=\"text-align: right;\">\n",
              "      <th></th>\n",
              "      <th>speed</th>\n",
              "      <th>steer</th>\n",
              "      <th>m0_x0</th>\n",
              "      <th>m0_y0</th>\n",
              "      <th>m0_x1</th>\n",
              "      <th>m0_y1</th>\n",
              "      <th>m1_x0</th>\n",
              "      <th>m1_y0</th>\n",
              "      <th>m1_x1</th>\n",
              "      <th>m1_y1</th>\n",
              "      <th>m1</th>\n",
              "      <th>m2</th>\n",
              "      <th>angle</th>\n",
              "    </tr>\n",
              "  </thead>\n",
              "  <tbody>\n",
              "    <tr>\n",
              "      <th>0</th>\n",
              "      <td>0.0</td>\n",
              "      <td>0.0</td>\n",
              "      <td>4</td>\n",
              "      <td>52</td>\n",
              "      <td>23</td>\n",
              "      <td>0</td>\n",
              "      <td>69</td>\n",
              "      <td>52</td>\n",
              "      <td>49</td>\n",
              "      <td>0</td>\n",
              "      <td>-2.736842</td>\n",
              "      <td>2.600000</td>\n",
              "      <td>41.109037</td>\n",
              "    </tr>\n",
              "    <tr>\n",
              "      <th>1</th>\n",
              "      <td>0.0</td>\n",
              "      <td>0.0</td>\n",
              "      <td>4</td>\n",
              "      <td>52</td>\n",
              "      <td>23</td>\n",
              "      <td>0</td>\n",
              "      <td>69</td>\n",
              "      <td>52</td>\n",
              "      <td>49</td>\n",
              "      <td>0</td>\n",
              "      <td>-2.736842</td>\n",
              "      <td>2.600000</td>\n",
              "      <td>41.109037</td>\n",
              "    </tr>\n",
              "    <tr>\n",
              "      <th>2</th>\n",
              "      <td>0.0</td>\n",
              "      <td>0.0</td>\n",
              "      <td>4</td>\n",
              "      <td>52</td>\n",
              "      <td>23</td>\n",
              "      <td>0</td>\n",
              "      <td>69</td>\n",
              "      <td>52</td>\n",
              "      <td>49</td>\n",
              "      <td>0</td>\n",
              "      <td>-2.736842</td>\n",
              "      <td>2.600000</td>\n",
              "      <td>41.109037</td>\n",
              "    </tr>\n",
              "    <tr>\n",
              "      <th>3</th>\n",
              "      <td>0.0</td>\n",
              "      <td>0.0</td>\n",
              "      <td>4</td>\n",
              "      <td>52</td>\n",
              "      <td>23</td>\n",
              "      <td>0</td>\n",
              "      <td>69</td>\n",
              "      <td>52</td>\n",
              "      <td>49</td>\n",
              "      <td>0</td>\n",
              "      <td>-2.736842</td>\n",
              "      <td>2.600000</td>\n",
              "      <td>41.109037</td>\n",
              "    </tr>\n",
              "    <tr>\n",
              "      <th>4</th>\n",
              "      <td>0.0</td>\n",
              "      <td>0.0</td>\n",
              "      <td>4</td>\n",
              "      <td>52</td>\n",
              "      <td>23</td>\n",
              "      <td>0</td>\n",
              "      <td>69</td>\n",
              "      <td>52</td>\n",
              "      <td>49</td>\n",
              "      <td>0</td>\n",
              "      <td>-2.736842</td>\n",
              "      <td>2.600000</td>\n",
              "      <td>41.109037</td>\n",
              "    </tr>\n",
              "    <tr>\n",
              "      <th>...</th>\n",
              "      <td>...</td>\n",
              "      <td>...</td>\n",
              "      <td>...</td>\n",
              "      <td>...</td>\n",
              "      <td>...</td>\n",
              "      <td>...</td>\n",
              "      <td>...</td>\n",
              "      <td>...</td>\n",
              "      <td>...</td>\n",
              "      <td>...</td>\n",
              "      <td>...</td>\n",
              "      <td>...</td>\n",
              "      <td>...</td>\n",
              "    </tr>\n",
              "    <tr>\n",
              "      <th>107957</th>\n",
              "      <td>0.8</td>\n",
              "      <td>0.0</td>\n",
              "      <td>21</td>\n",
              "      <td>0</td>\n",
              "      <td>0</td>\n",
              "      <td>44</td>\n",
              "      <td>61</td>\n",
              "      <td>52</td>\n",
              "      <td>47</td>\n",
              "      <td>0</td>\n",
              "      <td>-2.095238</td>\n",
              "      <td>3.714286</td>\n",
              "      <td>40.582359</td>\n",
              "    </tr>\n",
              "    <tr>\n",
              "      <th>107958</th>\n",
              "      <td>0.8</td>\n",
              "      <td>0.0</td>\n",
              "      <td>21</td>\n",
              "      <td>0</td>\n",
              "      <td>0</td>\n",
              "      <td>44</td>\n",
              "      <td>61</td>\n",
              "      <td>52</td>\n",
              "      <td>47</td>\n",
              "      <td>0</td>\n",
              "      <td>-2.095238</td>\n",
              "      <td>3.714286</td>\n",
              "      <td>40.582359</td>\n",
              "    </tr>\n",
              "    <tr>\n",
              "      <th>107959</th>\n",
              "      <td>0.8</td>\n",
              "      <td>0.0</td>\n",
              "      <td>21</td>\n",
              "      <td>0</td>\n",
              "      <td>0</td>\n",
              "      <td>44</td>\n",
              "      <td>62</td>\n",
              "      <td>52</td>\n",
              "      <td>47</td>\n",
              "      <td>0</td>\n",
              "      <td>-2.095238</td>\n",
              "      <td>3.466667</td>\n",
              "      <td>41.604687</td>\n",
              "    </tr>\n",
              "    <tr>\n",
              "      <th>107960</th>\n",
              "      <td>0.8</td>\n",
              "      <td>0.0</td>\n",
              "      <td>21</td>\n",
              "      <td>0</td>\n",
              "      <td>0</td>\n",
              "      <td>44</td>\n",
              "      <td>62</td>\n",
              "      <td>52</td>\n",
              "      <td>47</td>\n",
              "      <td>0</td>\n",
              "      <td>-2.095238</td>\n",
              "      <td>3.466667</td>\n",
              "      <td>41.604687</td>\n",
              "    </tr>\n",
              "    <tr>\n",
              "      <th>107961</th>\n",
              "      <td>0.8</td>\n",
              "      <td>0.0</td>\n",
              "      <td>21</td>\n",
              "      <td>0</td>\n",
              "      <td>0</td>\n",
              "      <td>44</td>\n",
              "      <td>62</td>\n",
              "      <td>52</td>\n",
              "      <td>47</td>\n",
              "      <td>0</td>\n",
              "      <td>-2.095238</td>\n",
              "      <td>3.466667</td>\n",
              "      <td>41.604687</td>\n",
              "    </tr>\n",
              "  </tbody>\n",
              "</table>\n",
              "<p>107962 rows × 13 columns</p>\n",
              "</div>"
            ],
            "text/plain": [
              "        speed  steer  m0_x0  m0_y0  ...  m1_y1        m1        m2      angle\n",
              "0         0.0    0.0      4     52  ...      0 -2.736842  2.600000  41.109037\n",
              "1         0.0    0.0      4     52  ...      0 -2.736842  2.600000  41.109037\n",
              "2         0.0    0.0      4     52  ...      0 -2.736842  2.600000  41.109037\n",
              "3         0.0    0.0      4     52  ...      0 -2.736842  2.600000  41.109037\n",
              "4         0.0    0.0      4     52  ...      0 -2.736842  2.600000  41.109037\n",
              "...       ...    ...    ...    ...  ...    ...       ...       ...        ...\n",
              "107957    0.8    0.0     21      0  ...      0 -2.095238  3.714286  40.582359\n",
              "107958    0.8    0.0     21      0  ...      0 -2.095238  3.714286  40.582359\n",
              "107959    0.8    0.0     21      0  ...      0 -2.095238  3.466667  41.604687\n",
              "107960    0.8    0.0     21      0  ...      0 -2.095238  3.466667  41.604687\n",
              "107961    0.8    0.0     21      0  ...      0 -2.095238  3.466667  41.604687\n",
              "\n",
              "[107962 rows x 13 columns]"
            ]
          },
          "metadata": {
            "tags": []
          },
          "execution_count": 10
        }
      ]
    },
    {
      "cell_type": "code",
      "metadata": {
        "id": "WtzRabZBumm5"
      },
      "source": [
        "import math\n",
        "d1 = []\n",
        "d2 = []\n",
        "for i in range(len(race)):\n",
        "  d1.append((math.sqrt(pow((race['m0_x0'][i]-race['m0_x1'][i]),2) + pow((race['m0_y0'][i]-race['m0_y1'][i]),2))))\n",
        "  d2.append((math.sqrt(pow((race['m1_x0'][i]-race['m1_x1'][i]),2) + pow((race['m1_y0'][i]-race['m1_y1'][i]),2))))\n",
        "race['d1'] = d1\n",
        "race['d2'] = d2"
      ],
      "execution_count": null,
      "outputs": []
    },
    {
      "cell_type": "code",
      "metadata": {
        "colab": {
          "base_uri": "https://localhost:8080/",
          "height": 885
        },
        "id": "Pku0SI1yk408",
        "outputId": "7adf89f5-275e-494a-fd26-0a36810e687a"
      },
      "source": [
        "corrMatrix = race.corr()\n",
        "import seaborn as sns\n",
        "import matplotlib.pyplot as plt\n",
        "plt.figure(figsize=(15,15))\n",
        "sns.heatmap(corrMatrix, annot=True)"
      ],
      "execution_count": null,
      "outputs": [
        {
          "output_type": "execute_result",
          "data": {
            "text/plain": [
              "<matplotlib.axes._subplots.AxesSubplot at 0x7faac1b60e90>"
            ]
          },
          "metadata": {
            "tags": []
          },
          "execution_count": 12
        },
        {
          "output_type": "display_data",
          "data": {
            "image/png": "[encoded data removed]",
            "text/plain": [
              "<Figure size 1080x1080 with 2 Axes>"
            ]
          },
          "metadata": {
            "tags": [],
            "needs_background": "light"
          }
        }
      ]
    },
    {
      "cell_type": "code",
      "metadata": {
        "id": "0AnztQOrg32A",
        "colab": {
          "base_uri": "https://localhost:8080/",
          "height": 320
        },
        "outputId": "071406f4-e5b2-40dc-f883-fe6ff34d1020"
      },
      "source": [
        "race2.describe()"
      ],
      "execution_count": null,
      "outputs": [
        {
          "output_type": "execute_result",
          "data": {
            "text/html": [
              "<div>\n",
              "<style scoped>\n",
              "    .dataframe tbody tr th:only-of-type {\n",
              "        vertical-align: middle;\n",
              "    }\n",
              "\n",
              "    .dataframe tbody tr th {\n",
              "        vertical-align: top;\n",
              "    }\n",
              "\n",
              "    .dataframe thead th {\n",
              "        text-align: right;\n",
              "    }\n",
              "</style>\n",
              "<table border=\"1\" class=\"dataframe\">\n",
              "  <thead>\n",
              "    <tr style=\"text-align: right;\">\n",
              "      <th></th>\n",
              "      <th>speed</th>\n",
              "      <th>steer</th>\n",
              "      <th>m0_x0</th>\n",
              "      <th>m0_y0</th>\n",
              "      <th>m0_x1</th>\n",
              "      <th>m0_y1</th>\n",
              "      <th>m1_x0</th>\n",
              "      <th>m1_y0</th>\n",
              "      <th>m1_x1</th>\n",
              "      <th>m1_y1</th>\n",
              "    </tr>\n",
              "  </thead>\n",
              "  <tbody>\n",
              "    <tr>\n",
              "      <th>count</th>\n",
              "      <td>182908.000000</td>\n",
              "      <td>182908.000000</td>\n",
              "      <td>182908.000000</td>\n",
              "      <td>182908.000000</td>\n",
              "      <td>182908.000000</td>\n",
              "      <td>182908.000000</td>\n",
              "      <td>182908.000000</td>\n",
              "      <td>182908.000000</td>\n",
              "      <td>182908.000000</td>\n",
              "      <td>182908.000000</td>\n",
              "    </tr>\n",
              "    <tr>\n",
              "      <th>mean</th>\n",
              "      <td>0.551608</td>\n",
              "      <td>0.149305</td>\n",
              "      <td>61.197575</td>\n",
              "      <td>74.070987</td>\n",
              "      <td>29.243724</td>\n",
              "      <td>17.691851</td>\n",
              "      <td>95.413951</td>\n",
              "      <td>68.469302</td>\n",
              "      <td>67.449209</td>\n",
              "      <td>0.915772</td>\n",
              "    </tr>\n",
              "    <tr>\n",
              "      <th>std</th>\n",
              "      <td>0.327869</td>\n",
              "      <td>0.235819</td>\n",
              "      <td>60.909339</td>\n",
              "      <td>40.063443</td>\n",
              "      <td>20.336253</td>\n",
              "      <td>35.043447</td>\n",
              "      <td>64.153898</td>\n",
              "      <td>47.212477</td>\n",
              "      <td>46.527259</td>\n",
              "      <td>9.790109</td>\n",
              "    </tr>\n",
              "    <tr>\n",
              "      <th>min</th>\n",
              "      <td>0.000000</td>\n",
              "      <td>-0.350000</td>\n",
              "      <td>0.000000</td>\n",
              "      <td>0.000000</td>\n",
              "      <td>0.000000</td>\n",
              "      <td>0.000000</td>\n",
              "      <td>0.000000</td>\n",
              "      <td>0.000000</td>\n",
              "      <td>0.000000</td>\n",
              "      <td>0.000000</td>\n",
              "    </tr>\n",
              "    <tr>\n",
              "      <th>25%</th>\n",
              "      <td>0.150000</td>\n",
              "      <td>0.000000</td>\n",
              "      <td>9.000000</td>\n",
              "      <td>72.000000</td>\n",
              "      <td>23.000000</td>\n",
              "      <td>0.000000</td>\n",
              "      <td>0.000000</td>\n",
              "      <td>0.000000</td>\n",
              "      <td>0.000000</td>\n",
              "      <td>0.000000</td>\n",
              "    </tr>\n",
              "    <tr>\n",
              "      <th>50%</th>\n",
              "      <td>0.600000</td>\n",
              "      <td>0.000000</td>\n",
              "      <td>37.000000</td>\n",
              "      <td>86.000000</td>\n",
              "      <td>24.000000</td>\n",
              "      <td>0.000000</td>\n",
              "      <td>132.000000</td>\n",
              "      <td>92.000000</td>\n",
              "      <td>90.000000</td>\n",
              "      <td>0.000000</td>\n",
              "    </tr>\n",
              "    <tr>\n",
              "      <th>75%</th>\n",
              "      <td>0.850000</td>\n",
              "      <td>0.500000</td>\n",
              "      <td>150.000000</td>\n",
              "      <td>108.000000</td>\n",
              "      <td>46.000000</td>\n",
              "      <td>0.000000</td>\n",
              "      <td>147.000000</td>\n",
              "      <td>108.000000</td>\n",
              "      <td>102.000000</td>\n",
              "      <td>0.000000</td>\n",
              "    </tr>\n",
              "    <tr>\n",
              "      <th>max</th>\n",
              "      <td>1.500000</td>\n",
              "      <td>0.550000</td>\n",
              "      <td>150.000000</td>\n",
              "      <td>108.000000</td>\n",
              "      <td>148.000000</td>\n",
              "      <td>108.000000</td>\n",
              "      <td>150.000000</td>\n",
              "      <td>108.000000</td>\n",
              "      <td>150.000000</td>\n",
              "      <td>108.000000</td>\n",
              "    </tr>\n",
              "  </tbody>\n",
              "</table>\n",
              "</div>"
            ],
            "text/plain": [
              "               speed          steer  ...          m1_x1          m1_y1\n",
              "count  182908.000000  182908.000000  ...  182908.000000  182908.000000\n",
              "mean        0.551608       0.149305  ...      67.449209       0.915772\n",
              "std         0.327869       0.235819  ...      46.527259       9.790109\n",
              "min         0.000000      -0.350000  ...       0.000000       0.000000\n",
              "25%         0.150000       0.000000  ...       0.000000       0.000000\n",
              "50%         0.600000       0.000000  ...      90.000000       0.000000\n",
              "75%         0.850000       0.500000  ...     102.000000       0.000000\n",
              "max         1.500000       0.550000  ...     150.000000     108.000000\n",
              "\n",
              "[8 rows x 10 columns]"
            ]
          },
          "metadata": {
            "tags": []
          },
          "execution_count": 33
        }
      ]
    },
    {
      "cell_type": "code",
      "metadata": {
        "colab": {
          "base_uri": "https://localhost:8080/",
          "height": 1000
        },
        "id": "ZM95Vj9HPYS8",
        "outputId": "f54907bf-15d8-4ba0-8ea1-bcc057d20328"
      },
      "source": [
        "for i in range(len(race2)):\n",
        "  race2['m0_x0'][i] = ((race2['m0_x0'][i]-race2['m0_x0'].min())/(race2['m0_x0'].max()-race2['m0_x0'].min())*(race['m0_x0'].max())-race['m0_x0'].min())+race['speed'].min()\n",
        "  race2['m0_y0'][i] = ((race2['m0_y0'][i]-race2['m0_y0'].min())/(race2['m0_y0'].max()-race2['m0_y0'].min())*(race['m0_y0'].max())-race['m0_y0'].min())+race['speed'].min()\n",
        "  race2['m0_x1'][i] = ((race2['m0_x1'][i]-race2['m0_x1'].min())/(race2['m0_x1'].max()-race2['m0_x1'].min())*(race['m0_x1'].max())-race['m0_x1'].min())+race['speed'].min()\n",
        "  race2['m0_y1'][i] = ((race2['m0_y1'][i]-race2['m0_y1'].min())/(race2['m0_y1'].max()-race2['m0_y1'].min())*(race['m0_y1'].max())-race['m0_y1'].min())+race['speed'].min()\n",
        "  race2['m1_x0'][i] = ((race2['m1_x0'][i]-race2['m1_x0'].min())/(race2['m1_x0'].max()-race2['m1_x0'].min())*(race['m1_x0'].max())-race['m1_x0'].min())+race['speed'].min()\n",
        "  race2['m1_y0'][i] = ((race2['m1_y0'][i]-race2['m1_y0'].min())/(race2['m1_y0'].max()-race2['m1_y0'].min())*(race['m1_y0'].max())-race['m1_y0'].min())+race['speed'].min()\n",
        "  race2['m1_x1'][i] = ((race2['m1_x1'][i]-race2['m1_x1'].min())/(race2['m1_x1'].max()-race2['m1_x1'].min())*(race['m1_x1'].max())-race['m1_x1'].min())+race['speed'].min()\n",
        "  race2['m1_y1'][i] = ((race2['m1_y1'][i]-race2['m1_y1'].min())/(race2['m1_y1'].max()-race2['m1_y1'].min())*(race['m1_y1'].max())-race['m1_y1'].min())+race['speed'].min()\n",
        "race2"
      ],
      "execution_count": null,
      "outputs": [
        {
          "output_type": "stream",
          "text": [
            "/usr/local/lib/python3.7/dist-packages/ipykernel_launcher.py:2: SettingWithCopyWarning: \n",
            "A value is trying to be set on a copy of a slice from a DataFrame\n",
            "\n",
            "See the caveats in the documentation: https://pandas.pydata.org/pandas-docs/stable/user_guide/indexing.html#returning-a-view-versus-a-copy\n",
            "  \n",
            "/usr/local/lib/python3.7/dist-packages/ipykernel_launcher.py:3: SettingWithCopyWarning: \n",
            "A value is trying to be set on a copy of a slice from a DataFrame\n",
            "\n",
            "See the caveats in the documentation: https://pandas.pydata.org/pandas-docs/stable/user_guide/indexing.html#returning-a-view-versus-a-copy\n",
            "  This is separate from the ipykernel package so we can avoid doing imports until\n",
            "/usr/local/lib/python3.7/dist-packages/ipykernel_launcher.py:4: SettingWithCopyWarning: \n",
            "A value is trying to be set on a copy of a slice from a DataFrame\n",
            "\n",
            "See the caveats in the documentation: https://pandas.pydata.org/pandas-docs/stable/user_guide/indexing.html#returning-a-view-versus-a-copy\n",
            "  after removing the cwd from sys.path.\n",
            "/usr/local/lib/python3.7/dist-packages/ipykernel_launcher.py:5: SettingWithCopyWarning: \n",
            "A value is trying to be set on a copy of a slice from a DataFrame\n",
            "\n",
            "See the caveats in the documentation: https://pandas.pydata.org/pandas-docs/stable/user_guide/indexing.html#returning-a-view-versus-a-copy\n",
            "  \"\"\"\n",
            "/usr/local/lib/python3.7/dist-packages/ipykernel_launcher.py:6: SettingWithCopyWarning: \n",
            "A value is trying to be set on a copy of a slice from a DataFrame\n",
            "\n",
            "See the caveats in the documentation: https://pandas.pydata.org/pandas-docs/stable/user_guide/indexing.html#returning-a-view-versus-a-copy\n",
            "  \n",
            "/usr/local/lib/python3.7/dist-packages/ipykernel_launcher.py:7: SettingWithCopyWarning: \n",
            "A value is trying to be set on a copy of a slice from a DataFrame\n",
            "\n",
            "See the caveats in the documentation: https://pandas.pydata.org/pandas-docs/stable/user_guide/indexing.html#returning-a-view-versus-a-copy\n",
            "  import sys\n",
            "/usr/local/lib/python3.7/dist-packages/ipykernel_launcher.py:8: SettingWithCopyWarning: \n",
            "A value is trying to be set on a copy of a slice from a DataFrame\n",
            "\n",
            "See the caveats in the documentation: https://pandas.pydata.org/pandas-docs/stable/user_guide/indexing.html#returning-a-view-versus-a-copy\n",
            "  \n",
            "/usr/local/lib/python3.7/dist-packages/ipykernel_launcher.py:9: SettingWithCopyWarning: \n",
            "A value is trying to be set on a copy of a slice from a DataFrame\n",
            "\n",
            "See the caveats in the documentation: https://pandas.pydata.org/pandas-docs/stable/user_guide/indexing.html#returning-a-view-versus-a-copy\n",
            "  if __name__ == '__main__':\n"
          ],
          "name": "stderr"
        },
        {
          "output_type": "execute_result",
          "data": {
            "text/html": [
              "<div>\n",
              "<style scoped>\n",
              "    .dataframe tbody tr th:only-of-type {\n",
              "        vertical-align: middle;\n",
              "    }\n",
              "\n",
              "    .dataframe tbody tr th {\n",
              "        vertical-align: top;\n",
              "    }\n",
              "\n",
              "    .dataframe thead th {\n",
              "        text-align: right;\n",
              "    }\n",
              "</style>\n",
              "<table border=\"1\" class=\"dataframe\">\n",
              "  <thead>\n",
              "    <tr style=\"text-align: right;\">\n",
              "      <th></th>\n",
              "      <th>speed</th>\n",
              "      <th>steer</th>\n",
              "      <th>m0_x0</th>\n",
              "      <th>m0_y0</th>\n",
              "      <th>m0_x1</th>\n",
              "      <th>m0_y1</th>\n",
              "      <th>m1_x0</th>\n",
              "      <th>m1_y0</th>\n",
              "      <th>m1_x1</th>\n",
              "      <th>m1_y1</th>\n",
              "    </tr>\n",
              "  </thead>\n",
              "  <tbody>\n",
              "    <tr>\n",
              "      <th>0</th>\n",
              "      <td>0.0</td>\n",
              "      <td>0.0</td>\n",
              "      <td>2</td>\n",
              "      <td>40</td>\n",
              "      <td>17</td>\n",
              "      <td>0</td>\n",
              "      <td>54</td>\n",
              "      <td>40</td>\n",
              "      <td>38</td>\n",
              "      <td>0</td>\n",
              "    </tr>\n",
              "    <tr>\n",
              "      <th>1</th>\n",
              "      <td>0.0</td>\n",
              "      <td>0.0</td>\n",
              "      <td>2</td>\n",
              "      <td>40</td>\n",
              "      <td>17</td>\n",
              "      <td>0</td>\n",
              "      <td>54</td>\n",
              "      <td>40</td>\n",
              "      <td>38</td>\n",
              "      <td>0</td>\n",
              "    </tr>\n",
              "    <tr>\n",
              "      <th>2</th>\n",
              "      <td>0.0</td>\n",
              "      <td>0.0</td>\n",
              "      <td>2</td>\n",
              "      <td>40</td>\n",
              "      <td>17</td>\n",
              "      <td>0</td>\n",
              "      <td>54</td>\n",
              "      <td>40</td>\n",
              "      <td>38</td>\n",
              "      <td>0</td>\n",
              "    </tr>\n",
              "    <tr>\n",
              "      <th>3</th>\n",
              "      <td>0.0</td>\n",
              "      <td>0.0</td>\n",
              "      <td>2</td>\n",
              "      <td>40</td>\n",
              "      <td>17</td>\n",
              "      <td>0</td>\n",
              "      <td>54</td>\n",
              "      <td>40</td>\n",
              "      <td>38</td>\n",
              "      <td>0</td>\n",
              "    </tr>\n",
              "    <tr>\n",
              "      <th>4</th>\n",
              "      <td>0.0</td>\n",
              "      <td>0.0</td>\n",
              "      <td>2</td>\n",
              "      <td>40</td>\n",
              "      <td>17</td>\n",
              "      <td>0</td>\n",
              "      <td>55</td>\n",
              "      <td>40</td>\n",
              "      <td>38</td>\n",
              "      <td>0</td>\n",
              "    </tr>\n",
              "    <tr>\n",
              "      <th>...</th>\n",
              "      <td>...</td>\n",
              "      <td>...</td>\n",
              "      <td>...</td>\n",
              "      <td>...</td>\n",
              "      <td>...</td>\n",
              "      <td>...</td>\n",
              "      <td>...</td>\n",
              "      <td>...</td>\n",
              "      <td>...</td>\n",
              "      <td>...</td>\n",
              "    </tr>\n",
              "    <tr>\n",
              "      <th>182903</th>\n",
              "      <td>0.3</td>\n",
              "      <td>0.0</td>\n",
              "      <td>35</td>\n",
              "      <td>0</td>\n",
              "      <td>0</td>\n",
              "      <td>51</td>\n",
              "      <td>71</td>\n",
              "      <td>51</td>\n",
              "      <td>71</td>\n",
              "      <td>0</td>\n",
              "    </tr>\n",
              "    <tr>\n",
              "      <th>182904</th>\n",
              "      <td>0.3</td>\n",
              "      <td>0.0</td>\n",
              "      <td>35</td>\n",
              "      <td>0</td>\n",
              "      <td>0</td>\n",
              "      <td>51</td>\n",
              "      <td>71</td>\n",
              "      <td>51</td>\n",
              "      <td>71</td>\n",
              "      <td>0</td>\n",
              "    </tr>\n",
              "    <tr>\n",
              "      <th>182905</th>\n",
              "      <td>0.3</td>\n",
              "      <td>0.0</td>\n",
              "      <td>35</td>\n",
              "      <td>0</td>\n",
              "      <td>0</td>\n",
              "      <td>51</td>\n",
              "      <td>71</td>\n",
              "      <td>51</td>\n",
              "      <td>71</td>\n",
              "      <td>0</td>\n",
              "    </tr>\n",
              "    <tr>\n",
              "      <th>182906</th>\n",
              "      <td>0.3</td>\n",
              "      <td>0.0</td>\n",
              "      <td>35</td>\n",
              "      <td>0</td>\n",
              "      <td>0</td>\n",
              "      <td>51</td>\n",
              "      <td>71</td>\n",
              "      <td>51</td>\n",
              "      <td>71</td>\n",
              "      <td>0</td>\n",
              "    </tr>\n",
              "    <tr>\n",
              "      <th>182907</th>\n",
              "      <td>0.3</td>\n",
              "      <td>0.0</td>\n",
              "      <td>35</td>\n",
              "      <td>0</td>\n",
              "      <td>0</td>\n",
              "      <td>51</td>\n",
              "      <td>71</td>\n",
              "      <td>51</td>\n",
              "      <td>71</td>\n",
              "      <td>0</td>\n",
              "    </tr>\n",
              "  </tbody>\n",
              "</table>\n",
              "<p>182908 rows × 10 columns</p>\n",
              "</div>"
            ],
            "text/plain": [
              "        speed  steer  m0_x0  m0_y0  m0_x1  m0_y1  m1_x0  m1_y0  m1_x1  m1_y1\n",
              "0         0.0    0.0      2     40     17      0     54     40     38      0\n",
              "1         0.0    0.0      2     40     17      0     54     40     38      0\n",
              "2         0.0    0.0      2     40     17      0     54     40     38      0\n",
              "3         0.0    0.0      2     40     17      0     54     40     38      0\n",
              "4         0.0    0.0      2     40     17      0     55     40     38      0\n",
              "...       ...    ...    ...    ...    ...    ...    ...    ...    ...    ...\n",
              "182903    0.3    0.0     35      0      0     51     71     51     71      0\n",
              "182904    0.3    0.0     35      0      0     51     71     51     71      0\n",
              "182905    0.3    0.0     35      0      0     51     71     51     71      0\n",
              "182906    0.3    0.0     35      0      0     51     71     51     71      0\n",
              "182907    0.3    0.0     35      0      0     51     71     51     71      0\n",
              "\n",
              "[182908 rows x 10 columns]"
            ]
          },
          "metadata": {
            "tags": []
          },
          "execution_count": 34
        }
      ]
    },
    {
      "cell_type": "code",
      "metadata": {
        "id": "Hlx0RezmUvd-"
      },
      "source": [
        "#race2.to_csv('race generated.csv')\n",
        "race.to_csv('race all data.csv')"
      ],
      "execution_count": null,
      "outputs": []
    },
    {
      "cell_type": "code",
      "metadata": {
        "colab": {
          "base_uri": "https://localhost:8080/",
          "height": 320
        },
        "id": "90D7Pin-Sb-x",
        "outputId": "08bd5e3e-e0c1-4745-d44a-48d6bcf8854c"
      },
      "source": [
        "race2.describe()"
      ],
      "execution_count": null,
      "outputs": [
        {
          "output_type": "execute_result",
          "data": {
            "text/html": [
              "<div>\n",
              "<style scoped>\n",
              "    .dataframe tbody tr th:only-of-type {\n",
              "        vertical-align: middle;\n",
              "    }\n",
              "\n",
              "    .dataframe tbody tr th {\n",
              "        vertical-align: top;\n",
              "    }\n",
              "\n",
              "    .dataframe thead th {\n",
              "        text-align: right;\n",
              "    }\n",
              "</style>\n",
              "<table border=\"1\" class=\"dataframe\">\n",
              "  <thead>\n",
              "    <tr style=\"text-align: right;\">\n",
              "      <th></th>\n",
              "      <th>speed</th>\n",
              "      <th>steer</th>\n",
              "      <th>m0_x0</th>\n",
              "      <th>m0_y0</th>\n",
              "      <th>m0_x1</th>\n",
              "      <th>m0_y1</th>\n",
              "      <th>m1_x0</th>\n",
              "      <th>m1_y0</th>\n",
              "      <th>m1_x1</th>\n",
              "      <th>m1_y1</th>\n",
              "    </tr>\n",
              "  </thead>\n",
              "  <tbody>\n",
              "    <tr>\n",
              "      <th>count</th>\n",
              "      <td>182908.000000</td>\n",
              "      <td>182908.000000</td>\n",
              "      <td>182908.000000</td>\n",
              "      <td>182908.000000</td>\n",
              "      <td>182908.000000</td>\n",
              "      <td>182908.000000</td>\n",
              "      <td>182908.000000</td>\n",
              "      <td>182908.000000</td>\n",
              "      <td>182908.000000</td>\n",
              "      <td>182908.000000</td>\n",
              "    </tr>\n",
              "    <tr>\n",
              "      <th>mean</th>\n",
              "      <td>0.551608</td>\n",
              "      <td>0.149305</td>\n",
              "      <td>28.369973</td>\n",
              "      <td>34.638414</td>\n",
              "      <td>16.536811</td>\n",
              "      <td>8.368890</td>\n",
              "      <td>44.997288</td>\n",
              "      <td>32.203944</td>\n",
              "      <td>31.586235</td>\n",
              "      <td>0.431742</td>\n",
              "    </tr>\n",
              "    <tr>\n",
              "      <th>std</th>\n",
              "      <td>0.327869</td>\n",
              "      <td>0.235819</td>\n",
              "      <td>29.222937</td>\n",
              "      <td>18.925218</td>\n",
              "      <td>11.288650</td>\n",
              "      <td>16.627335</td>\n",
              "      <td>30.282532</td>\n",
              "      <td>22.269171</td>\n",
              "      <td>21.849359</td>\n",
              "      <td>4.617023</td>\n",
              "    </tr>\n",
              "    <tr>\n",
              "      <th>min</th>\n",
              "      <td>0.000000</td>\n",
              "      <td>-0.350000</td>\n",
              "      <td>0.000000</td>\n",
              "      <td>0.000000</td>\n",
              "      <td>0.000000</td>\n",
              "      <td>0.000000</td>\n",
              "      <td>0.000000</td>\n",
              "      <td>0.000000</td>\n",
              "      <td>0.000000</td>\n",
              "      <td>0.000000</td>\n",
              "    </tr>\n",
              "    <tr>\n",
              "      <th>25%</th>\n",
              "      <td>0.150000</td>\n",
              "      <td>0.000000</td>\n",
              "      <td>3.000000</td>\n",
              "      <td>33.000000</td>\n",
              "      <td>11.000000</td>\n",
              "      <td>0.000000</td>\n",
              "      <td>0.000000</td>\n",
              "      <td>0.000000</td>\n",
              "      <td>0.000000</td>\n",
              "      <td>0.000000</td>\n",
              "    </tr>\n",
              "    <tr>\n",
              "      <th>50%</th>\n",
              "      <td>0.600000</td>\n",
              "      <td>0.000000</td>\n",
              "      <td>17.000000</td>\n",
              "      <td>40.000000</td>\n",
              "      <td>16.000000</td>\n",
              "      <td>0.000000</td>\n",
              "      <td>62.000000</td>\n",
              "      <td>43.000000</td>\n",
              "      <td>42.000000</td>\n",
              "      <td>0.000000</td>\n",
              "    </tr>\n",
              "    <tr>\n",
              "      <th>75%</th>\n",
              "      <td>0.850000</td>\n",
              "      <td>0.500000</td>\n",
              "      <td>71.000000</td>\n",
              "      <td>51.000000</td>\n",
              "      <td>24.000000</td>\n",
              "      <td>0.000000</td>\n",
              "      <td>69.000000</td>\n",
              "      <td>51.000000</td>\n",
              "      <td>48.000000</td>\n",
              "      <td>0.000000</td>\n",
              "    </tr>\n",
              "    <tr>\n",
              "      <th>max</th>\n",
              "      <td>1.500000</td>\n",
              "      <td>0.550000</td>\n",
              "      <td>71.000000</td>\n",
              "      <td>51.000000</td>\n",
              "      <td>71.000000</td>\n",
              "      <td>51.000000</td>\n",
              "      <td>71.000000</td>\n",
              "      <td>51.000000</td>\n",
              "      <td>71.000000</td>\n",
              "      <td>51.000000</td>\n",
              "    </tr>\n",
              "  </tbody>\n",
              "</table>\n",
              "</div>"
            ],
            "text/plain": [
              "               speed          steer  ...          m1_x1          m1_y1\n",
              "count  182908.000000  182908.000000  ...  182908.000000  182908.000000\n",
              "mean        0.551608       0.149305  ...      31.586235       0.431742\n",
              "std         0.327869       0.235819  ...      21.849359       4.617023\n",
              "min         0.000000      -0.350000  ...       0.000000       0.000000\n",
              "25%         0.150000       0.000000  ...       0.000000       0.000000\n",
              "50%         0.600000       0.000000  ...      42.000000       0.000000\n",
              "75%         0.850000       0.500000  ...      48.000000       0.000000\n",
              "max         1.500000       0.550000  ...      71.000000      51.000000\n",
              "\n",
              "[8 rows x 10 columns]"
            ]
          },
          "metadata": {
            "tags": []
          },
          "execution_count": 36
        }
      ]
    },
    {
      "cell_type": "code",
      "metadata": {
        "colab": {
          "base_uri": "https://localhost:8080/"
        },
        "id": "gfBo6GS3PvJL",
        "outputId": "3a4e5229-4a3f-4484-acde-2c66fad11dc9"
      },
      "source": [
        "race4 = np.array(race2)\n",
        "race2['speed'][0]"
      ],
      "execution_count": null,
      "outputs": [
        {
          "output_type": "execute_result",
          "data": {
            "text/plain": [
              "0.0"
            ]
          },
          "metadata": {
            "tags": []
          },
          "execution_count": 27
        }
      ]
    },
    {
      "cell_type": "code",
      "metadata": {
        "id": "jwJv2xwlefkv"
      },
      "source": [
        "#frame_width = 79\n",
        "#frame_height = 52\n",
        "#x = []\n",
        "#y = []\n",
        "#for i in range(len(Data)):\n",
        "#  if(Data['m0_x1'][i] > Data['m0_x0'][i]):\n",
        "#      x.append((Data['m0_x1'][i] - Data['m0_x0'][i]) / frame_width)\n",
        "#      y.append((Data['m0_y1'][i] - Data['m0_y0'][i]) / frame_height)\n",
        "#  else:\n",
        "#      x.append((Data['m0_x0'][i] - Data['m0_x1'][i]) / frame_width)\n",
        "#      y.append((Data['m0_y0'][i] - Data['m0_y1'][i]) / frame_height)"
      ],
      "execution_count": null,
      "outputs": []
    },
    {
      "cell_type": "code",
      "metadata": {
        "colab": {
          "base_uri": "https://localhost:8080/"
        },
        "id": "n__461xPedlQ",
        "outputId": "652ce312-0836-40bc-8751-9c47d4ee33fc"
      },
      "source": [
        "race['d2'].isna().sum()"
      ],
      "execution_count": null,
      "outputs": [
        {
          "output_type": "execute_result",
          "data": {
            "text/plain": [
              "0"
            ]
          },
          "metadata": {
            "tags": []
          },
          "execution_count": 12
        }
      ]
    },
    {
      "cell_type": "code",
      "metadata": {
        "colab": {
          "base_uri": "https://localhost:8080/",
          "height": 424
        },
        "id": "_wHunxcHK3x8",
        "outputId": "76e5066f-1f99-4428-832f-89e50c467cde"
      },
      "source": [
        "race = race.drop(['m1','m2'],axis=1)\n",
        "race"
      ],
      "execution_count": null,
      "outputs": [
        {
          "output_type": "execute_result",
          "data": {
            "text/html": [
              "<div>\n",
              "<style scoped>\n",
              "    .dataframe tbody tr th:only-of-type {\n",
              "        vertical-align: middle;\n",
              "    }\n",
              "\n",
              "    .dataframe tbody tr th {\n",
              "        vertical-align: top;\n",
              "    }\n",
              "\n",
              "    .dataframe thead th {\n",
              "        text-align: right;\n",
              "    }\n",
              "</style>\n",
              "<table border=\"1\" class=\"dataframe\">\n",
              "  <thead>\n",
              "    <tr style=\"text-align: right;\">\n",
              "      <th></th>\n",
              "      <th>speed</th>\n",
              "      <th>steer</th>\n",
              "      <th>m0_x0</th>\n",
              "      <th>m0_y0</th>\n",
              "      <th>m0_x1</th>\n",
              "      <th>m0_y1</th>\n",
              "      <th>m1_x0</th>\n",
              "      <th>m1_y0</th>\n",
              "      <th>m1_x1</th>\n",
              "      <th>m1_y1</th>\n",
              "      <th>angle</th>\n",
              "      <th>d1</th>\n",
              "      <th>d2</th>\n",
              "    </tr>\n",
              "  </thead>\n",
              "  <tbody>\n",
              "    <tr>\n",
              "      <th>0</th>\n",
              "      <td>0.00</td>\n",
              "      <td>0.00</td>\n",
              "      <td>4</td>\n",
              "      <td>52</td>\n",
              "      <td>23</td>\n",
              "      <td>0</td>\n",
              "      <td>69</td>\n",
              "      <td>52</td>\n",
              "      <td>49</td>\n",
              "      <td>0</td>\n",
              "      <td>41.109037</td>\n",
              "      <td>55.362442</td>\n",
              "      <td>55.713553</td>\n",
              "    </tr>\n",
              "    <tr>\n",
              "      <th>1</th>\n",
              "      <td>0.00</td>\n",
              "      <td>0.00</td>\n",
              "      <td>4</td>\n",
              "      <td>52</td>\n",
              "      <td>23</td>\n",
              "      <td>0</td>\n",
              "      <td>69</td>\n",
              "      <td>52</td>\n",
              "      <td>49</td>\n",
              "      <td>0</td>\n",
              "      <td>41.109037</td>\n",
              "      <td>55.362442</td>\n",
              "      <td>55.713553</td>\n",
              "    </tr>\n",
              "    <tr>\n",
              "      <th>2</th>\n",
              "      <td>0.00</td>\n",
              "      <td>0.00</td>\n",
              "      <td>4</td>\n",
              "      <td>52</td>\n",
              "      <td>23</td>\n",
              "      <td>0</td>\n",
              "      <td>69</td>\n",
              "      <td>52</td>\n",
              "      <td>49</td>\n",
              "      <td>0</td>\n",
              "      <td>41.109037</td>\n",
              "      <td>55.362442</td>\n",
              "      <td>55.713553</td>\n",
              "    </tr>\n",
              "    <tr>\n",
              "      <th>3</th>\n",
              "      <td>0.00</td>\n",
              "      <td>0.00</td>\n",
              "      <td>4</td>\n",
              "      <td>52</td>\n",
              "      <td>23</td>\n",
              "      <td>0</td>\n",
              "      <td>69</td>\n",
              "      <td>52</td>\n",
              "      <td>49</td>\n",
              "      <td>0</td>\n",
              "      <td>41.109037</td>\n",
              "      <td>55.362442</td>\n",
              "      <td>55.713553</td>\n",
              "    </tr>\n",
              "    <tr>\n",
              "      <th>4</th>\n",
              "      <td>0.00</td>\n",
              "      <td>0.00</td>\n",
              "      <td>4</td>\n",
              "      <td>52</td>\n",
              "      <td>23</td>\n",
              "      <td>0</td>\n",
              "      <td>69</td>\n",
              "      <td>52</td>\n",
              "      <td>49</td>\n",
              "      <td>0</td>\n",
              "      <td>41.109037</td>\n",
              "      <td>55.362442</td>\n",
              "      <td>55.713553</td>\n",
              "    </tr>\n",
              "    <tr>\n",
              "      <th>...</th>\n",
              "      <td>...</td>\n",
              "      <td>...</td>\n",
              "      <td>...</td>\n",
              "      <td>...</td>\n",
              "      <td>...</td>\n",
              "      <td>...</td>\n",
              "      <td>...</td>\n",
              "      <td>...</td>\n",
              "      <td>...</td>\n",
              "      <td>...</td>\n",
              "      <td>...</td>\n",
              "      <td>...</td>\n",
              "      <td>...</td>\n",
              "    </tr>\n",
              "    <tr>\n",
              "      <th>56212</th>\n",
              "      <td>0.65</td>\n",
              "      <td>0.05</td>\n",
              "      <td>20</td>\n",
              "      <td>0</td>\n",
              "      <td>0</td>\n",
              "      <td>47</td>\n",
              "      <td>63</td>\n",
              "      <td>52</td>\n",
              "      <td>46</td>\n",
              "      <td>0</td>\n",
              "      <td>41.155064</td>\n",
              "      <td>51.078371</td>\n",
              "      <td>54.708317</td>\n",
              "    </tr>\n",
              "    <tr>\n",
              "      <th>56213</th>\n",
              "      <td>0.65</td>\n",
              "      <td>0.05</td>\n",
              "      <td>20</td>\n",
              "      <td>0</td>\n",
              "      <td>0</td>\n",
              "      <td>47</td>\n",
              "      <td>63</td>\n",
              "      <td>52</td>\n",
              "      <td>46</td>\n",
              "      <td>0</td>\n",
              "      <td>41.155064</td>\n",
              "      <td>51.078371</td>\n",
              "      <td>54.708317</td>\n",
              "    </tr>\n",
              "    <tr>\n",
              "      <th>56214</th>\n",
              "      <td>0.65</td>\n",
              "      <td>0.05</td>\n",
              "      <td>20</td>\n",
              "      <td>0</td>\n",
              "      <td>0</td>\n",
              "      <td>47</td>\n",
              "      <td>63</td>\n",
              "      <td>52</td>\n",
              "      <td>46</td>\n",
              "      <td>0</td>\n",
              "      <td>41.155064</td>\n",
              "      <td>51.078371</td>\n",
              "      <td>54.708317</td>\n",
              "    </tr>\n",
              "    <tr>\n",
              "      <th>56215</th>\n",
              "      <td>0.65</td>\n",
              "      <td>0.05</td>\n",
              "      <td>20</td>\n",
              "      <td>0</td>\n",
              "      <td>0</td>\n",
              "      <td>47</td>\n",
              "      <td>63</td>\n",
              "      <td>52</td>\n",
              "      <td>46</td>\n",
              "      <td>0</td>\n",
              "      <td>41.155064</td>\n",
              "      <td>51.078371</td>\n",
              "      <td>54.708317</td>\n",
              "    </tr>\n",
              "    <tr>\n",
              "      <th>56216</th>\n",
              "      <td>0.65</td>\n",
              "      <td>0.05</td>\n",
              "      <td>20</td>\n",
              "      <td>0</td>\n",
              "      <td>0</td>\n",
              "      <td>47</td>\n",
              "      <td>63</td>\n",
              "      <td>52</td>\n",
              "      <td>47</td>\n",
              "      <td>0</td>\n",
              "      <td>40.154030</td>\n",
              "      <td>51.078371</td>\n",
              "      <td>54.405882</td>\n",
              "    </tr>\n",
              "  </tbody>\n",
              "</table>\n",
              "<p>56217 rows × 13 columns</p>\n",
              "</div>"
            ],
            "text/plain": [
              "       speed  steer  m0_x0  m0_y0  ...  m1_y1      angle         d1         d2\n",
              "0       0.00   0.00      4     52  ...      0  41.109037  55.362442  55.713553\n",
              "1       0.00   0.00      4     52  ...      0  41.109037  55.362442  55.713553\n",
              "2       0.00   0.00      4     52  ...      0  41.109037  55.362442  55.713553\n",
              "3       0.00   0.00      4     52  ...      0  41.109037  55.362442  55.713553\n",
              "4       0.00   0.00      4     52  ...      0  41.109037  55.362442  55.713553\n",
              "...      ...    ...    ...    ...  ...    ...        ...        ...        ...\n",
              "56212   0.65   0.05     20      0  ...      0  41.155064  51.078371  54.708317\n",
              "56213   0.65   0.05     20      0  ...      0  41.155064  51.078371  54.708317\n",
              "56214   0.65   0.05     20      0  ...      0  41.155064  51.078371  54.708317\n",
              "56215   0.65   0.05     20      0  ...      0  41.155064  51.078371  54.708317\n",
              "56216   0.65   0.05     20      0  ...      0  40.154030  51.078371  54.405882\n",
              "\n",
              "[56217 rows x 13 columns]"
            ]
          },
          "metadata": {
            "tags": []
          },
          "execution_count": 201
        }
      ]
    },
    {
      "cell_type": "code",
      "metadata": {
        "colab": {
          "base_uri": "https://localhost:8080/",
          "height": 424
        },
        "id": "2B_z-iVP8kDP",
        "outputId": "14f68ed5-bf48-4d99-83ff-2acff54c6647"
      },
      "source": [
        "race = race.dropna()\n",
        "race"
      ],
      "execution_count": null,
      "outputs": [
        {
          "output_type": "execute_result",
          "data": {
            "text/html": [
              "<div>\n",
              "<style scoped>\n",
              "    .dataframe tbody tr th:only-of-type {\n",
              "        vertical-align: middle;\n",
              "    }\n",
              "\n",
              "    .dataframe tbody tr th {\n",
              "        vertical-align: top;\n",
              "    }\n",
              "\n",
              "    .dataframe thead th {\n",
              "        text-align: right;\n",
              "    }\n",
              "</style>\n",
              "<table border=\"1\" class=\"dataframe\">\n",
              "  <thead>\n",
              "    <tr style=\"text-align: right;\">\n",
              "      <th></th>\n",
              "      <th>speed</th>\n",
              "      <th>steer</th>\n",
              "      <th>m0_x0</th>\n",
              "      <th>m0_y0</th>\n",
              "      <th>m0_x1</th>\n",
              "      <th>m0_y1</th>\n",
              "      <th>m1_x0</th>\n",
              "      <th>m1_y0</th>\n",
              "      <th>m1_x1</th>\n",
              "      <th>m1_y1</th>\n",
              "      <th>angle</th>\n",
              "      <th>d1</th>\n",
              "      <th>d2</th>\n",
              "    </tr>\n",
              "  </thead>\n",
              "  <tbody>\n",
              "    <tr>\n",
              "      <th>0</th>\n",
              "      <td>0.00</td>\n",
              "      <td>0.00</td>\n",
              "      <td>4</td>\n",
              "      <td>52</td>\n",
              "      <td>23</td>\n",
              "      <td>0</td>\n",
              "      <td>69</td>\n",
              "      <td>52</td>\n",
              "      <td>49</td>\n",
              "      <td>0</td>\n",
              "      <td>41.109037</td>\n",
              "      <td>55.362442</td>\n",
              "      <td>55.713553</td>\n",
              "    </tr>\n",
              "    <tr>\n",
              "      <th>1</th>\n",
              "      <td>0.00</td>\n",
              "      <td>0.00</td>\n",
              "      <td>4</td>\n",
              "      <td>52</td>\n",
              "      <td>23</td>\n",
              "      <td>0</td>\n",
              "      <td>69</td>\n",
              "      <td>52</td>\n",
              "      <td>49</td>\n",
              "      <td>0</td>\n",
              "      <td>41.109037</td>\n",
              "      <td>55.362442</td>\n",
              "      <td>55.713553</td>\n",
              "    </tr>\n",
              "    <tr>\n",
              "      <th>2</th>\n",
              "      <td>0.00</td>\n",
              "      <td>0.00</td>\n",
              "      <td>4</td>\n",
              "      <td>52</td>\n",
              "      <td>23</td>\n",
              "      <td>0</td>\n",
              "      <td>69</td>\n",
              "      <td>52</td>\n",
              "      <td>49</td>\n",
              "      <td>0</td>\n",
              "      <td>41.109037</td>\n",
              "      <td>55.362442</td>\n",
              "      <td>55.713553</td>\n",
              "    </tr>\n",
              "    <tr>\n",
              "      <th>3</th>\n",
              "      <td>0.00</td>\n",
              "      <td>0.00</td>\n",
              "      <td>4</td>\n",
              "      <td>52</td>\n",
              "      <td>23</td>\n",
              "      <td>0</td>\n",
              "      <td>69</td>\n",
              "      <td>52</td>\n",
              "      <td>49</td>\n",
              "      <td>0</td>\n",
              "      <td>41.109037</td>\n",
              "      <td>55.362442</td>\n",
              "      <td>55.713553</td>\n",
              "    </tr>\n",
              "    <tr>\n",
              "      <th>4</th>\n",
              "      <td>0.00</td>\n",
              "      <td>0.00</td>\n",
              "      <td>4</td>\n",
              "      <td>52</td>\n",
              "      <td>23</td>\n",
              "      <td>0</td>\n",
              "      <td>69</td>\n",
              "      <td>52</td>\n",
              "      <td>49</td>\n",
              "      <td>0</td>\n",
              "      <td>41.109037</td>\n",
              "      <td>55.362442</td>\n",
              "      <td>55.713553</td>\n",
              "    </tr>\n",
              "    <tr>\n",
              "      <th>...</th>\n",
              "      <td>...</td>\n",
              "      <td>...</td>\n",
              "      <td>...</td>\n",
              "      <td>...</td>\n",
              "      <td>...</td>\n",
              "      <td>...</td>\n",
              "      <td>...</td>\n",
              "      <td>...</td>\n",
              "      <td>...</td>\n",
              "      <td>...</td>\n",
              "      <td>...</td>\n",
              "      <td>...</td>\n",
              "      <td>...</td>\n",
              "    </tr>\n",
              "    <tr>\n",
              "      <th>56212</th>\n",
              "      <td>0.65</td>\n",
              "      <td>0.05</td>\n",
              "      <td>20</td>\n",
              "      <td>0</td>\n",
              "      <td>0</td>\n",
              "      <td>47</td>\n",
              "      <td>63</td>\n",
              "      <td>52</td>\n",
              "      <td>46</td>\n",
              "      <td>0</td>\n",
              "      <td>41.155064</td>\n",
              "      <td>51.078371</td>\n",
              "      <td>54.708317</td>\n",
              "    </tr>\n",
              "    <tr>\n",
              "      <th>56213</th>\n",
              "      <td>0.65</td>\n",
              "      <td>0.05</td>\n",
              "      <td>20</td>\n",
              "      <td>0</td>\n",
              "      <td>0</td>\n",
              "      <td>47</td>\n",
              "      <td>63</td>\n",
              "      <td>52</td>\n",
              "      <td>46</td>\n",
              "      <td>0</td>\n",
              "      <td>41.155064</td>\n",
              "      <td>51.078371</td>\n",
              "      <td>54.708317</td>\n",
              "    </tr>\n",
              "    <tr>\n",
              "      <th>56214</th>\n",
              "      <td>0.65</td>\n",
              "      <td>0.05</td>\n",
              "      <td>20</td>\n",
              "      <td>0</td>\n",
              "      <td>0</td>\n",
              "      <td>47</td>\n",
              "      <td>63</td>\n",
              "      <td>52</td>\n",
              "      <td>46</td>\n",
              "      <td>0</td>\n",
              "      <td>41.155064</td>\n",
              "      <td>51.078371</td>\n",
              "      <td>54.708317</td>\n",
              "    </tr>\n",
              "    <tr>\n",
              "      <th>56215</th>\n",
              "      <td>0.65</td>\n",
              "      <td>0.05</td>\n",
              "      <td>20</td>\n",
              "      <td>0</td>\n",
              "      <td>0</td>\n",
              "      <td>47</td>\n",
              "      <td>63</td>\n",
              "      <td>52</td>\n",
              "      <td>46</td>\n",
              "      <td>0</td>\n",
              "      <td>41.155064</td>\n",
              "      <td>51.078371</td>\n",
              "      <td>54.708317</td>\n",
              "    </tr>\n",
              "    <tr>\n",
              "      <th>56216</th>\n",
              "      <td>0.65</td>\n",
              "      <td>0.05</td>\n",
              "      <td>20</td>\n",
              "      <td>0</td>\n",
              "      <td>0</td>\n",
              "      <td>47</td>\n",
              "      <td>63</td>\n",
              "      <td>52</td>\n",
              "      <td>47</td>\n",
              "      <td>0</td>\n",
              "      <td>40.154030</td>\n",
              "      <td>51.078371</td>\n",
              "      <td>54.405882</td>\n",
              "    </tr>\n",
              "  </tbody>\n",
              "</table>\n",
              "<p>53298 rows × 13 columns</p>\n",
              "</div>"
            ],
            "text/plain": [
              "       speed  steer  m0_x0  m0_y0  ...  m1_y1      angle         d1         d2\n",
              "0       0.00   0.00      4     52  ...      0  41.109037  55.362442  55.713553\n",
              "1       0.00   0.00      4     52  ...      0  41.109037  55.362442  55.713553\n",
              "2       0.00   0.00      4     52  ...      0  41.109037  55.362442  55.713553\n",
              "3       0.00   0.00      4     52  ...      0  41.109037  55.362442  55.713553\n",
              "4       0.00   0.00      4     52  ...      0  41.109037  55.362442  55.713553\n",
              "...      ...    ...    ...    ...  ...    ...        ...        ...        ...\n",
              "56212   0.65   0.05     20      0  ...      0  41.155064  51.078371  54.708317\n",
              "56213   0.65   0.05     20      0  ...      0  41.155064  51.078371  54.708317\n",
              "56214   0.65   0.05     20      0  ...      0  41.155064  51.078371  54.708317\n",
              "56215   0.65   0.05     20      0  ...      0  41.155064  51.078371  54.708317\n",
              "56216   0.65   0.05     20      0  ...      0  40.154030  51.078371  54.405882\n",
              "\n",
              "[53298 rows x 13 columns]"
            ]
          },
          "metadata": {
            "tags": []
          },
          "execution_count": 206
        }
      ]
    },
    {
      "cell_type": "code",
      "metadata": {
        "colab": {
          "base_uri": "https://localhost:8080/"
        },
        "id": "GH6Ed0Y0gphE",
        "outputId": "aaeb9d3b-04d1-4546-9f48-0bae3105ce1e"
      },
      "source": [
        "from sklearn import preprocessing\n",
        "\n",
        "normalized = preprocessing.normalize(race)\n",
        "normalized.shape"
      ],
      "execution_count": null,
      "outputs": [
        {
          "output_type": "execute_result",
          "data": {
            "text/plain": [
              "(53298, 15)"
            ]
          },
          "metadata": {
            "tags": []
          },
          "execution_count": 178
        }
      ]
    },
    {
      "cell_type": "code",
      "metadata": {
        "id": "YPk4Dbj_KvpY"
      },
      "source": [
        ""
      ],
      "execution_count": null,
      "outputs": []
    },
    {
      "cell_type": "code",
      "metadata": {
        "colab": {
          "base_uri": "https://localhost:8080/",
          "height": 424
        },
        "id": "m5vL96TNe7-3",
        "outputId": "d53bf4e3-d73e-40b8-cf51-0d2b34a94fac"
      },
      "source": [
        "X_train"
      ],
      "execution_count": null,
      "outputs": [
        {
          "output_type": "execute_result",
          "data": {
            "text/html": [
              "<div>\n",
              "<style scoped>\n",
              "    .dataframe tbody tr th:only-of-type {\n",
              "        vertical-align: middle;\n",
              "    }\n",
              "\n",
              "    .dataframe tbody tr th {\n",
              "        vertical-align: top;\n",
              "    }\n",
              "\n",
              "    .dataframe thead th {\n",
              "        text-align: right;\n",
              "    }\n",
              "</style>\n",
              "<table border=\"1\" class=\"dataframe\">\n",
              "  <thead>\n",
              "    <tr style=\"text-align: right;\">\n",
              "      <th></th>\n",
              "      <th>m0_x0</th>\n",
              "      <th>m0_y0</th>\n",
              "      <th>m0_x1</th>\n",
              "      <th>m0_y1</th>\n",
              "      <th>m1_x0</th>\n",
              "      <th>m1_y0</th>\n",
              "      <th>m1_x1</th>\n",
              "      <th>m1_y1</th>\n",
              "    </tr>\n",
              "  </thead>\n",
              "  <tbody>\n",
              "    <tr>\n",
              "      <th>49938</th>\n",
              "      <td>36</td>\n",
              "      <td>0</td>\n",
              "      <td>0</td>\n",
              "      <td>38</td>\n",
              "      <td>55</td>\n",
              "      <td>52</td>\n",
              "      <td>66</td>\n",
              "      <td>0</td>\n",
              "    </tr>\n",
              "    <tr>\n",
              "      <th>133568</th>\n",
              "      <td>71</td>\n",
              "      <td>33</td>\n",
              "      <td>16</td>\n",
              "      <td>0</td>\n",
              "      <td>0</td>\n",
              "      <td>0</td>\n",
              "      <td>0</td>\n",
              "      <td>0</td>\n",
              "    </tr>\n",
              "    <tr>\n",
              "      <th>63636</th>\n",
              "      <td>15</td>\n",
              "      <td>0</td>\n",
              "      <td>0</td>\n",
              "      <td>38</td>\n",
              "      <td>62</td>\n",
              "      <td>52</td>\n",
              "      <td>40</td>\n",
              "      <td>0</td>\n",
              "    </tr>\n",
              "    <tr>\n",
              "      <th>147658</th>\n",
              "      <td>71</td>\n",
              "      <td>33</td>\n",
              "      <td>16</td>\n",
              "      <td>0</td>\n",
              "      <td>0</td>\n",
              "      <td>0</td>\n",
              "      <td>0</td>\n",
              "      <td>0</td>\n",
              "    </tr>\n",
              "    <tr>\n",
              "      <th>55340</th>\n",
              "      <td>21</td>\n",
              "      <td>0</td>\n",
              "      <td>0</td>\n",
              "      <td>49</td>\n",
              "      <td>66</td>\n",
              "      <td>51</td>\n",
              "      <td>47</td>\n",
              "      <td>0</td>\n",
              "    </tr>\n",
              "    <tr>\n",
              "      <th>...</th>\n",
              "      <td>...</td>\n",
              "      <td>...</td>\n",
              "      <td>...</td>\n",
              "      <td>...</td>\n",
              "      <td>...</td>\n",
              "      <td>...</td>\n",
              "      <td>...</td>\n",
              "      <td>...</td>\n",
              "    </tr>\n",
              "    <tr>\n",
              "      <th>119879</th>\n",
              "      <td>71</td>\n",
              "      <td>33</td>\n",
              "      <td>16</td>\n",
              "      <td>0</td>\n",
              "      <td>0</td>\n",
              "      <td>0</td>\n",
              "      <td>0</td>\n",
              "      <td>0</td>\n",
              "    </tr>\n",
              "    <tr>\n",
              "      <th>103694</th>\n",
              "      <td>5</td>\n",
              "      <td>51</td>\n",
              "      <td>40</td>\n",
              "      <td>0</td>\n",
              "      <td>71</td>\n",
              "      <td>44</td>\n",
              "      <td>59</td>\n",
              "      <td>0</td>\n",
              "    </tr>\n",
              "    <tr>\n",
              "      <th>131932</th>\n",
              "      <td>71</td>\n",
              "      <td>33</td>\n",
              "      <td>16</td>\n",
              "      <td>0</td>\n",
              "      <td>0</td>\n",
              "      <td>0</td>\n",
              "      <td>0</td>\n",
              "      <td>0</td>\n",
              "    </tr>\n",
              "    <tr>\n",
              "      <th>146867</th>\n",
              "      <td>71</td>\n",
              "      <td>33</td>\n",
              "      <td>16</td>\n",
              "      <td>0</td>\n",
              "      <td>0</td>\n",
              "      <td>0</td>\n",
              "      <td>0</td>\n",
              "      <td>0</td>\n",
              "    </tr>\n",
              "    <tr>\n",
              "      <th>121958</th>\n",
              "      <td>71</td>\n",
              "      <td>33</td>\n",
              "      <td>16</td>\n",
              "      <td>0</td>\n",
              "      <td>0</td>\n",
              "      <td>0</td>\n",
              "      <td>0</td>\n",
              "      <td>0</td>\n",
              "    </tr>\n",
              "  </tbody>\n",
              "</table>\n",
              "<p>230509 rows × 8 columns</p>\n",
              "</div>"
            ],
            "text/plain": [
              "        m0_x0  m0_y0  m0_x1  m0_y1  m1_x0  m1_y0  m1_x1  m1_y1\n",
              "49938      36      0      0     38     55     52     66      0\n",
              "133568     71     33     16      0      0      0      0      0\n",
              "63636      15      0      0     38     62     52     40      0\n",
              "147658     71     33     16      0      0      0      0      0\n",
              "55340      21      0      0     49     66     51     47      0\n",
              "...       ...    ...    ...    ...    ...    ...    ...    ...\n",
              "119879     71     33     16      0      0      0      0      0\n",
              "103694      5     51     40      0     71     44     59      0\n",
              "131932     71     33     16      0      0      0      0      0\n",
              "146867     71     33     16      0      0      0      0      0\n",
              "121958     71     33     16      0      0      0      0      0\n",
              "\n",
              "[230509 rows x 8 columns]"
            ]
          },
          "metadata": {
            "tags": []
          },
          "execution_count": 54
        }
      ]
    },
    {
      "cell_type": "code",
      "metadata": {
        "colab": {
          "base_uri": "https://localhost:8080/"
        },
        "id": "Jj_xCMLug_Hb",
        "outputId": "6a533aaa-96fe-409e-f94c-9e5fe6ad7f62"
      },
      "source": [
        "from sklearn.preprocessing import StandardScaler\n",
        "sc_X = StandardScaler()\n",
        "sc_y = StandardScaler()\n",
        "X_train = sc_X.fit_transform(X_train)\n",
        "y_train = sc_y.fit_transform(y_train)\n",
        "X_test = sc_X.fit_transform(X_test)\n",
        "y_test = sc_y.fit_transform(y_test)\n",
        "X.shape, y.shape"
      ],
      "execution_count": null,
      "outputs": [
        {
          "output_type": "execute_result",
          "data": {
            "text/plain": [
              "((164617, 10), (164617, 2))"
            ]
          },
          "metadata": {
            "tags": []
          },
          "execution_count": 33
        }
      ]
    },
    {
      "cell_type": "code",
      "metadata": {
        "colab": {
          "background_save": true,
          "base_uri": "https://localhost:8080/",
          "height": 341
        },
        "id": "0RKKtm4ghm6S",
        "outputId": "c3b76d51-8881-479e-9f01-86ec232bc0e7"
      },
      "source": [
        "df = np.array([[13,12,32,41,33,112,12,1,2]])\n",
        "st = sc_X.fit_transform(df.reshape(-1, 1))\n",
        "st = np.array([st])\n",
        "y_pred = sc_y.inverse_transform([st])\n",
        "df,st,y_pred"
      ],
      "execution_count": null,
      "outputs": [
        {
          "output_type": "error",
          "ename": "ValueError",
          "evalue": "ignored",
          "traceback": [
            "\u001b[0;31m---------------------------------------------------------------------------\u001b[0m",
            "\u001b[0;31mValueError\u001b[0m                                Traceback (most recent call last)",
            "\u001b[0;32m<ipython-input-44-202499d7970c>\u001b[0m in \u001b[0;36m<module>\u001b[0;34m()\u001b[0m\n\u001b[1;32m      2\u001b[0m \u001b[0mst\u001b[0m \u001b[0;34m=\u001b[0m \u001b[0msc_X\u001b[0m\u001b[0;34m.\u001b[0m\u001b[0mfit_transform\u001b[0m\u001b[0;34m(\u001b[0m\u001b[0mdf\u001b[0m\u001b[0;34m.\u001b[0m\u001b[0mreshape\u001b[0m\u001b[0;34m(\u001b[0m\u001b[0;34m-\u001b[0m\u001b[0;36m1\u001b[0m\u001b[0;34m,\u001b[0m \u001b[0;36m1\u001b[0m\u001b[0;34m)\u001b[0m\u001b[0;34m)\u001b[0m\u001b[0;34m\u001b[0m\u001b[0;34m\u001b[0m\u001b[0m\n\u001b[1;32m      3\u001b[0m \u001b[0mst\u001b[0m \u001b[0;34m=\u001b[0m \u001b[0mnp\u001b[0m\u001b[0;34m.\u001b[0m\u001b[0marray\u001b[0m\u001b[0;34m(\u001b[0m\u001b[0;34m[\u001b[0m\u001b[0mst\u001b[0m\u001b[0;34m]\u001b[0m\u001b[0;34m)\u001b[0m\u001b[0;34m.\u001b[0m\u001b[0mreshape\u001b[0m\u001b[0;34m(\u001b[0m\u001b[0;34m-\u001b[0m\u001b[0;36m1\u001b[0m\u001b[0;34m,\u001b[0m \u001b[0;36m1\u001b[0m\u001b[0;34m)\u001b[0m\u001b[0;34m\u001b[0m\u001b[0;34m\u001b[0m\u001b[0m\n\u001b[0;32m----> 4\u001b[0;31m \u001b[0my_pred\u001b[0m \u001b[0;34m=\u001b[0m \u001b[0msc_y\u001b[0m\u001b[0;34m.\u001b[0m\u001b[0minverse_transform\u001b[0m\u001b[0;34m(\u001b[0m\u001b[0mst\u001b[0m\u001b[0;34m)\u001b[0m\u001b[0;34m\u001b[0m\u001b[0;34m\u001b[0m\u001b[0m\n\u001b[0m\u001b[1;32m      5\u001b[0m \u001b[0mdf\u001b[0m\u001b[0;34m,\u001b[0m\u001b[0mst\u001b[0m\u001b[0;34m,\u001b[0m\u001b[0my_pred\u001b[0m\u001b[0;34m\u001b[0m\u001b[0;34m\u001b[0m\u001b[0m\n",
            "\u001b[0;32m/usr/local/lib/python3.7/dist-packages/sklearn/preprocessing/_data.py\u001b[0m in \u001b[0;36minverse_transform\u001b[0;34m(self, X, copy)\u001b[0m\n\u001b[1;32m    844\u001b[0m                 \u001b[0mX\u001b[0m \u001b[0;34m=\u001b[0m \u001b[0mX\u001b[0m\u001b[0;34m.\u001b[0m\u001b[0mcopy\u001b[0m\u001b[0;34m(\u001b[0m\u001b[0;34m)\u001b[0m\u001b[0;34m\u001b[0m\u001b[0;34m\u001b[0m\u001b[0m\n\u001b[1;32m    845\u001b[0m             \u001b[0;32mif\u001b[0m \u001b[0mself\u001b[0m\u001b[0;34m.\u001b[0m\u001b[0mwith_std\u001b[0m\u001b[0;34m:\u001b[0m\u001b[0;34m\u001b[0m\u001b[0;34m\u001b[0m\u001b[0m\n\u001b[0;32m--> 846\u001b[0;31m                 \u001b[0mX\u001b[0m \u001b[0;34m*=\u001b[0m \u001b[0mself\u001b[0m\u001b[0;34m.\u001b[0m\u001b[0mscale_\u001b[0m\u001b[0;34m\u001b[0m\u001b[0;34m\u001b[0m\u001b[0m\n\u001b[0m\u001b[1;32m    847\u001b[0m             \u001b[0;32mif\u001b[0m \u001b[0mself\u001b[0m\u001b[0;34m.\u001b[0m\u001b[0mwith_mean\u001b[0m\u001b[0;34m:\u001b[0m\u001b[0;34m\u001b[0m\u001b[0;34m\u001b[0m\u001b[0m\n\u001b[1;32m    848\u001b[0m                 \u001b[0mX\u001b[0m \u001b[0;34m+=\u001b[0m \u001b[0mself\u001b[0m\u001b[0;34m.\u001b[0m\u001b[0mmean_\u001b[0m\u001b[0;34m\u001b[0m\u001b[0;34m\u001b[0m\u001b[0m\n",
            "\u001b[0;31mValueError\u001b[0m: non-broadcastable output operand with shape (9,1) doesn't match the broadcast shape (9,10)"
          ]
        }
      ]
    },
    {
      "cell_type": "code",
      "metadata": {
        "colab": {
          "base_uri": "https://localhost:8080/",
          "height": 347
        },
        "id": "iUYh4t_Gin3q",
        "outputId": "b870be90-106d-4626-d92b-6228c18ac6f4"
      },
      "source": [
        "from sklearn.svm import SVR\n",
        "regressor = SVR(kernel = 'rbf')\n",
        "regressor.fit(X_train, y_train)"
      ],
      "execution_count": null,
      "outputs": [
        {
          "output_type": "error",
          "ename": "ValueError",
          "evalue": "ignored",
          "traceback": [
            "\u001b[0;31m---------------------------------------------------------------------------\u001b[0m",
            "\u001b[0;31mValueError\u001b[0m                                Traceback (most recent call last)",
            "\u001b[0;32m<ipython-input-40-c0fc7dfb119b>\u001b[0m in \u001b[0;36m<module>\u001b[0;34m()\u001b[0m\n\u001b[1;32m      1\u001b[0m \u001b[0;32mfrom\u001b[0m \u001b[0msklearn\u001b[0m\u001b[0;34m.\u001b[0m\u001b[0msvm\u001b[0m \u001b[0;32mimport\u001b[0m \u001b[0mSVR\u001b[0m\u001b[0;34m\u001b[0m\u001b[0;34m\u001b[0m\u001b[0m\n\u001b[1;32m      2\u001b[0m \u001b[0mregressor\u001b[0m \u001b[0;34m=\u001b[0m \u001b[0mSVR\u001b[0m\u001b[0;34m(\u001b[0m\u001b[0mkernel\u001b[0m \u001b[0;34m=\u001b[0m \u001b[0;34m'rbf'\u001b[0m\u001b[0;34m)\u001b[0m\u001b[0;34m\u001b[0m\u001b[0;34m\u001b[0m\u001b[0m\n\u001b[0;32m----> 3\u001b[0;31m \u001b[0mregressor\u001b[0m\u001b[0;34m.\u001b[0m\u001b[0mfit\u001b[0m\u001b[0;34m(\u001b[0m\u001b[0mX_train\u001b[0m\u001b[0;34m,\u001b[0m \u001b[0my_train\u001b[0m\u001b[0;34m)\u001b[0m\u001b[0;34m\u001b[0m\u001b[0;34m\u001b[0m\u001b[0m\n\u001b[0m",
            "\u001b[0;32m/usr/local/lib/python3.7/dist-packages/sklearn/svm/_base.py\u001b[0m in \u001b[0;36mfit\u001b[0;34m(self, X, y, sample_weight)\u001b[0m\n\u001b[1;32m    146\u001b[0m         X, y = check_X_y(X, y, dtype=np.float64,\n\u001b[1;32m    147\u001b[0m                          \u001b[0morder\u001b[0m\u001b[0;34m=\u001b[0m\u001b[0;34m'C'\u001b[0m\u001b[0;34m,\u001b[0m \u001b[0maccept_sparse\u001b[0m\u001b[0;34m=\u001b[0m\u001b[0;34m'csr'\u001b[0m\u001b[0;34m,\u001b[0m\u001b[0;34m\u001b[0m\u001b[0;34m\u001b[0m\u001b[0m\n\u001b[0;32m--> 148\u001b[0;31m                          accept_large_sparse=False)\n\u001b[0m\u001b[1;32m    149\u001b[0m         \u001b[0my\u001b[0m \u001b[0;34m=\u001b[0m \u001b[0mself\u001b[0m\u001b[0;34m.\u001b[0m\u001b[0m_validate_targets\u001b[0m\u001b[0;34m(\u001b[0m\u001b[0my\u001b[0m\u001b[0;34m)\u001b[0m\u001b[0;34m\u001b[0m\u001b[0;34m\u001b[0m\u001b[0m\n\u001b[1;32m    150\u001b[0m \u001b[0;34m\u001b[0m\u001b[0m\n",
            "\u001b[0;32m/usr/local/lib/python3.7/dist-packages/sklearn/utils/validation.py\u001b[0m in \u001b[0;36mcheck_X_y\u001b[0;34m(X, y, accept_sparse, accept_large_sparse, dtype, order, copy, force_all_finite, ensure_2d, allow_nd, multi_output, ensure_min_samples, ensure_min_features, y_numeric, warn_on_dtype, estimator)\u001b[0m\n\u001b[1;32m    758\u001b[0m                         dtype=None)\n\u001b[1;32m    759\u001b[0m     \u001b[0;32melse\u001b[0m\u001b[0;34m:\u001b[0m\u001b[0;34m\u001b[0m\u001b[0;34m\u001b[0m\u001b[0m\n\u001b[0;32m--> 760\u001b[0;31m         \u001b[0my\u001b[0m \u001b[0;34m=\u001b[0m \u001b[0mcolumn_or_1d\u001b[0m\u001b[0;34m(\u001b[0m\u001b[0my\u001b[0m\u001b[0;34m,\u001b[0m \u001b[0mwarn\u001b[0m\u001b[0;34m=\u001b[0m\u001b[0;32mTrue\u001b[0m\u001b[0;34m)\u001b[0m\u001b[0;34m\u001b[0m\u001b[0;34m\u001b[0m\u001b[0m\n\u001b[0m\u001b[1;32m    761\u001b[0m         \u001b[0m_assert_all_finite\u001b[0m\u001b[0;34m(\u001b[0m\u001b[0my\u001b[0m\u001b[0;34m)\u001b[0m\u001b[0;34m\u001b[0m\u001b[0;34m\u001b[0m\u001b[0m\n\u001b[1;32m    762\u001b[0m     \u001b[0;32mif\u001b[0m \u001b[0my_numeric\u001b[0m \u001b[0;32mand\u001b[0m \u001b[0my\u001b[0m\u001b[0;34m.\u001b[0m\u001b[0mdtype\u001b[0m\u001b[0;34m.\u001b[0m\u001b[0mkind\u001b[0m \u001b[0;34m==\u001b[0m \u001b[0;34m'O'\u001b[0m\u001b[0;34m:\u001b[0m\u001b[0;34m\u001b[0m\u001b[0;34m\u001b[0m\u001b[0m\n",
            "\u001b[0;32m/usr/local/lib/python3.7/dist-packages/sklearn/utils/validation.py\u001b[0m in \u001b[0;36mcolumn_or_1d\u001b[0;34m(y, warn)\u001b[0m\n\u001b[1;32m    795\u001b[0m         \u001b[0;32mreturn\u001b[0m \u001b[0mnp\u001b[0m\u001b[0;34m.\u001b[0m\u001b[0mravel\u001b[0m\u001b[0;34m(\u001b[0m\u001b[0my\u001b[0m\u001b[0;34m)\u001b[0m\u001b[0;34m\u001b[0m\u001b[0;34m\u001b[0m\u001b[0m\n\u001b[1;32m    796\u001b[0m \u001b[0;34m\u001b[0m\u001b[0m\n\u001b[0;32m--> 797\u001b[0;31m     \u001b[0;32mraise\u001b[0m \u001b[0mValueError\u001b[0m\u001b[0;34m(\u001b[0m\u001b[0;34m\"bad input shape {0}\"\u001b[0m\u001b[0;34m.\u001b[0m\u001b[0mformat\u001b[0m\u001b[0;34m(\u001b[0m\u001b[0mshape\u001b[0m\u001b[0;34m)\u001b[0m\u001b[0;34m)\u001b[0m\u001b[0;34m\u001b[0m\u001b[0;34m\u001b[0m\u001b[0m\n\u001b[0m\u001b[1;32m    798\u001b[0m \u001b[0;34m\u001b[0m\u001b[0m\n\u001b[1;32m    799\u001b[0m \u001b[0;34m\u001b[0m\u001b[0m\n",
            "\u001b[0;31mValueError\u001b[0m: bad input shape (164617, 2)"
          ]
        }
      ]
    },
    {
      "cell_type": "code",
      "metadata": {
        "id": "FoFsQMcPl0zu"
      },
      "source": [
        "m0_x0=16\n",
        "m0_y0=52\n",
        "m0_x1=20\n",
        "m0_y1=0\n",
        "m1_x0=72\n",
        "m1_y0=35\n",
        "m1_x1=47\n",
        "m1_y1=0"
      ],
      "execution_count": null,
      "outputs": []
    },
    {
      "cell_type": "code",
      "metadata": {
        "id": "f0QNsf2PXeNn"
      },
      "source": [
        "df = pd.DataFrame({\n",
        "                   'm0_x0': m0_x1,\n",
        "                   'm0_y0': m0_y0,\n",
        "                   'm0_x1': m0_x1,\n",
        "                   'm0_y1': m0_y1,\n",
        "                   'm1_x0': m1_x0,\n",
        "                   'm1_y0': m1_y0,\n",
        "                   'm1_x1': m1_x1,\n",
        "                   'm1_y1': m1_y1,\n",
        "                   'd1':10,\n",
        "                   'd2':20\n",
        "                   #'x': vector_x(m0_x0,\tm0_x1),\n",
        "                   #'y': vector_y(m0_x0,\tm0_x1, m0_y0, m0_y1)\n",
        "                   }, index=[0])"
      ],
      "execution_count": null,
      "outputs": []
    },
    {
      "cell_type": "code",
      "metadata": {
        "colab": {
          "base_uri": "https://localhost:8080/"
        },
        "id": "ACYqctIArUSN",
        "outputId": "00f8382e-58cf-4324-c396-605def1cf45e"
      },
      "source": [
        "from xgboost import XGBRegressor\n",
        "model = XGBRegressor()\n",
        "model"
      ],
      "execution_count": null,
      "outputs": [
        {
          "output_type": "execute_result",
          "data": {
            "text/plain": [
              "XGBRegressor(base_score=0.5, booster='gbtree', colsample_bylevel=1,\n",
              "             colsample_bynode=1, colsample_bytree=1, gamma=0,\n",
              "             importance_type='gain', learning_rate=0.1, max_delta_step=0,\n",
              "             max_depth=3, min_child_weight=1, missing=None, n_estimators=100,\n",
              "             n_jobs=1, nthread=None, objective='reg:linear', random_state=0,\n",
              "             reg_alpha=0, reg_lambda=1, scale_pos_weight=1, seed=None,\n",
              "             silent=None, subsample=1, verbosity=1)"
            ]
          },
          "metadata": {
            "tags": []
          },
          "execution_count": 5
        }
      ]
    },
    {
      "cell_type": "code",
      "metadata": {
        "colab": {
          "base_uri": "https://localhost:8080/"
        },
        "id": "iHiZhZtkyeN-",
        "outputId": "b1ccbf9e-f1db-4869-b8f6-f25d6492433d"
      },
      "source": [
        "pred[:,:1],pred[:,1:]"
      ],
      "execution_count": null,
      "outputs": [
        {
          "output_type": "execute_result",
          "data": {
            "text/plain": [
              "(array([[0.56712437]], dtype=float32), array([[0.14161265]], dtype=float32))"
            ]
          },
          "metadata": {
            "tags": []
          },
          "execution_count": 29
        }
      ]
    },
    {
      "cell_type": "code",
      "metadata": {
        "colab": {
          "base_uri": "https://localhost:8080/"
        },
        "id": "WyOp23oxgodZ",
        "outputId": "c1a126a7-57d6-4820-c6d4-b3d66a5b8fca"
      },
      "source": [
        "X_train.head(), y_train.head()"
      ],
      "execution_count": null,
      "outputs": [
        {
          "output_type": "execute_result",
          "data": {
            "text/plain": [
              "(       speed  m0_x0  m0_y0  m0_x1  m0_y1  m1_x0  m1_y0  m1_x1  m1_y1\n",
              " 33124   0.90     57      0      0     99    125    108    117      0\n",
              " 34365   0.85     32    108      0     16    150     78     62      0\n",
              " 8907    0.55     41      0      0     74    106     86     83      0\n",
              " 8920    0.55      2     86     40      0    112     86     83      0\n",
              " 9803    0.35     11     86     54      0    120     74     97      0,\n",
              "        steer\n",
              " 33124  -0.05\n",
              " 34365   0.20\n",
              " 8907    0.00\n",
              " 8920    0.00\n",
              " 9803   -0.10)"
            ]
          },
          "metadata": {
            "tags": []
          },
          "execution_count": 58
        }
      ]
    },
    {
      "cell_type": "code",
      "metadata": {
        "colab": {
          "base_uri": "https://localhost:8080/"
        },
        "id": "gkgmeqKnfJW5",
        "outputId": "454b6617-0e70-48a4-940f-fb0fc7a1688b"
      },
      "source": [
        "from sklearn.ensemble import RandomForestRegressor\n",
        "regressor = RandomForestRegressor(n_estimators = 100, random_state = 0)\n",
        "regressor.fit(X_train, y_train) "
      ],
      "execution_count": null,
      "outputs": [
        {
          "output_type": "execute_result",
          "data": {
            "text/plain": [
              "RandomForestRegressor(bootstrap=True, ccp_alpha=0.0, criterion='mse',\n",
              "                      max_depth=None, max_features='auto', max_leaf_nodes=None,\n",
              "                      max_samples=None, min_impurity_decrease=0.0,\n",
              "                      min_impurity_split=None, min_samples_leaf=1,\n",
              "                      min_samples_split=2, min_weight_fraction_leaf=0.0,\n",
              "                      n_estimators=100, n_jobs=None, oob_score=False,\n",
              "                      random_state=0, verbose=0, warm_start=False)"
            ]
          },
          "metadata": {
            "tags": []
          },
          "execution_count": 18
        }
      ]
    },
    {
      "cell_type": "code",
      "metadata": {
        "colab": {
          "base_uri": "https://localhost:8080/"
        },
        "id": "juYYgr8-fYRJ",
        "outputId": "642009d6-eff8-4c97-d906-13071fba3b58"
      },
      "source": [
        "pred = regressor.predict(X_test)\n",
        "pred[:20].round(3) ,y_test[:20]"
      ],
      "execution_count": null,
      "outputs": [
        {
          "output_type": "execute_result",
          "data": {
            "text/plain": [
              "(array([[ 0.795,  0.003],\n",
              "        [ 0.15 ,  0.496],\n",
              "        [ 0.803, -0.062],\n",
              "        [ 0.15 ,  0.496],\n",
              "        [ 0.15 ,  0.496],\n",
              "        [ 0.346, -0.006],\n",
              "        [ 0.823, -0.004],\n",
              "        [ 0.844, -0.028],\n",
              "        [ 0.15 ,  0.496],\n",
              "        [ 0.743,  0.   ],\n",
              "        [ 0.803, -0.19 ],\n",
              "        [ 0.753, -0.011],\n",
              "        [ 0.832, -0.03 ],\n",
              "        [ 0.225, -0.003],\n",
              "        [ 0.15 ,  0.496],\n",
              "        [ 0.731, -0.006],\n",
              "        [ 0.15 ,  0.496],\n",
              "        [ 0.15 ,  0.496],\n",
              "        [ 0.361,  0.024],\n",
              "        [ 0.4  , -0.017]]),         speed  steer\n",
              " 20482    0.65   0.00\n",
              " 156739   0.15   0.50\n",
              " 41754    0.85  -0.05\n",
              " 136801   0.15   0.50\n",
              " 150046   0.15   0.50\n",
              " 96701    0.30   0.00\n",
              " 93249    0.90   0.00\n",
              " 99929    0.95  -0.05\n",
              " 126291   0.15   0.50\n",
              " 95560    0.85  -0.05\n",
              " 61865    0.80  -0.20\n",
              " 41997    0.50   0.00\n",
              " 168096   0.55  -0.05\n",
              " 19375    0.00   0.00\n",
              " 120916   0.15   0.50\n",
              " 176007   1.30  -0.05\n",
              " 164358   0.15   0.50\n",
              " 141658   0.15   0.50\n",
              " 573      0.40   0.05\n",
              " 78163    0.40  -0.05)"
            ]
          },
          "metadata": {
            "tags": []
          },
          "execution_count": 19
        }
      ]
    },
    {
      "cell_type": "code",
      "metadata": {
        "id": "_9RXZWJIfrdS"
      },
      "source": [
        "import pickle\n",
        "pickle.dump(regressor, open('forest.pkl', \"wb\"))\n",
        "xgb_model_loaded = pickle.load(open('forest.pkl', \"rb\"))"
      ],
      "execution_count": null,
      "outputs": []
    },
    {
      "cell_type": "code",
      "metadata": {
        "colab": {
          "base_uri": "https://localhost:8080/"
        },
        "id": "kiEzL49zgFwV",
        "outputId": "513a6286-c2b6-4590-c646-0e298d123b53"
      },
      "source": [
        "pred = xgb_model_loaded.predict(df)\n",
        "pred"
      ],
      "execution_count": null,
      "outputs": [
        {
          "output_type": "execute_result",
          "data": {
            "text/plain": [
              "array([[0.381     , 0.17570415]])"
            ]
          },
          "metadata": {
            "tags": []
          },
          "execution_count": 27
        }
      ]
    },
    {
      "cell_type": "code",
      "metadata": {
        "colab": {
          "base_uri": "https://localhost:8080/"
        },
        "id": "gufhc4X-XoXp",
        "outputId": "d6062fd1-0a7c-49d0-e803-613844cfd36f"
      },
      "source": [
        "from keras.models import Sequential\n",
        "from keras.layers import Dense\n",
        "from keras import backend as K\n",
        "from keras.layers import LeakyReLU\n",
        "\n",
        "\t# create model\n",
        "model = Sequential()\n",
        "model.add(Dense(64, input_dim=11, kernel_initializer='normal', activation='relu'))\n",
        "model.add(Dense(32, activation='relu'))\n",
        "model.add(Dense(2, activation='relu'))\n",
        "# Compile model\n",
        "model.compile(optimizer='adam', loss='mse')\n",
        "model.summary()"
      ],
      "execution_count": null,
      "outputs": [
        {
          "output_type": "stream",
          "text": [
            "Model: \"sequential_24\"\n",
            "_________________________________________________________________\n",
            "Layer (type)                 Output Shape              Param #   \n",
            "=================================================================\n",
            "dense_56 (Dense)             (None, 64)                768       \n",
            "_________________________________________________________________\n",
            "dense_57 (Dense)             (None, 32)                2080      \n",
            "_________________________________________________________________\n",
            "dense_58 (Dense)             (None, 2)                 66        \n",
            "=================================================================\n",
            "Total params: 2,914\n",
            "Trainable params: 2,914\n",
            "Non-trainable params: 0\n",
            "_________________________________________________________________\n"
          ],
          "name": "stdout"
        }
      ]
    },
    {
      "cell_type": "code",
      "metadata": {
        "colab": {
          "background_save": true,
          "base_uri": "https://localhost:8080/"
        },
        "id": "3jV9bbAXZNAS",
        "outputId": "1ba3b521-d072-4b22-d30e-2a314b1d5b66"
      },
      "source": [
        "model.fit(X_train, y_train, epochs=100)"
      ],
      "execution_count": null,
      "outputs": [
        {
          "output_type": "stream",
          "text": [
            "Epoch 1/100\n",
            "1333/1333 [==============================] - 2s 1ms/step - loss: 0.2298\n",
            "Epoch 2/100\n",
            "1333/1333 [==============================] - 2s 1ms/step - loss: 0.0311\n",
            "Epoch 3/100\n",
            "1333/1333 [==============================] - 2s 1ms/step - loss: 0.0265\n",
            "Epoch 4/100\n",
            "1333/1333 [==============================] - 2s 1ms/step - loss: 0.0261\n",
            "Epoch 5/100\n",
            "1333/1333 [==============================] - 2s 1ms/step - loss: 0.0261\n",
            "Epoch 6/100\n",
            "1333/1333 [==============================] - 2s 1ms/step - loss: 0.0247\n",
            "Epoch 7/100\n",
            "1333/1333 [==============================] - 2s 1ms/step - loss: 0.0235\n",
            "Epoch 8/100\n",
            "1333/1333 [==============================] - 2s 1ms/step - loss: 0.0226\n",
            "Epoch 9/100\n",
            "1333/1333 [==============================] - 2s 1ms/step - loss: 0.0230\n",
            "Epoch 10/100\n",
            "1333/1333 [==============================] - 2s 1ms/step - loss: 0.0223\n",
            "Epoch 11/100\n",
            "1333/1333 [==============================] - 2s 1ms/step - loss: 0.0222\n",
            "Epoch 12/100\n",
            "1333/1333 [==============================] - 2s 1ms/step - loss: 0.0219\n",
            "Epoch 13/100\n",
            "1333/1333 [==============================] - 2s 1ms/step - loss: 0.0220\n",
            "Epoch 14/100\n",
            "1333/1333 [==============================] - 2s 1ms/step - loss: 0.0221\n",
            "Epoch 15/100\n",
            "1333/1333 [==============================] - 2s 1ms/step - loss: 0.0219\n",
            "Epoch 16/100\n",
            "1333/1333 [==============================] - 2s 1ms/step - loss: 0.0216\n",
            "Epoch 17/100\n",
            "1333/1333 [==============================] - 2s 1ms/step - loss: 0.0218\n",
            "Epoch 18/100\n",
            "1333/1333 [==============================] - 2s 1ms/step - loss: 0.0210\n",
            "Epoch 19/100\n",
            "1333/1333 [==============================] - 2s 1ms/step - loss: 0.0211\n",
            "Epoch 20/100\n",
            "1333/1333 [==============================] - 2s 1ms/step - loss: 0.0209\n",
            "Epoch 21/100\n",
            "1333/1333 [==============================] - 2s 1ms/step - loss: 0.0209\n",
            "Epoch 22/100\n",
            "1333/1333 [==============================] - 2s 1ms/step - loss: 0.0201\n",
            "Epoch 23/100\n",
            "1333/1333 [==============================] - 2s 1ms/step - loss: 0.0206\n",
            "Epoch 24/100\n",
            "1333/1333 [==============================] - 2s 1ms/step - loss: 0.0205\n",
            "Epoch 25/100\n",
            "1333/1333 [==============================] - 2s 1ms/step - loss: 0.0205\n",
            "Epoch 26/100\n",
            "1333/1333 [==============================] - 2s 1ms/step - loss: 0.0206\n",
            "Epoch 27/100\n",
            "1333/1333 [==============================] - 2s 1ms/step - loss: 0.0199\n",
            "Epoch 28/100\n",
            "1333/1333 [==============================] - 2s 1ms/step - loss: 0.0207\n",
            "Epoch 29/100\n",
            "1333/1333 [==============================] - 2s 1ms/step - loss: 0.0203\n",
            "Epoch 30/100\n",
            "1333/1333 [==============================] - 2s 1ms/step - loss: 0.0204\n",
            "Epoch 31/100\n",
            "1333/1333 [==============================] - 2s 1ms/step - loss: 0.0206\n",
            "Epoch 32/100\n",
            "1333/1333 [==============================] - 2s 1ms/step - loss: 0.0200\n",
            "Epoch 33/100\n",
            "1333/1333 [==============================] - 2s 1ms/step - loss: 0.0201\n",
            "Epoch 34/100\n",
            "1333/1333 [==============================] - 2s 1ms/step - loss: 0.0205\n",
            "Epoch 35/100\n",
            "1333/1333 [==============================] - 2s 1ms/step - loss: 0.0203\n",
            "Epoch 36/100\n",
            "1333/1333 [==============================] - 2s 1ms/step - loss: 0.0199\n",
            "Epoch 37/100\n",
            "1333/1333 [==============================] - 2s 1ms/step - loss: 0.0200\n",
            "Epoch 38/100\n",
            "1333/1333 [==============================] - 2s 1ms/step - loss: 0.0200\n",
            "Epoch 39/100\n",
            "1333/1333 [==============================] - 2s 1ms/step - loss: 0.0203\n",
            "Epoch 40/100\n",
            "1333/1333 [==============================] - 2s 1ms/step - loss: 0.0200\n",
            "Epoch 41/100\n",
            "1333/1333 [==============================] - 2s 1ms/step - loss: 0.0202\n",
            "Epoch 42/100\n",
            "1333/1333 [==============================] - 2s 1ms/step - loss: 0.0199\n",
            "Epoch 43/100\n",
            "1333/1333 [==============================] - 2s 1ms/step - loss: 0.0199\n",
            "Epoch 44/100\n",
            "1333/1333 [==============================] - 2s 1ms/step - loss: 0.0201\n",
            "Epoch 45/100\n",
            "1333/1333 [==============================] - 2s 1ms/step - loss: 0.0198\n",
            "Epoch 46/100\n",
            "1333/1333 [==============================] - 2s 1ms/step - loss: 0.0202\n",
            "Epoch 47/100\n",
            "1333/1333 [==============================] - 2s 1ms/step - loss: 0.0200\n",
            "Epoch 48/100\n",
            "1333/1333 [==============================] - 2s 1ms/step - loss: 0.0204\n",
            "Epoch 49/100\n",
            "1333/1333 [==============================] - 2s 1ms/step - loss: 0.0196\n",
            "Epoch 50/100\n",
            "1333/1333 [==============================] - 2s 1ms/step - loss: 0.0195\n",
            "Epoch 51/100\n",
            "1333/1333 [==============================] - 2s 1ms/step - loss: 0.0197\n",
            "Epoch 52/100\n",
            "1333/1333 [==============================] - 2s 1ms/step - loss: 0.0194\n",
            "Epoch 53/100\n",
            "1333/1333 [==============================] - 2s 1ms/step - loss: 0.0199\n",
            "Epoch 54/100\n",
            "1333/1333 [==============================] - 2s 1ms/step - loss: 0.0198\n",
            "Epoch 55/100\n",
            "1333/1333 [==============================] - 2s 1ms/step - loss: 0.0197\n",
            "Epoch 56/100\n",
            "1333/1333 [==============================] - 2s 1ms/step - loss: 0.0197\n",
            "Epoch 57/100\n",
            "1333/1333 [==============================] - 2s 1ms/step - loss: 0.0197\n",
            "Epoch 58/100\n",
            "1333/1333 [==============================] - 2s 1ms/step - loss: 0.0194\n",
            "Epoch 59/100\n",
            "1333/1333 [==============================] - 2s 1ms/step - loss: 0.0192\n",
            "Epoch 60/100\n",
            "1333/1333 [==============================] - 2s 1ms/step - loss: 0.0197\n",
            "Epoch 61/100\n",
            "1333/1333 [==============================] - 2s 1ms/step - loss: 0.0196\n",
            "Epoch 62/100\n",
            "1333/1333 [==============================] - 2s 1ms/step - loss: 0.0193\n",
            "Epoch 63/100\n",
            "1333/1333 [==============================] - 2s 1ms/step - loss: 0.0193\n",
            "Epoch 64/100\n",
            "1333/1333 [==============================] - 2s 1ms/step - loss: 0.0196\n",
            "Epoch 65/100\n",
            "1333/1333 [==============================] - 2s 1ms/step - loss: 0.0198\n",
            "Epoch 66/100\n",
            "1333/1333 [==============================] - 2s 1ms/step - loss: 0.0192\n",
            "Epoch 67/100\n",
            "1333/1333 [==============================] - 2s 1ms/step - loss: 0.0198\n",
            "Epoch 68/100\n",
            "1333/1333 [==============================] - 2s 1ms/step - loss: 0.0196\n",
            "Epoch 69/100\n",
            "1333/1333 [==============================] - 2s 1ms/step - loss: 0.0202\n",
            "Epoch 70/100\n",
            "1333/1333 [==============================] - 2s 1ms/step - loss: 0.0201\n",
            "Epoch 71/100\n",
            "1333/1333 [==============================] - 2s 1ms/step - loss: 0.0199\n",
            "Epoch 72/100\n",
            "1333/1333 [==============================] - 2s 1ms/step - loss: 0.0198\n",
            "Epoch 73/100\n",
            "1333/1333 [==============================] - 2s 1ms/step - loss: 0.0196\n",
            "Epoch 74/100\n",
            "1333/1333 [==============================] - 2s 1ms/step - loss: 0.0200\n",
            "Epoch 75/100\n",
            "1333/1333 [==============================] - 2s 1ms/step - loss: 0.0197\n",
            "Epoch 76/100\n",
            "1333/1333 [==============================] - 2s 1ms/step - loss: 0.0195\n",
            "Epoch 77/100\n",
            "1333/1333 [==============================] - 2s 1ms/step - loss: 0.0197\n",
            "Epoch 78/100\n",
            "1333/1333 [==============================] - 2s 1ms/step - loss: 0.0197\n",
            "Epoch 79/100\n",
            "1333/1333 [==============================] - 2s 1ms/step - loss: 0.0194\n",
            "Epoch 80/100\n",
            "1333/1333 [==============================] - 2s 1ms/step - loss: 0.0193\n",
            "Epoch 81/100\n",
            "1333/1333 [==============================] - 2s 1ms/step - loss: 0.0198\n",
            "Epoch 82/100\n",
            "1333/1333 [==============================] - 2s 1ms/step - loss: 0.0198\n",
            "Epoch 83/100\n",
            "1333/1333 [==============================] - 2s 1ms/step - loss: 0.0195\n",
            "Epoch 84/100\n",
            "1333/1333 [==============================] - 2s 1ms/step - loss: 0.0192\n",
            "Epoch 85/100\n",
            "1333/1333 [==============================] - 2s 1ms/step - loss: 0.0191\n",
            "Epoch 86/100\n",
            "1333/1333 [==============================] - 2s 1ms/step - loss: 0.0192\n",
            "Epoch 87/100\n",
            "1333/1333 [==============================] - 2s 1ms/step - loss: 0.0191\n",
            "Epoch 88/100\n",
            "1333/1333 [==============================] - 2s 1ms/step - loss: 0.0190\n",
            "Epoch 89/100\n",
            "1333/1333 [==============================] - 2s 1ms/step - loss: 0.0192\n",
            "Epoch 90/100\n",
            "1333/1333 [==============================] - 2s 1ms/step - loss: 0.0192\n",
            "Epoch 91/100\n",
            "1333/1333 [==============================] - 2s 1ms/step - loss: 0.0194\n",
            "Epoch 92/100\n",
            "1333/1333 [==============================] - 2s 1ms/step - loss: 0.0194\n",
            "Epoch 93/100\n",
            "1333/1333 [==============================] - 2s 1ms/step - loss: 0.0194\n",
            "Epoch 94/100\n",
            "1333/1333 [==============================] - 2s 1ms/step - loss: 0.0192\n",
            "Epoch 95/100\n",
            "1333/1333 [==============================] - 2s 1ms/step - loss: 0.0191\n",
            "Epoch 96/100\n",
            "1333/1333 [==============================] - 2s 1ms/step - loss: 0.0195\n",
            "Epoch 97/100\n",
            "1333/1333 [==============================] - 2s 1ms/step - loss: 0.0192\n",
            "Epoch 98/100\n",
            "1333/1333 [==============================] - 2s 1ms/step - loss: 0.0198\n",
            "Epoch 99/100\n",
            "1333/1333 [==============================] - 2s 1ms/step - loss: 0.0196\n",
            "Epoch 100/100\n",
            "1333/1333 [==============================] - 2s 1ms/step - loss: 0.0196\n"
          ],
          "name": "stdout"
        },
        {
          "output_type": "execute_result",
          "data": {
            "text/plain": [
              "<tensorflow.python.keras.callbacks.History at 0x7fc7cf507490>"
            ]
          },
          "metadata": {
            "tags": []
          },
          "execution_count": 0
        }
      ]
    },
    {
      "cell_type": "code",
      "metadata": {
        "colab": {
          "base_uri": "https://localhost:8080/",
          "height": 162
        },
        "id": "rTFkqbX2BhPA",
        "outputId": "05ca9186-d675-4ada-a685-4d703bf759bb"
      },
      "source": [
        "history.history['accuracy']"
      ],
      "execution_count": null,
      "outputs": [
        {
          "output_type": "error",
          "ename": "KeyError",
          "evalue": "ignored",
          "traceback": [
            "\u001b[0;31m---------------------------------------------------------------------------\u001b[0m",
            "\u001b[0;31mKeyError\u001b[0m                                  Traceback (most recent call last)",
            "\u001b[0;32m<ipython-input-25-6f2b69d28794>\u001b[0m in \u001b[0;36m<module>\u001b[0;34m()\u001b[0m\n\u001b[0;32m----> 1\u001b[0;31m \u001b[0mhistory\u001b[0m\u001b[0;34m.\u001b[0m\u001b[0mhistory\u001b[0m\u001b[0;34m[\u001b[0m\u001b[0;34m'accuracy'\u001b[0m\u001b[0;34m]\u001b[0m\u001b[0;34m\u001b[0m\u001b[0;34m\u001b[0m\u001b[0m\n\u001b[0m",
            "\u001b[0;31mKeyError\u001b[0m: 'accuracy'"
          ]
        }
      ]
    },
    {
      "cell_type": "code",
      "metadata": {
        "colab": {
          "base_uri": "https://localhost:8080/"
        },
        "id": "90rLJ-vYZVo4",
        "outputId": "1f7fef0f-cde8-4c64-abcd-cbc6c80d2a35"
      },
      "source": [
        "model.evaluate(X_test, y_test)"
      ],
      "execution_count": null,
      "outputs": [
        {
          "output_type": "stream",
          "text": [
            "334/334 [==============================] - 0s 1ms/step - loss: 0.0435\n"
          ],
          "name": "stdout"
        },
        {
          "output_type": "execute_result",
          "data": {
            "text/plain": [
              "0.04346046224236488"
            ]
          },
          "metadata": {
            "tags": []
          },
          "execution_count": 184
        }
      ]
    },
    {
      "cell_type": "code",
      "metadata": {
        "id": "WaTi4LAnZnBm"
      },
      "source": [
        "y_pred = model.predict(X_test)"
      ],
      "execution_count": null,
      "outputs": []
    },
    {
      "cell_type": "code",
      "metadata": {
        "colab": {
          "base_uri": "https://localhost:8080/"
        },
        "id": "Fd7wGWSuaDLP",
        "outputId": "eca838e9-853b-4885-c169-bc854e42bc18"
      },
      "source": [
        "y_pred[:20],y_test[:20].round(3)"
      ],
      "execution_count": null,
      "outputs": [
        {
          "output_type": "execute_result",
          "data": {
            "text/plain": [
              "(array([[0., 0.],\n",
              "        [0., 0.],\n",
              "        [0., 0.],\n",
              "        [0., 0.],\n",
              "        [0., 0.],\n",
              "        [0., 0.],\n",
              "        [0., 0.],\n",
              "        [0., 0.],\n",
              "        [0., 0.],\n",
              "        [0., 0.],\n",
              "        [0., 0.],\n",
              "        [0., 0.],\n",
              "        [0., 0.],\n",
              "        [0., 0.],\n",
              "        [0., 0.],\n",
              "        [0., 0.],\n",
              "        [0., 0.],\n",
              "        [0., 0.],\n",
              "        [0., 0.],\n",
              "        [0., 0.]], dtype=float32),        speed  steer\n",
              " 36693   0.75   0.00\n",
              " 25251   0.00   0.00\n",
              " 41335   0.80  -0.10\n",
              " 51496   0.75   0.05\n",
              " 26021   0.85   0.20\n",
              " 34557   1.10   0.00\n",
              " 6963    0.80   0.10\n",
              " 55105   0.65   0.00\n",
              " 42835   1.00   0.05\n",
              " 47703   0.65   0.00\n",
              " 3423    1.00   0.00\n",
              " 40032   0.95   0.00\n",
              " 44020   0.65  -0.20\n",
              " 49938   0.75  -0.20\n",
              " 37128   0.85   0.00\n",
              " 5407    0.70  -0.10\n",
              " 46297   1.10   0.00\n",
              " 15448   0.90   0.00\n",
              " 22923   0.95   0.00\n",
              " 35719   0.95  -0.10)"
            ]
          },
          "metadata": {
            "tags": []
          },
          "execution_count": 194
        }
      ]
    },
    {
      "cell_type": "code",
      "metadata": {
        "id": "oR6v8hoMinZS"
      },
      "source": [
        "model.save('NN_model2.h5')"
      ],
      "execution_count": null,
      "outputs": []
    },
    {
      "cell_type": "code",
      "metadata": {
        "id": "OEFjbfrAVtfe"
      },
      "source": [
        "from keras.models import load_model\n",
        "model_new = load_model(\"NN_model1.h5\")"
      ],
      "execution_count": null,
      "outputs": []
    },
    {
      "cell_type": "code",
      "metadata": {
        "id": "2rvd11W7WJWv"
      },
      "source": [
        "y_pred = model_new.predict(X_test)"
      ],
      "execution_count": null,
      "outputs": []
    },
    {
      "cell_type": "code",
      "metadata": {
        "colab": {
          "base_uri": "https://localhost:8080/",
          "height": 106
        },
        "id": "v29NtcjjnQUE",
        "outputId": "4133ece9-5d26-47d5-eeba-9530eeb91548"
      },
      "source": [
        "X_test[:2]"
      ],
      "execution_count": null,
      "outputs": [
        {
          "output_type": "execute_result",
          "data": {
            "text/html": [
              "<div>\n",
              "<style scoped>\n",
              "    .dataframe tbody tr th:only-of-type {\n",
              "        vertical-align: middle;\n",
              "    }\n",
              "\n",
              "    .dataframe tbody tr th {\n",
              "        vertical-align: top;\n",
              "    }\n",
              "\n",
              "    .dataframe thead th {\n",
              "        text-align: right;\n",
              "    }\n",
              "</style>\n",
              "<table border=\"1\" class=\"dataframe\">\n",
              "  <thead>\n",
              "    <tr style=\"text-align: right;\">\n",
              "      <th></th>\n",
              "      <th>m0_x0</th>\n",
              "      <th>m0_y0</th>\n",
              "      <th>m0_x1</th>\n",
              "      <th>m0_y1</th>\n",
              "      <th>m1_x0</th>\n",
              "      <th>m1_y0</th>\n",
              "      <th>m1_x1</th>\n",
              "      <th>m1_y1</th>\n",
              "      <th>x</th>\n",
              "      <th>y</th>\n",
              "    </tr>\n",
              "  </thead>\n",
              "  <tbody>\n",
              "    <tr>\n",
              "      <th>415</th>\n",
              "      <td>16</td>\n",
              "      <td>52</td>\n",
              "      <td>20</td>\n",
              "      <td>0</td>\n",
              "      <td>72</td>\n",
              "      <td>35</td>\n",
              "      <td>47</td>\n",
              "      <td>0</td>\n",
              "      <td>0.050633</td>\n",
              "      <td>-1.0</td>\n",
              "    </tr>\n",
              "    <tr>\n",
              "      <th>3252</th>\n",
              "      <td>16</td>\n",
              "      <td>52</td>\n",
              "      <td>26</td>\n",
              "      <td>0</td>\n",
              "      <td>72</td>\n",
              "      <td>32</td>\n",
              "      <td>52</td>\n",
              "      <td>0</td>\n",
              "      <td>0.126582</td>\n",
              "      <td>-1.0</td>\n",
              "    </tr>\n",
              "  </tbody>\n",
              "</table>\n",
              "</div>"
            ],
            "text/plain": [
              "      m0_x0  m0_y0  m0_x1  m0_y1  m1_x0  m1_y0  m1_x1  m1_y1         x    y\n",
              "415      16     52     20      0     72     35     47      0  0.050633 -1.0\n",
              "3252     16     52     26      0     72     32     52      0  0.126582 -1.0"
            ]
          },
          "metadata": {
            "tags": []
          },
          "execution_count": 57
        }
      ]
    },
    {
      "cell_type": "code",
      "metadata": {
        "id": "yaNV7fRdWc4k"
      },
      "source": [
        "def vector_x(m0_x0,\tm0_x1):\n",
        "  frame_width = 79\n",
        "  if(m0_x1 > m0_x0):\n",
        "      x = (m0_x1 - m0_x0) / frame_width\n",
        "  else:\n",
        "      x = (m0_x0 - m0_x1) / frame_width\n",
        "  return x\n",
        "\n",
        "def vector_y(m0_x0,\tm0_x1, m0_y0, m0_y1):\n",
        "  frame_height = 52\n",
        "  if(m0_x1 > m0_x0):\n",
        "      y = (m0_y1 - m0_y0) / frame_height\n",
        "  else:\n",
        "      y = (m0_y0 - m0_y1) / frame_height\n",
        "  return y"
      ],
      "execution_count": null,
      "outputs": []
    },
    {
      "cell_type": "code",
      "metadata": {
        "colab": {
          "base_uri": "https://localhost:8080/",
          "height": 167
        },
        "id": "dSn3ydPIWeMM",
        "outputId": "d9069c52-c1b5-414a-ea2c-cb146de86831"
      },
      "source": [
        "model_new = load_model('NN_model1.h5')"
      ],
      "execution_count": null,
      "outputs": [
        {
          "output_type": "error",
          "ename": "NameError",
          "evalue": "ignored",
          "traceback": [
            "\u001b[0;31m---------------------------------------------------------------------------\u001b[0m",
            "\u001b[0;31mNameError\u001b[0m                                 Traceback (most recent call last)",
            "\u001b[0;32m<ipython-input-11-b523c207e5a0>\u001b[0m in \u001b[0;36m<module>\u001b[0;34m()\u001b[0m\n\u001b[0;32m----> 1\u001b[0;31m \u001b[0mmodel_new\u001b[0m \u001b[0;34m=\u001b[0m \u001b[0mload_model\u001b[0m\u001b[0;34m(\u001b[0m\u001b[0;34m'NN_model1.h5'\u001b[0m\u001b[0;34m)\u001b[0m\u001b[0;34m\u001b[0m\u001b[0;34m\u001b[0m\u001b[0m\n\u001b[0m",
            "\u001b[0;31mNameError\u001b[0m: name 'load_model' is not defined"
          ]
        }
      ]
    },
    {
      "cell_type": "code",
      "metadata": {
        "id": "aLld5wbHrayg"
      },
      "source": [
        "m0_x0, m0_y0, m0_x1, m0_y1, m1_x0, m1_y0, m1_x1, m1_y1"
      ],
      "execution_count": null,
      "outputs": []
    },
    {
      "cell_type": "code",
      "metadata": {
        "colab": {
          "base_uri": "https://localhost:8080/",
          "height": 236
        },
        "id": "prbALmx8MEel",
        "outputId": "b3301cb1-50ef-4ad5-b91d-7b3244996ed9"
      },
      "source": [
        "from keras.models import load_model\n",
        "model = pickle.load(open(file_name, \"rb\"))\n",
        "df = ['speed', 'm0_x0', 'm0_y0', 'm0_x1', 'm0_y1', 'm1_x0', 'm1_y0', 'm1_x1', 'm1_y1'],[0,8,30,52,20,1,75,35,47,0]\n",
        "df = np.array(df)"
      ],
      "execution_count": null,
      "outputs": [
        {
          "output_type": "stream",
          "text": [
            "[04:17:46] WARNING: /workspace/src/objective/regression_obj.cu:152: reg:linear is now deprecated in favor of reg:squarederror.\n"
          ],
          "name": "stdout"
        },
        {
          "output_type": "error",
          "ename": "TypeError",
          "evalue": "ignored",
          "traceback": [
            "\u001b[0;31m---------------------------------------------------------------------------\u001b[0m",
            "\u001b[0;31mTypeError\u001b[0m                                 Traceback (most recent call last)",
            "\u001b[0;32m<ipython-input-38-3387fe11f281>\u001b[0m in \u001b[0;36m<module>\u001b[0;34m()\u001b[0m\n\u001b[1;32m      1\u001b[0m \u001b[0;32mfrom\u001b[0m \u001b[0mkeras\u001b[0m\u001b[0;34m.\u001b[0m\u001b[0mmodels\u001b[0m \u001b[0;32mimport\u001b[0m \u001b[0mload_model\u001b[0m\u001b[0;34m\u001b[0m\u001b[0;34m\u001b[0m\u001b[0m\n\u001b[1;32m      2\u001b[0m \u001b[0mmodel\u001b[0m \u001b[0;34m=\u001b[0m \u001b[0mpickle\u001b[0m\u001b[0;34m.\u001b[0m\u001b[0mload\u001b[0m\u001b[0;34m(\u001b[0m\u001b[0mopen\u001b[0m\u001b[0;34m(\u001b[0m\u001b[0mfile_name\u001b[0m\u001b[0;34m,\u001b[0m \u001b[0;34m\"rb\"\u001b[0m\u001b[0;34m)\u001b[0m\u001b[0;34m)\u001b[0m\u001b[0;34m\u001b[0m\u001b[0;34m\u001b[0m\u001b[0m\n\u001b[0;32m----> 3\u001b[0;31m \u001b[0mdf\u001b[0m \u001b[0;34m=\u001b[0m \u001b[0;34m{\u001b[0m\u001b[0;34m[\u001b[0m\u001b[0;34m'speed'\u001b[0m\u001b[0;34m,\u001b[0m \u001b[0;34m'm0_x0'\u001b[0m\u001b[0;34m,\u001b[0m \u001b[0;34m'm0_y0'\u001b[0m\u001b[0;34m,\u001b[0m \u001b[0;34m'm0_x1'\u001b[0m\u001b[0;34m,\u001b[0m \u001b[0;34m'm0_y1'\u001b[0m\u001b[0;34m,\u001b[0m \u001b[0;34m'm1_x0'\u001b[0m\u001b[0;34m,\u001b[0m \u001b[0;34m'm1_y0'\u001b[0m\u001b[0;34m,\u001b[0m \u001b[0;34m'm1_x1'\u001b[0m\u001b[0;34m,\u001b[0m \u001b[0;34m'm1_y1'\u001b[0m\u001b[0;34m]\u001b[0m\u001b[0;34m,\u001b[0m\u001b[0;34m[\u001b[0m\u001b[0;36m0\u001b[0m\u001b[0;34m,\u001b[0m\u001b[0;36m8\u001b[0m\u001b[0;34m,\u001b[0m\u001b[0;36m30\u001b[0m\u001b[0;34m,\u001b[0m\u001b[0;36m52\u001b[0m\u001b[0;34m,\u001b[0m\u001b[0;36m20\u001b[0m\u001b[0;34m,\u001b[0m\u001b[0;36m1\u001b[0m\u001b[0;34m,\u001b[0m\u001b[0;36m75\u001b[0m\u001b[0;34m,\u001b[0m\u001b[0;36m35\u001b[0m\u001b[0;34m,\u001b[0m\u001b[0;36m47\u001b[0m\u001b[0;34m,\u001b[0m\u001b[0;36m0\u001b[0m\u001b[0;34m]\u001b[0m\u001b[0;34m}\u001b[0m\u001b[0;34m\u001b[0m\u001b[0;34m\u001b[0m\u001b[0m\n\u001b[0m\u001b[1;32m      4\u001b[0m \u001b[0mdf\u001b[0m \u001b[0;34m=\u001b[0m \u001b[0mnp\u001b[0m\u001b[0;34m.\u001b[0m\u001b[0marray\u001b[0m\u001b[0;34m(\u001b[0m\u001b[0mdf\u001b[0m\u001b[0;34m)\u001b[0m\u001b[0;34m\u001b[0m\u001b[0;34m\u001b[0m\u001b[0m\n",
            "\u001b[0;31mTypeError\u001b[0m: unhashable type: 'list'"
          ]
        }
      ]
    },
    {
      "cell_type": "code",
      "metadata": {
        "colab": {
          "base_uri": "https://localhost:8080/"
        },
        "id": "HUD2gUdwyTSY",
        "outputId": "f3b79264-835c-460d-968e-f612d5cd609a"
      },
      "source": [
        "df"
      ],
      "execution_count": null,
      "outputs": [
        {
          "output_type": "execute_result",
          "data": {
            "text/plain": [
              "array([list(['speed', 'm0_x0', 'm0_y0', 'm0_x1', 'm0_y1', 'm1_x0', 'm1_y0', 'm1_x1', 'm1_y1']),\n",
              "       list([0, 8, 30, 52, 20, 1, 75, 35, 47, 0])], dtype=object)"
            ]
          },
          "metadata": {
            "tags": []
          },
          "execution_count": 36
        }
      ]
    },
    {
      "cell_type": "code",
      "metadata": {
        "colab": {
          "base_uri": "https://localhost:8080/"
        },
        "id": "2_l0i2psyNit",
        "outputId": "b75caae5-0345-4257-cb1e-9666084c9d38"
      },
      "source": [
        "model.predict(df)"
      ],
      "execution_count": null,
      "outputs": [
        {
          "output_type": "execute_result",
          "data": {
            "text/plain": [
              "array([0.1577478], dtype=float32)"
            ]
          },
          "metadata": {
            "tags": []
          },
          "execution_count": 42
        }
      ]
    },
    {
      "cell_type": "code",
      "metadata": {
        "colab": {
          "base_uri": "https://localhost:8080/"
        },
        "id": "L1BaiJRGyDvC",
        "outputId": "0646d921-8655-47b4-eeb2-c0db9c8d3010"
      },
      "source": [
        ""
      ],
      "execution_count": null,
      "outputs": [
        {
          "output_type": "execute_result",
          "data": {
            "text/plain": [
              "XGBRegressor(base_score=0.5, booster='gbtree', colsample_bylevel=1,\n",
              "             colsample_bynode=1, colsample_bytree=0.8, eta=0.1, gamma=0,\n",
              "             importance_type='gain', learning_rate=0.1, max_delta_step=0,\n",
              "             max_depth=7, min_child_weight=1, missing=nan, n_estimators=1000,\n",
              "             n_jobs=1, nthread=None, objective='reg:linear', random_state=0,\n",
              "             reg_alpha=0, reg_lambda=1, scale_pos_weight=1, seed=None,\n",
              "             silent=None, subsample=0.7, verbosity=1)"
            ]
          },
          "metadata": {
            "tags": []
          },
          "execution_count": 20
        }
      ]
    },
    {
      "cell_type": "code",
      "metadata": {
        "colab": {
          "base_uri": "https://localhost:8080/"
        },
        "id": "2RXNdr5SME82",
        "outputId": "fd1eb92e-e8d2-4b4e-8de3-3ed2cca74485"
      },
      "source": [
        "steer = (df.values.sum())/(df.values.sum()+500)"
      ],
      "execution_count": null,
      "outputs": [
        {
          "output_type": "execute_result",
          "data": {
            "text/plain": [
              "0.3297587131367292"
            ]
          },
          "metadata": {
            "tags": []
          },
          "execution_count": 31
        }
      ]
    },
    {
      "cell_type": "code",
      "metadata": {
        "colab": {
          "base_uri": "https://localhost:8080/"
        },
        "id": "WyNdSQXIMZPb",
        "outputId": "c21a9f68-c806-4c07-bb2b-7580a5071bec"
      },
      "source": [
        "from numpy import absolute\n",
        "from pandas import read_csv\n",
        "from sklearn.model_selection import cross_val_score\n",
        "#from sklearn.model_selection import RepeatedKFold\n",
        "from xgboost import XGBRegressor\n",
        "model = XGBRegressor(n_estimators=1000, max_depth=7, eta=0.1, subsample=0.7, colsample_bytree=0.8)"
      ],
      "execution_count": null,
      "outputs": [
        {
          "output_type": "stream",
          "text": [
            "[11:09:28] WARNING: /workspace/src/objective/regression_obj.cu:152: reg:linear is now deprecated in favor of reg:squarederror.\n"
          ],
          "name": "stdout"
        },
        {
          "output_type": "execute_result",
          "data": {
            "text/plain": [
              "XGBRegressor(base_score=0.5, booster='gbtree', colsample_bylevel=1,\n",
              "             colsample_bynode=1, colsample_bytree=0.8, eta=0.1, gamma=0,\n",
              "             importance_type='gain', learning_rate=0.1, max_delta_step=0,\n",
              "             max_depth=7, min_child_weight=1, missing=None, n_estimators=1000,\n",
              "             n_jobs=1, nthread=None, objective='reg:linear', random_state=0,\n",
              "             reg_alpha=0, reg_lambda=1, scale_pos_weight=1, seed=None,\n",
              "             silent=None, subsample=0.7, verbosity=1)"
            ]
          },
          "metadata": {
            "tags": []
          },
          "execution_count": 4
        }
      ]
    },
    {
      "cell_type": "code",
      "metadata": {
        "colab": {
          "base_uri": "https://localhost:8080/",
          "height": 365
        },
        "id": "rMBH1SxJuRou",
        "outputId": "b138353d-046d-460f-8fee-3fa8ef436b53"
      },
      "source": [
        "scores = cross_val_score(model, X_train, y_train, scoring='neg_mean_absolute_error', n_jobs=-1)\n",
        "scores = absolute(scores)\n",
        "print('Mean MAE: %.3f (%.3f)' % (scores.mean(), scores.std()) )\n",
        "pred = model.predict(X_test)"
      ],
      "execution_count": null,
      "outputs": [
        {
          "output_type": "error",
          "ename": "KeyboardInterrupt",
          "evalue": "ignored",
          "traceback": [
            "\u001b[0;31m---------------------------------------------------------------------------\u001b[0m",
            "\u001b[0;31mKeyboardInterrupt\u001b[0m                         Traceback (most recent call last)",
            "\u001b[0;32m<ipython-input-6-a33879e387c6>\u001b[0m in \u001b[0;36m<module>\u001b[0;34m()\u001b[0m\n\u001b[0;32m----> 1\u001b[0;31m \u001b[0mscores\u001b[0m \u001b[0;34m=\u001b[0m \u001b[0mcross_val_score\u001b[0m\u001b[0;34m(\u001b[0m\u001b[0mmodel\u001b[0m\u001b[0;34m,\u001b[0m \u001b[0mX_train\u001b[0m\u001b[0;34m,\u001b[0m \u001b[0my_train\u001b[0m\u001b[0;34m,\u001b[0m \u001b[0mscoring\u001b[0m\u001b[0;34m=\u001b[0m\u001b[0;34m'neg_mean_absolute_error'\u001b[0m\u001b[0;34m,\u001b[0m \u001b[0mn_jobs\u001b[0m\u001b[0;34m=\u001b[0m\u001b[0;34m-\u001b[0m\u001b[0;36m1\u001b[0m\u001b[0;34m)\u001b[0m\u001b[0;34m\u001b[0m\u001b[0;34m\u001b[0m\u001b[0m\n\u001b[0m\u001b[1;32m      2\u001b[0m \u001b[0mscores\u001b[0m \u001b[0;34m=\u001b[0m \u001b[0mabsolute\u001b[0m\u001b[0;34m(\u001b[0m\u001b[0mscores\u001b[0m\u001b[0;34m)\u001b[0m\u001b[0;34m\u001b[0m\u001b[0;34m\u001b[0m\u001b[0m\n\u001b[1;32m      3\u001b[0m \u001b[0mprint\u001b[0m\u001b[0;34m(\u001b[0m\u001b[0;34m'Mean MAE: %.3f (%.3f)'\u001b[0m \u001b[0;34m%\u001b[0m \u001b[0;34m(\u001b[0m\u001b[0mscores\u001b[0m\u001b[0;34m.\u001b[0m\u001b[0mmean\u001b[0m\u001b[0;34m(\u001b[0m\u001b[0;34m)\u001b[0m\u001b[0;34m,\u001b[0m \u001b[0mscores\u001b[0m\u001b[0;34m.\u001b[0m\u001b[0mstd\u001b[0m\u001b[0;34m(\u001b[0m\u001b[0;34m)\u001b[0m\u001b[0;34m)\u001b[0m \u001b[0;34m)\u001b[0m\u001b[0;34m\u001b[0m\u001b[0;34m\u001b[0m\u001b[0m\n\u001b[1;32m      4\u001b[0m \u001b[0mpred\u001b[0m \u001b[0;34m=\u001b[0m \u001b[0mmodel\u001b[0m\u001b[0;34m.\u001b[0m\u001b[0mpredict\u001b[0m\u001b[0;34m(\u001b[0m\u001b[0mX_test\u001b[0m\u001b[0;34m)\u001b[0m\u001b[0;34m\u001b[0m\u001b[0;34m\u001b[0m\u001b[0m\n",
            "\u001b[0;32m/usr/local/lib/python3.7/dist-packages/sklearn/model_selection/_validation.py\u001b[0m in \u001b[0;36mcross_val_score\u001b[0;34m(estimator, X, y, groups, scoring, cv, n_jobs, verbose, fit_params, pre_dispatch, error_score)\u001b[0m\n\u001b[1;32m    388\u001b[0m                                 \u001b[0mfit_params\u001b[0m\u001b[0;34m=\u001b[0m\u001b[0mfit_params\u001b[0m\u001b[0;34m,\u001b[0m\u001b[0;34m\u001b[0m\u001b[0;34m\u001b[0m\u001b[0m\n\u001b[1;32m    389\u001b[0m                                 \u001b[0mpre_dispatch\u001b[0m\u001b[0;34m=\u001b[0m\u001b[0mpre_dispatch\u001b[0m\u001b[0;34m,\u001b[0m\u001b[0;34m\u001b[0m\u001b[0;34m\u001b[0m\u001b[0m\n\u001b[0;32m--> 390\u001b[0;31m                                 error_score=error_score)\n\u001b[0m\u001b[1;32m    391\u001b[0m     \u001b[0;32mreturn\u001b[0m \u001b[0mcv_results\u001b[0m\u001b[0;34m[\u001b[0m\u001b[0;34m'test_score'\u001b[0m\u001b[0;34m]\u001b[0m\u001b[0;34m\u001b[0m\u001b[0;34m\u001b[0m\u001b[0m\n\u001b[1;32m    392\u001b[0m \u001b[0;34m\u001b[0m\u001b[0m\n",
            "\u001b[0;32m/usr/local/lib/python3.7/dist-packages/sklearn/model_selection/_validation.py\u001b[0m in \u001b[0;36mcross_validate\u001b[0;34m(estimator, X, y, groups, scoring, cv, n_jobs, verbose, fit_params, pre_dispatch, return_train_score, return_estimator, error_score)\u001b[0m\n\u001b[1;32m    234\u001b[0m             \u001b[0mreturn_times\u001b[0m\u001b[0;34m=\u001b[0m\u001b[0;32mTrue\u001b[0m\u001b[0;34m,\u001b[0m \u001b[0mreturn_estimator\u001b[0m\u001b[0;34m=\u001b[0m\u001b[0mreturn_estimator\u001b[0m\u001b[0;34m,\u001b[0m\u001b[0;34m\u001b[0m\u001b[0;34m\u001b[0m\u001b[0m\n\u001b[1;32m    235\u001b[0m             error_score=error_score)\n\u001b[0;32m--> 236\u001b[0;31m         for train, test in cv.split(X, y, groups))\n\u001b[0m\u001b[1;32m    237\u001b[0m \u001b[0;34m\u001b[0m\u001b[0m\n\u001b[1;32m    238\u001b[0m     \u001b[0mzipped_scores\u001b[0m \u001b[0;34m=\u001b[0m \u001b[0mlist\u001b[0m\u001b[0;34m(\u001b[0m\u001b[0mzip\u001b[0m\u001b[0;34m(\u001b[0m\u001b[0;34m*\u001b[0m\u001b[0mscores\u001b[0m\u001b[0;34m)\u001b[0m\u001b[0;34m)\u001b[0m\u001b[0;34m\u001b[0m\u001b[0;34m\u001b[0m\u001b[0m\n",
            "\u001b[0;32m/usr/local/lib/python3.7/dist-packages/joblib/parallel.py\u001b[0m in \u001b[0;36m__call__\u001b[0;34m(self, iterable)\u001b[0m\n\u001b[1;32m   1052\u001b[0m \u001b[0;34m\u001b[0m\u001b[0m\n\u001b[1;32m   1053\u001b[0m             \u001b[0;32mwith\u001b[0m \u001b[0mself\u001b[0m\u001b[0;34m.\u001b[0m\u001b[0m_backend\u001b[0m\u001b[0;34m.\u001b[0m\u001b[0mretrieval_context\u001b[0m\u001b[0;34m(\u001b[0m\u001b[0;34m)\u001b[0m\u001b[0;34m:\u001b[0m\u001b[0;34m\u001b[0m\u001b[0;34m\u001b[0m\u001b[0m\n\u001b[0;32m-> 1054\u001b[0;31m                 \u001b[0mself\u001b[0m\u001b[0;34m.\u001b[0m\u001b[0mretrieve\u001b[0m\u001b[0;34m(\u001b[0m\u001b[0;34m)\u001b[0m\u001b[0;34m\u001b[0m\u001b[0;34m\u001b[0m\u001b[0m\n\u001b[0m\u001b[1;32m   1055\u001b[0m             \u001b[0;31m# Make sure that we get a last message telling us we are done\u001b[0m\u001b[0;34m\u001b[0m\u001b[0;34m\u001b[0m\u001b[0;34m\u001b[0m\u001b[0m\n\u001b[1;32m   1056\u001b[0m             \u001b[0melapsed_time\u001b[0m \u001b[0;34m=\u001b[0m \u001b[0mtime\u001b[0m\u001b[0;34m.\u001b[0m\u001b[0mtime\u001b[0m\u001b[0;34m(\u001b[0m\u001b[0;34m)\u001b[0m \u001b[0;34m-\u001b[0m \u001b[0mself\u001b[0m\u001b[0;34m.\u001b[0m\u001b[0m_start_time\u001b[0m\u001b[0;34m\u001b[0m\u001b[0;34m\u001b[0m\u001b[0m\n",
            "\u001b[0;32m/usr/local/lib/python3.7/dist-packages/joblib/parallel.py\u001b[0m in \u001b[0;36mretrieve\u001b[0;34m(self)\u001b[0m\n\u001b[1;32m    931\u001b[0m             \u001b[0;32mtry\u001b[0m\u001b[0;34m:\u001b[0m\u001b[0;34m\u001b[0m\u001b[0;34m\u001b[0m\u001b[0m\n\u001b[1;32m    932\u001b[0m                 \u001b[0;32mif\u001b[0m \u001b[0mgetattr\u001b[0m\u001b[0;34m(\u001b[0m\u001b[0mself\u001b[0m\u001b[0;34m.\u001b[0m\u001b[0m_backend\u001b[0m\u001b[0;34m,\u001b[0m \u001b[0;34m'supports_timeout'\u001b[0m\u001b[0;34m,\u001b[0m \u001b[0;32mFalse\u001b[0m\u001b[0;34m)\u001b[0m\u001b[0;34m:\u001b[0m\u001b[0;34m\u001b[0m\u001b[0;34m\u001b[0m\u001b[0m\n\u001b[0;32m--> 933\u001b[0;31m                     \u001b[0mself\u001b[0m\u001b[0;34m.\u001b[0m\u001b[0m_output\u001b[0m\u001b[0;34m.\u001b[0m\u001b[0mextend\u001b[0m\u001b[0;34m(\u001b[0m\u001b[0mjob\u001b[0m\u001b[0;34m.\u001b[0m\u001b[0mget\u001b[0m\u001b[0;34m(\u001b[0m\u001b[0mtimeout\u001b[0m\u001b[0;34m=\u001b[0m\u001b[0mself\u001b[0m\u001b[0;34m.\u001b[0m\u001b[0mtimeout\u001b[0m\u001b[0;34m)\u001b[0m\u001b[0;34m)\u001b[0m\u001b[0;34m\u001b[0m\u001b[0;34m\u001b[0m\u001b[0m\n\u001b[0m\u001b[1;32m    934\u001b[0m                 \u001b[0;32melse\u001b[0m\u001b[0;34m:\u001b[0m\u001b[0;34m\u001b[0m\u001b[0;34m\u001b[0m\u001b[0m\n\u001b[1;32m    935\u001b[0m                     \u001b[0mself\u001b[0m\u001b[0;34m.\u001b[0m\u001b[0m_output\u001b[0m\u001b[0;34m.\u001b[0m\u001b[0mextend\u001b[0m\u001b[0;34m(\u001b[0m\u001b[0mjob\u001b[0m\u001b[0;34m.\u001b[0m\u001b[0mget\u001b[0m\u001b[0;34m(\u001b[0m\u001b[0;34m)\u001b[0m\u001b[0;34m)\u001b[0m\u001b[0;34m\u001b[0m\u001b[0;34m\u001b[0m\u001b[0m\n",
            "\u001b[0;32m/usr/local/lib/python3.7/dist-packages/joblib/_parallel_backends.py\u001b[0m in \u001b[0;36mwrap_future_result\u001b[0;34m(future, timeout)\u001b[0m\n\u001b[1;32m    540\u001b[0m         AsyncResults.get from multiprocessing.\"\"\"\n\u001b[1;32m    541\u001b[0m         \u001b[0;32mtry\u001b[0m\u001b[0;34m:\u001b[0m\u001b[0;34m\u001b[0m\u001b[0;34m\u001b[0m\u001b[0m\n\u001b[0;32m--> 542\u001b[0;31m             \u001b[0;32mreturn\u001b[0m \u001b[0mfuture\u001b[0m\u001b[0;34m.\u001b[0m\u001b[0mresult\u001b[0m\u001b[0;34m(\u001b[0m\u001b[0mtimeout\u001b[0m\u001b[0;34m=\u001b[0m\u001b[0mtimeout\u001b[0m\u001b[0;34m)\u001b[0m\u001b[0;34m\u001b[0m\u001b[0;34m\u001b[0m\u001b[0m\n\u001b[0m\u001b[1;32m    543\u001b[0m         \u001b[0;32mexcept\u001b[0m \u001b[0mCfTimeoutError\u001b[0m \u001b[0;32mas\u001b[0m \u001b[0me\u001b[0m\u001b[0;34m:\u001b[0m\u001b[0;34m\u001b[0m\u001b[0;34m\u001b[0m\u001b[0m\n\u001b[1;32m    544\u001b[0m             \u001b[0;32mraise\u001b[0m \u001b[0mTimeoutError\u001b[0m \u001b[0;32mfrom\u001b[0m \u001b[0me\u001b[0m\u001b[0;34m\u001b[0m\u001b[0;34m\u001b[0m\u001b[0m\n",
            "\u001b[0;32m/usr/lib/python3.7/concurrent/futures/_base.py\u001b[0m in \u001b[0;36mresult\u001b[0;34m(self, timeout)\u001b[0m\n\u001b[1;32m    428\u001b[0m                 \u001b[0;32mreturn\u001b[0m \u001b[0mself\u001b[0m\u001b[0;34m.\u001b[0m\u001b[0m__get_result\u001b[0m\u001b[0;34m(\u001b[0m\u001b[0;34m)\u001b[0m\u001b[0;34m\u001b[0m\u001b[0;34m\u001b[0m\u001b[0m\n\u001b[1;32m    429\u001b[0m \u001b[0;34m\u001b[0m\u001b[0m\n\u001b[0;32m--> 430\u001b[0;31m             \u001b[0mself\u001b[0m\u001b[0;34m.\u001b[0m\u001b[0m_condition\u001b[0m\u001b[0;34m.\u001b[0m\u001b[0mwait\u001b[0m\u001b[0;34m(\u001b[0m\u001b[0mtimeout\u001b[0m\u001b[0;34m)\u001b[0m\u001b[0;34m\u001b[0m\u001b[0;34m\u001b[0m\u001b[0m\n\u001b[0m\u001b[1;32m    431\u001b[0m \u001b[0;34m\u001b[0m\u001b[0m\n\u001b[1;32m    432\u001b[0m             \u001b[0;32mif\u001b[0m \u001b[0mself\u001b[0m\u001b[0;34m.\u001b[0m\u001b[0m_state\u001b[0m \u001b[0;32min\u001b[0m \u001b[0;34m[\u001b[0m\u001b[0mCANCELLED\u001b[0m\u001b[0;34m,\u001b[0m \u001b[0mCANCELLED_AND_NOTIFIED\u001b[0m\u001b[0;34m]\u001b[0m\u001b[0;34m:\u001b[0m\u001b[0;34m\u001b[0m\u001b[0;34m\u001b[0m\u001b[0m\n",
            "\u001b[0;32m/usr/lib/python3.7/threading.py\u001b[0m in \u001b[0;36mwait\u001b[0;34m(self, timeout)\u001b[0m\n\u001b[1;32m    294\u001b[0m         \u001b[0;32mtry\u001b[0m\u001b[0;34m:\u001b[0m    \u001b[0;31m# restore state no matter what (e.g., KeyboardInterrupt)\u001b[0m\u001b[0;34m\u001b[0m\u001b[0;34m\u001b[0m\u001b[0m\n\u001b[1;32m    295\u001b[0m             \u001b[0;32mif\u001b[0m \u001b[0mtimeout\u001b[0m \u001b[0;32mis\u001b[0m \u001b[0;32mNone\u001b[0m\u001b[0;34m:\u001b[0m\u001b[0;34m\u001b[0m\u001b[0;34m\u001b[0m\u001b[0m\n\u001b[0;32m--> 296\u001b[0;31m                 \u001b[0mwaiter\u001b[0m\u001b[0;34m.\u001b[0m\u001b[0macquire\u001b[0m\u001b[0;34m(\u001b[0m\u001b[0;34m)\u001b[0m\u001b[0;34m\u001b[0m\u001b[0;34m\u001b[0m\u001b[0m\n\u001b[0m\u001b[1;32m    297\u001b[0m                 \u001b[0mgotit\u001b[0m \u001b[0;34m=\u001b[0m \u001b[0;32mTrue\u001b[0m\u001b[0;34m\u001b[0m\u001b[0;34m\u001b[0m\u001b[0m\n\u001b[1;32m    298\u001b[0m             \u001b[0;32melse\u001b[0m\u001b[0;34m:\u001b[0m\u001b[0;34m\u001b[0m\u001b[0;34m\u001b[0m\u001b[0m\n",
            "\u001b[0;31mKeyboardInterrupt\u001b[0m: "
          ]
        }
      ]
    },
    {
      "cell_type": "code",
      "metadata": {
        "colab": {
          "base_uri": "https://localhost:8080/"
        },
        "id": "PMaafAPPv9al",
        "outputId": "dc4d6b8a-68cb-4a31-b30e-81a8249db05f"
      },
      "source": [
        "import pickle\n",
        "file_name = \"xgb18.pkl\"\n",
        "# save\n",
        "pickle.dump(model, open(file_name, \"wb\"))\n",
        "# load\n",
        "xgb_model_loaded = pickle.load(open(file_name, \"rb\"))"
      ],
      "execution_count": null,
      "outputs": [
        {
          "output_type": "stream",
          "text": [
            "[11:17:58] WARNING: /workspace/src/objective/regression_obj.cu:152: reg:linear is now deprecated in favor of reg:squarederror.\n"
          ],
          "name": "stdout"
        }
      ]
    },
    {
      "cell_type": "code",
      "metadata": {
        "id": "M_iVyJflu37F"
      },
      "source": [
        "model.save_model(\"xgb1\")"
      ],
      "execution_count": null,
      "outputs": []
    },
    {
      "cell_type": "code",
      "metadata": {
        "colab": {
          "base_uri": "https://localhost:8080/"
        },
        "id": "ZQX82qetusPN",
        "outputId": "b3210b2c-cba6-4404-a570-5b133e44e7e4"
      },
      "source": [
        "pred[:20], y_test[:20]"
      ],
      "execution_count": null,
      "outputs": [
        {
          "output_type": "execute_result",
          "data": {
            "text/plain": [
              "(array([-0.01024741, -0.03901118,  0.00360879, -0.09892142,  0.00504762,\n",
              "        -0.03581309, -0.01101601, -0.00100344, -0.04199165, -0.01530463,\n",
              "        -0.04486769,  0.02433002, -0.10016418,  0.09098312, -0.01319069,\n",
              "        -0.0124864 , -0.00303608,  0.02020893, -0.23303032, -0.24476993],\n",
              "       dtype=float32),        steer\n",
              " 12475   0.00\n",
              " 43748  -0.05\n",
              " 25982   0.00\n",
              " 6839   -0.10\n",
              " 34240   0.00\n",
              " 17311   0.00\n",
              " 3609    0.00\n",
              " 9767    0.00\n",
              " 30903  -0.05\n",
              " 19688  -0.05\n",
              " 41292  -0.05\n",
              " 45221   0.05\n",
              " 9186   -0.10\n",
              " 14811   0.10\n",
              " 5169    0.00\n",
              " 40936   0.00\n",
              " 19217   0.00\n",
              " 24556   0.00\n",
              " 49203  -0.20\n",
              " 40636  -0.25)"
            ]
          },
          "metadata": {
            "tags": []
          },
          "execution_count": 64
        }
      ]
    },
    {
      "cell_type": "code",
      "metadata": {
        "colab": {
          "base_uri": "https://localhost:8080/"
        },
        "id": "dAUMuvzwnHg-",
        "outputId": "c33ed434-41a8-4604-cef6-c61b29a4e54f"
      },
      "source": [
        "X = np.array(X_train)\n",
        "y = np.array(y_train)\n",
        "i = np.array(X_test)\n",
        "j = np.array(y_test)\n",
        "X.shape, y.shape, i.shape, j.shape"
      ],
      "execution_count": null,
      "outputs": [
        {
          "output_type": "execute_result",
          "data": {
            "text/plain": [
              "((47107, 8), (47107, 2), (5235, 8), (5235, 2))"
            ]
          },
          "metadata": {
            "tags": []
          },
          "execution_count": 50
        }
      ]
    },
    {
      "cell_type": "code",
      "metadata": {
        "id": "171zgePgluus"
      },
      "source": [
        "from sklearn.multioutput import MultiOutputRegressor\n",
        "# get some noised linear data\n",
        "X = np.random.random((1000, 10))\n",
        "a = np.random.random((10, 3))\n",
        "y = np.dot(X, a) + np.random.normal(0, 1e-3, (1000, 3))\n",
        "\n",
        "# fitting\n",
        "multioutputregressor = MultiOutputRegressor(XGBRegressor(objective='reg:linear',n_estimators=1000, max_depth=7, eta=0.1, subsample=0.7, colsample_bytree=0.8))\n",
        "\n",
        "# predicting\n",
        "#print (np.mean((multioutputregressor.predict(X) - y)**2, axis=0))  # 0.004, 0.003, 0.005)))"
      ],
      "execution_count": null,
      "outputs": []
    },
    {
      "cell_type": "code",
      "metadata": {
        "colab": {
          "base_uri": "https://localhost:8080/"
        },
        "id": "TiJ-4icrnamq",
        "outputId": "8f010864-b0ef-4e7a-ab24-ae65a7e8c1ac"
      },
      "source": [
        "multioutputregressor.fit(X, y)"
      ],
      "execution_count": null,
      "outputs": [
        {
          "output_type": "stream",
          "text": [
            "/usr/local/lib/python3.7/dist-packages/xgboost/core.py:613: UserWarning: Use subset (sliced data) of np.ndarray is not recommended because it will generate extra copies and increase memory consumption\n",
            "  warnings.warn(\"Use subset (sliced data) of np.ndarray is not recommended \" +\n"
          ],
          "name": "stderr"
        },
        {
          "output_type": "stream",
          "text": [
            "[03:32:51] WARNING: /workspace/src/objective/regression_obj.cu:152: reg:linear is now deprecated in favor of reg:squarederror.\n",
            "[03:32:52] WARNING: /workspace/src/objective/regression_obj.cu:152: reg:linear is now deprecated in favor of reg:squarederror.\n",
            "[03:32:53] WARNING: /workspace/src/objective/regression_obj.cu:152: reg:linear is now deprecated in favor of reg:squarederror.\n"
          ],
          "name": "stdout"
        },
        {
          "output_type": "execute_result",
          "data": {
            "text/plain": [
              "MultiOutputRegressor(estimator=XGBRegressor(base_score=0.5, booster='gbtree',\n",
              "                                            colsample_bylevel=1,\n",
              "                                            colsample_bynode=1,\n",
              "                                            colsample_bytree=0.8, eta=0.1,\n",
              "                                            gamma=0, importance_type='gain',\n",
              "                                            learning_rate=0.1, max_delta_step=0,\n",
              "                                            max_depth=7, min_child_weight=1,\n",
              "                                            missing=None, n_estimators=1000,\n",
              "                                            n_jobs=1, nthread=None,\n",
              "                                            objective='reg:linear',\n",
              "                                            random_state=0, reg_alpha=0,\n",
              "                                            reg_lambda=1, scale_pos_weight=1,\n",
              "                                            seed=None, silent=None,\n",
              "                                            subsample=0.7, verbosity=1),\n",
              "                     n_jobs=None)"
            ]
          },
          "metadata": {
            "tags": []
          },
          "execution_count": 52
        }
      ]
    },
    {
      "cell_type": "code",
      "metadata": {
        "colab": {
          "base_uri": "https://localhost:8080/",
          "height": 330
        },
        "id": "9pIWxr3ZmF0r",
        "outputId": "ba455a8f-f46c-4b89-a16d-71138d158e02"
      },
      "source": [
        "pred = multioutputregressor.predict(i)"
      ],
      "execution_count": null,
      "outputs": [
        {
          "output_type": "error",
          "ename": "ValueError",
          "evalue": "ignored",
          "traceback": [
            "\u001b[0;31m---------------------------------------------------------------------------\u001b[0m",
            "\u001b[0;31mValueError\u001b[0m                                Traceback (most recent call last)",
            "\u001b[0;32m<ipython-input-56-c9c82f597c6e>\u001b[0m in \u001b[0;36m<module>\u001b[0;34m()\u001b[0m\n\u001b[0;32m----> 1\u001b[0;31m \u001b[0mmultioutputregressor\u001b[0m\u001b[0;34m.\u001b[0m\u001b[0mpredict\u001b[0m\u001b[0;34m(\u001b[0m\u001b[0mi\u001b[0m\u001b[0;34m)\u001b[0m\u001b[0;34m\u001b[0m\u001b[0;34m\u001b[0m\u001b[0m\n\u001b[0m",
            "\u001b[0;32m/usr/local/lib/python3.7/dist-packages/sklearn/multioutput.py\u001b[0m in \u001b[0;36mpredict\u001b[0;34m(self, X)\u001b[0m\n\u001b[1;32m    195\u001b[0m         y = Parallel(n_jobs=self.n_jobs)(\n\u001b[1;32m    196\u001b[0m             \u001b[0mdelayed\u001b[0m\u001b[0;34m(\u001b[0m\u001b[0me\u001b[0m\u001b[0;34m.\u001b[0m\u001b[0mpredict\u001b[0m\u001b[0;34m)\u001b[0m\u001b[0;34m(\u001b[0m\u001b[0mX\u001b[0m\u001b[0;34m)\u001b[0m\u001b[0;34m\u001b[0m\u001b[0;34m\u001b[0m\u001b[0m\n\u001b[0;32m--> 197\u001b[0;31m             for e in self.estimators_)\n\u001b[0m\u001b[1;32m    198\u001b[0m \u001b[0;34m\u001b[0m\u001b[0m\n\u001b[1;32m    199\u001b[0m         \u001b[0;32mreturn\u001b[0m \u001b[0mnp\u001b[0m\u001b[0;34m.\u001b[0m\u001b[0masarray\u001b[0m\u001b[0;34m(\u001b[0m\u001b[0my\u001b[0m\u001b[0;34m)\u001b[0m\u001b[0;34m.\u001b[0m\u001b[0mT\u001b[0m\u001b[0;34m\u001b[0m\u001b[0;34m\u001b[0m\u001b[0m\n",
            "\u001b[0;32m/usr/local/lib/python3.7/dist-packages/joblib/parallel.py\u001b[0m in \u001b[0;36m__call__\u001b[0;34m(self, iterable)\u001b[0m\n\u001b[1;32m   1039\u001b[0m             \u001b[0;31m# remaining jobs.\u001b[0m\u001b[0;34m\u001b[0m\u001b[0;34m\u001b[0m\u001b[0;34m\u001b[0m\u001b[0m\n\u001b[1;32m   1040\u001b[0m             \u001b[0mself\u001b[0m\u001b[0;34m.\u001b[0m\u001b[0m_iterating\u001b[0m \u001b[0;34m=\u001b[0m \u001b[0;32mFalse\u001b[0m\u001b[0;34m\u001b[0m\u001b[0;34m\u001b[0m\u001b[0m\n\u001b[0;32m-> 1041\u001b[0;31m             \u001b[0;32mif\u001b[0m \u001b[0mself\u001b[0m\u001b[0;34m.\u001b[0m\u001b[0mdispatch_one_batch\u001b[0m\u001b[0;34m(\u001b[0m\u001b[0miterator\u001b[0m\u001b[0;34m)\u001b[0m\u001b[0;34m:\u001b[0m\u001b[0;34m\u001b[0m\u001b[0;34m\u001b[0m\u001b[0m\n\u001b[0m\u001b[1;32m   1042\u001b[0m                 \u001b[0mself\u001b[0m\u001b[0;34m.\u001b[0m\u001b[0m_iterating\u001b[0m \u001b[0;34m=\u001b[0m \u001b[0mself\u001b[0m\u001b[0;34m.\u001b[0m\u001b[0m_original_iterator\u001b[0m \u001b[0;32mis\u001b[0m \u001b[0;32mnot\u001b[0m \u001b[0;32mNone\u001b[0m\u001b[0;34m\u001b[0m\u001b[0;34m\u001b[0m\u001b[0m\n\u001b[1;32m   1043\u001b[0m \u001b[0;34m\u001b[0m\u001b[0m\n",
            "\u001b[0;32m/usr/local/lib/python3.7/dist-packages/joblib/parallel.py\u001b[0m in \u001b[0;36mdispatch_one_batch\u001b[0;34m(self, iterator)\u001b[0m\n\u001b[1;32m    857\u001b[0m                 \u001b[0;32mreturn\u001b[0m \u001b[0;32mFalse\u001b[0m\u001b[0;34m\u001b[0m\u001b[0;34m\u001b[0m\u001b[0m\n\u001b[1;32m    858\u001b[0m             \u001b[0;32melse\u001b[0m\u001b[0;34m:\u001b[0m\u001b[0;34m\u001b[0m\u001b[0;34m\u001b[0m\u001b[0m\n\u001b[0;32m--> 859\u001b[0;31m                 \u001b[0mself\u001b[0m\u001b[0;34m.\u001b[0m\u001b[0m_dispatch\u001b[0m\u001b[0;34m(\u001b[0m\u001b[0mtasks\u001b[0m\u001b[0;34m)\u001b[0m\u001b[0;34m\u001b[0m\u001b[0;34m\u001b[0m\u001b[0m\n\u001b[0m\u001b[1;32m    860\u001b[0m                 \u001b[0;32mreturn\u001b[0m \u001b[0;32mTrue\u001b[0m\u001b[0;34m\u001b[0m\u001b[0;34m\u001b[0m\u001b[0m\n\u001b[1;32m    861\u001b[0m \u001b[0;34m\u001b[0m\u001b[0m\n",
            "\u001b[0;32m/usr/local/lib/python3.7/dist-packages/joblib/parallel.py\u001b[0m in \u001b[0;36m_dispatch\u001b[0;34m(self, batch)\u001b[0m\n\u001b[1;32m    775\u001b[0m         \u001b[0;32mwith\u001b[0m \u001b[0mself\u001b[0m\u001b[0;34m.\u001b[0m\u001b[0m_lock\u001b[0m\u001b[0;34m:\u001b[0m\u001b[0;34m\u001b[0m\u001b[0;34m\u001b[0m\u001b[0m\n\u001b[1;32m    776\u001b[0m             \u001b[0mjob_idx\u001b[0m \u001b[0;34m=\u001b[0m \u001b[0mlen\u001b[0m\u001b[0;34m(\u001b[0m\u001b[0mself\u001b[0m\u001b[0;34m.\u001b[0m\u001b[0m_jobs\u001b[0m\u001b[0;34m)\u001b[0m\u001b[0;34m\u001b[0m\u001b[0;34m\u001b[0m\u001b[0m\n\u001b[0;32m--> 777\u001b[0;31m             \u001b[0mjob\u001b[0m \u001b[0;34m=\u001b[0m \u001b[0mself\u001b[0m\u001b[0;34m.\u001b[0m\u001b[0m_backend\u001b[0m\u001b[0;34m.\u001b[0m\u001b[0mapply_async\u001b[0m\u001b[0;34m(\u001b[0m\u001b[0mbatch\u001b[0m\u001b[0;34m,\u001b[0m \u001b[0mcallback\u001b[0m\u001b[0;34m=\u001b[0m\u001b[0mcb\u001b[0m\u001b[0;34m)\u001b[0m\u001b[0;34m\u001b[0m\u001b[0;34m\u001b[0m\u001b[0m\n\u001b[0m\u001b[1;32m    778\u001b[0m             \u001b[0;31m# A job can complete so quickly than its callback is\u001b[0m\u001b[0;34m\u001b[0m\u001b[0;34m\u001b[0m\u001b[0;34m\u001b[0m\u001b[0m\n\u001b[1;32m    779\u001b[0m             \u001b[0;31m# called before we get here, causing self._jobs to\u001b[0m\u001b[0;34m\u001b[0m\u001b[0;34m\u001b[0m\u001b[0;34m\u001b[0m\u001b[0m\n",
            "\u001b[0;32m/usr/local/lib/python3.7/dist-packages/joblib/_parallel_backends.py\u001b[0m in \u001b[0;36mapply_async\u001b[0;34m(self, func, callback)\u001b[0m\n\u001b[1;32m    206\u001b[0m     \u001b[0;32mdef\u001b[0m \u001b[0mapply_async\u001b[0m\u001b[0;34m(\u001b[0m\u001b[0mself\u001b[0m\u001b[0;34m,\u001b[0m \u001b[0mfunc\u001b[0m\u001b[0;34m,\u001b[0m \u001b[0mcallback\u001b[0m\u001b[0;34m=\u001b[0m\u001b[0;32mNone\u001b[0m\u001b[0;34m)\u001b[0m\u001b[0;34m:\u001b[0m\u001b[0;34m\u001b[0m\u001b[0;34m\u001b[0m\u001b[0m\n\u001b[1;32m    207\u001b[0m         \u001b[0;34m\"\"\"Schedule a func to be run\"\"\"\u001b[0m\u001b[0;34m\u001b[0m\u001b[0;34m\u001b[0m\u001b[0m\n\u001b[0;32m--> 208\u001b[0;31m         \u001b[0mresult\u001b[0m \u001b[0;34m=\u001b[0m \u001b[0mImmediateResult\u001b[0m\u001b[0;34m(\u001b[0m\u001b[0mfunc\u001b[0m\u001b[0;34m)\u001b[0m\u001b[0;34m\u001b[0m\u001b[0;34m\u001b[0m\u001b[0m\n\u001b[0m\u001b[1;32m    209\u001b[0m         \u001b[0;32mif\u001b[0m \u001b[0mcallback\u001b[0m\u001b[0;34m:\u001b[0m\u001b[0;34m\u001b[0m\u001b[0;34m\u001b[0m\u001b[0m\n\u001b[1;32m    210\u001b[0m             \u001b[0mcallback\u001b[0m\u001b[0;34m(\u001b[0m\u001b[0mresult\u001b[0m\u001b[0;34m)\u001b[0m\u001b[0;34m\u001b[0m\u001b[0;34m\u001b[0m\u001b[0m\n",
            "\u001b[0;32m/usr/local/lib/python3.7/dist-packages/joblib/_parallel_backends.py\u001b[0m in \u001b[0;36m__init__\u001b[0;34m(self, batch)\u001b[0m\n\u001b[1;32m    570\u001b[0m         \u001b[0;31m# Don't delay the application, to avoid keeping the input\u001b[0m\u001b[0;34m\u001b[0m\u001b[0;34m\u001b[0m\u001b[0;34m\u001b[0m\u001b[0m\n\u001b[1;32m    571\u001b[0m         \u001b[0;31m# arguments in memory\u001b[0m\u001b[0;34m\u001b[0m\u001b[0;34m\u001b[0m\u001b[0;34m\u001b[0m\u001b[0m\n\u001b[0;32m--> 572\u001b[0;31m         \u001b[0mself\u001b[0m\u001b[0;34m.\u001b[0m\u001b[0mresults\u001b[0m \u001b[0;34m=\u001b[0m \u001b[0mbatch\u001b[0m\u001b[0;34m(\u001b[0m\u001b[0;34m)\u001b[0m\u001b[0;34m\u001b[0m\u001b[0;34m\u001b[0m\u001b[0m\n\u001b[0m\u001b[1;32m    573\u001b[0m \u001b[0;34m\u001b[0m\u001b[0m\n\u001b[1;32m    574\u001b[0m     \u001b[0;32mdef\u001b[0m \u001b[0mget\u001b[0m\u001b[0;34m(\u001b[0m\u001b[0mself\u001b[0m\u001b[0;34m)\u001b[0m\u001b[0;34m:\u001b[0m\u001b[0;34m\u001b[0m\u001b[0;34m\u001b[0m\u001b[0m\n",
            "\u001b[0;32m/usr/local/lib/python3.7/dist-packages/joblib/parallel.py\u001b[0m in \u001b[0;36m__call__\u001b[0;34m(self)\u001b[0m\n\u001b[1;32m    261\u001b[0m         \u001b[0;32mwith\u001b[0m \u001b[0mparallel_backend\u001b[0m\u001b[0;34m(\u001b[0m\u001b[0mself\u001b[0m\u001b[0;34m.\u001b[0m\u001b[0m_backend\u001b[0m\u001b[0;34m,\u001b[0m \u001b[0mn_jobs\u001b[0m\u001b[0;34m=\u001b[0m\u001b[0mself\u001b[0m\u001b[0;34m.\u001b[0m\u001b[0m_n_jobs\u001b[0m\u001b[0;34m)\u001b[0m\u001b[0;34m:\u001b[0m\u001b[0;34m\u001b[0m\u001b[0;34m\u001b[0m\u001b[0m\n\u001b[1;32m    262\u001b[0m             return [func(*args, **kwargs)\n\u001b[0;32m--> 263\u001b[0;31m                     for func, args, kwargs in self.items]\n\u001b[0m\u001b[1;32m    264\u001b[0m \u001b[0;34m\u001b[0m\u001b[0m\n\u001b[1;32m    265\u001b[0m     \u001b[0;32mdef\u001b[0m \u001b[0m__reduce__\u001b[0m\u001b[0;34m(\u001b[0m\u001b[0mself\u001b[0m\u001b[0;34m)\u001b[0m\u001b[0;34m:\u001b[0m\u001b[0;34m\u001b[0m\u001b[0;34m\u001b[0m\u001b[0m\n",
            "\u001b[0;32m/usr/local/lib/python3.7/dist-packages/joblib/parallel.py\u001b[0m in \u001b[0;36m<listcomp>\u001b[0;34m(.0)\u001b[0m\n\u001b[1;32m    261\u001b[0m         \u001b[0;32mwith\u001b[0m \u001b[0mparallel_backend\u001b[0m\u001b[0;34m(\u001b[0m\u001b[0mself\u001b[0m\u001b[0;34m.\u001b[0m\u001b[0m_backend\u001b[0m\u001b[0;34m,\u001b[0m \u001b[0mn_jobs\u001b[0m\u001b[0;34m=\u001b[0m\u001b[0mself\u001b[0m\u001b[0;34m.\u001b[0m\u001b[0m_n_jobs\u001b[0m\u001b[0;34m)\u001b[0m\u001b[0;34m:\u001b[0m\u001b[0;34m\u001b[0m\u001b[0;34m\u001b[0m\u001b[0m\n\u001b[1;32m    262\u001b[0m             return [func(*args, **kwargs)\n\u001b[0;32m--> 263\u001b[0;31m                     for func, args, kwargs in self.items]\n\u001b[0m\u001b[1;32m    264\u001b[0m \u001b[0;34m\u001b[0m\u001b[0m\n\u001b[1;32m    265\u001b[0m     \u001b[0;32mdef\u001b[0m \u001b[0m__reduce__\u001b[0m\u001b[0;34m(\u001b[0m\u001b[0mself\u001b[0m\u001b[0;34m)\u001b[0m\u001b[0;34m:\u001b[0m\u001b[0;34m\u001b[0m\u001b[0;34m\u001b[0m\u001b[0m\n",
            "\u001b[0;32m/usr/local/lib/python3.7/dist-packages/xgboost/sklearn.py\u001b[0m in \u001b[0;36mpredict\u001b[0;34m(self, data, output_margin, ntree_limit, validate_features)\u001b[0m\n\u001b[1;32m    454\u001b[0m                                           \u001b[0moutput_margin\u001b[0m\u001b[0;34m=\u001b[0m\u001b[0moutput_margin\u001b[0m\u001b[0;34m,\u001b[0m\u001b[0;34m\u001b[0m\u001b[0;34m\u001b[0m\u001b[0m\n\u001b[1;32m    455\u001b[0m                                           \u001b[0mntree_limit\u001b[0m\u001b[0;34m=\u001b[0m\u001b[0mntree_limit\u001b[0m\u001b[0;34m,\u001b[0m\u001b[0;34m\u001b[0m\u001b[0;34m\u001b[0m\u001b[0m\n\u001b[0;32m--> 456\u001b[0;31m                                           validate_features=validate_features)\n\u001b[0m\u001b[1;32m    457\u001b[0m \u001b[0;34m\u001b[0m\u001b[0m\n\u001b[1;32m    458\u001b[0m     \u001b[0;32mdef\u001b[0m \u001b[0mapply\u001b[0m\u001b[0;34m(\u001b[0m\u001b[0mself\u001b[0m\u001b[0;34m,\u001b[0m \u001b[0mX\u001b[0m\u001b[0;34m,\u001b[0m \u001b[0mntree_limit\u001b[0m\u001b[0;34m=\u001b[0m\u001b[0;36m0\u001b[0m\u001b[0;34m)\u001b[0m\u001b[0;34m:\u001b[0m\u001b[0;34m\u001b[0m\u001b[0;34m\u001b[0m\u001b[0m\n",
            "\u001b[0;32m/usr/local/lib/python3.7/dist-packages/xgboost/core.py\u001b[0m in \u001b[0;36mpredict\u001b[0;34m(self, data, output_margin, ntree_limit, pred_leaf, pred_contribs, approx_contribs, pred_interactions, validate_features)\u001b[0m\n\u001b[1;32m   1282\u001b[0m \u001b[0;34m\u001b[0m\u001b[0m\n\u001b[1;32m   1283\u001b[0m         \u001b[0;32mif\u001b[0m \u001b[0mvalidate_features\u001b[0m\u001b[0;34m:\u001b[0m\u001b[0;34m\u001b[0m\u001b[0;34m\u001b[0m\u001b[0m\n\u001b[0;32m-> 1284\u001b[0;31m             \u001b[0mself\u001b[0m\u001b[0;34m.\u001b[0m\u001b[0m_validate_features\u001b[0m\u001b[0;34m(\u001b[0m\u001b[0mdata\u001b[0m\u001b[0;34m)\u001b[0m\u001b[0;34m\u001b[0m\u001b[0;34m\u001b[0m\u001b[0m\n\u001b[0m\u001b[1;32m   1285\u001b[0m \u001b[0;34m\u001b[0m\u001b[0m\n\u001b[1;32m   1286\u001b[0m         \u001b[0mlength\u001b[0m \u001b[0;34m=\u001b[0m \u001b[0mc_bst_ulong\u001b[0m\u001b[0;34m(\u001b[0m\u001b[0;34m)\u001b[0m\u001b[0;34m\u001b[0m\u001b[0;34m\u001b[0m\u001b[0m\n",
            "\u001b[0;32m/usr/local/lib/python3.7/dist-packages/xgboost/core.py\u001b[0m in \u001b[0;36m_validate_features\u001b[0;34m(self, data)\u001b[0m\n\u001b[1;32m   1688\u001b[0m \u001b[0;34m\u001b[0m\u001b[0m\n\u001b[1;32m   1689\u001b[0m                 raise ValueError(msg.format(self.feature_names,\n\u001b[0;32m-> 1690\u001b[0;31m                                             data.feature_names))\n\u001b[0m\u001b[1;32m   1691\u001b[0m \u001b[0;34m\u001b[0m\u001b[0m\n\u001b[1;32m   1692\u001b[0m     \u001b[0;32mdef\u001b[0m \u001b[0mget_split_value_histogram\u001b[0m\u001b[0;34m(\u001b[0m\u001b[0mself\u001b[0m\u001b[0;34m,\u001b[0m \u001b[0mfeature\u001b[0m\u001b[0;34m,\u001b[0m \u001b[0mfmap\u001b[0m\u001b[0;34m=\u001b[0m\u001b[0;34m''\u001b[0m\u001b[0;34m,\u001b[0m \u001b[0mbins\u001b[0m\u001b[0;34m=\u001b[0m\u001b[0;32mNone\u001b[0m\u001b[0;34m,\u001b[0m \u001b[0mas_pandas\u001b[0m\u001b[0;34m=\u001b[0m\u001b[0;32mTrue\u001b[0m\u001b[0;34m)\u001b[0m\u001b[0;34m:\u001b[0m\u001b[0;34m\u001b[0m\u001b[0;34m\u001b[0m\u001b[0m\n",
            "\u001b[0;31mValueError\u001b[0m: feature_names mismatch: ['f0', 'f1', 'f2', 'f3', 'f4', 'f5', 'f6', 'f7', 'f8', 'f9'] ['f0', 'f1', 'f2', 'f3', 'f4', 'f5', 'f6', 'f7']\nexpected f8, f9 in input data"
          ]
        }
      ]
    },
    {
      "cell_type": "code",
      "metadata": {
        "colab": {
          "base_uri": "https://localhost:8080/"
        },
        "id": "OoH-MqgPmqIE",
        "outputId": "18f2b61f-b593-423f-f786-f6495cdafe8d"
      },
      "source": [
        "X"
      ],
      "execution_count": null,
      "outputs": [
        {
          "output_type": "execute_result",
          "data": {
            "text/plain": [
              "array([[3.36107351e-01, 6.31737815e-01, 7.99305261e-01, ...,\n",
              "        8.25785387e-01, 7.62138883e-02, 6.31940446e-02],\n",
              "       [1.12920455e-01, 5.52271205e-02, 9.36874743e-01, ...,\n",
              "        7.17649639e-01, 9.18432875e-01, 7.38351197e-01],\n",
              "       [2.97329985e-01, 8.56765634e-02, 2.54756180e-01, ...,\n",
              "        2.47971258e-01, 2.40132190e-01, 5.04132131e-01],\n",
              "       ...,\n",
              "       [9.19316413e-02, 5.48324310e-01, 2.71193092e-01, ...,\n",
              "        7.96259281e-01, 9.91329004e-01, 2.86139663e-01],\n",
              "       [6.75309163e-01, 5.86886115e-01, 9.29128026e-01, ...,\n",
              "        4.18466560e-01, 8.77040196e-01, 3.63512820e-01],\n",
              "       [9.28941364e-01, 2.37244627e-01, 1.03835000e-04, ...,\n",
              "        3.18335948e-01, 9.72245033e-01, 9.73871487e-01]])"
            ]
          },
          "metadata": {
            "tags": []
          },
          "execution_count": 55
        }
      ]
    },
    {
      "cell_type": "code",
      "metadata": {
        "colab": {
          "base_uri": "https://localhost:8080/"
        },
        "id": "xgiEsaZbn-v0",
        "outputId": "be9c0bf0-25a3-48bf-8b0e-0021c1801952"
      },
      "source": [
        "i.shape"
      ],
      "execution_count": null,
      "outputs": [
        {
          "output_type": "execute_result",
          "data": {
            "text/plain": [
              "(1, 5235, 8)"
            ]
          },
          "metadata": {
            "tags": []
          },
          "execution_count": 42
        }
      ]
    },
    {
      "cell_type": "code",
      "metadata": {
        "id": "YAQPnKoNoF7C"
      },
      "source": [
        ""
      ],
      "execution_count": null,
      "outputs": []
    }
  ]
}